{
 "cells": [
  {
   "cell_type": "markdown",
   "id": "6664f41d",
   "metadata": {},
   "source": [
    "# Model Training\n",
    "\n",
    "This notebook holds a proof of concept of how the CreditKarma Scorer model would be trained using the gold table. CreditKarma Scorer is a binary classification logistic regression model that outputs the **probability of a customer defaulting their loan**. Loaning decisions are made by setting a threshold probability based on **F1.5-score**, as we want to be conservative in giving out loans and prioritize low-risk individuals (i.e. minimize false negatives from CreditKarma Scorer, which rates a high risk individual as low risk)."
   ]
  },
  {
   "cell_type": "code",
   "execution_count": 18,
   "id": "a59d32bc",
   "metadata": {},
   "outputs": [],
   "source": [
    "import os\n",
    "import glob\n",
    "import pandas as pd\n",
    "import matplotlib.pyplot as plt\n",
    "import numpy as np\n",
    "import pyspark\n",
    "from datetime import datetime, timedelta\n",
    "from dateutil.relativedelta import relativedelta\n",
    "\n",
    "from tqdm import tqdm\n",
    "import itertools\n",
    "\n",
    "from sklearn.model_selection import train_test_split\n",
    "from sklearn.pipeline import Pipeline, make_pipeline\n",
    "from sklearn.preprocessing import StandardScaler\n",
    "from sklearn.impute import SimpleImputer\n",
    "from sklearn.linear_model import LogisticRegression\n",
    "from sklearn.metrics import roc_auc_score, fbeta_score, confusion_matrix, ConfusionMatrixDisplay\n",
    "import numpy as np\n",
    "\n",
    "import pickle\n",
    "import joblib\n",
    "\n",
    "import mlflow\n",
    "from mlflow.models import infer_signature\n",
    "from mlflow.tracking import MlflowClient"
   ]
  },
  {
   "cell_type": "markdown",
   "id": "d7991f63",
   "metadata": {},
   "source": [
    "# Data Preprocessing"
   ]
  },
  {
   "cell_type": "markdown",
   "id": "e3aefaba",
   "metadata": {},
   "source": [
    "**Import data from gold table**"
   ]
  },
  {
   "cell_type": "code",
   "execution_count": 19,
   "id": "946846f6",
   "metadata": {},
   "outputs": [],
   "source": [
    "spark = pyspark.sql.SparkSession.builder \\\n",
    "    .appName(\"model-training\") \\\n",
    "    .master(\"local[*]\") \\\n",
    "    .getOrCreate()"
   ]
  },
  {
   "cell_type": "code",
   "execution_count": 29,
   "id": "80ae8b14",
   "metadata": {},
   "outputs": [],
   "source": [
    "def read_gold_table(table, gold_db, spark):\n",
    "    \"\"\"\n",
    "    Helper function to read all partitions of a gold table\n",
    "    \"\"\"\n",
    "    folder_path = os.path.join(gold_db, table)\n",
    "    files_list = [os.path.join(folder_path, os.path.basename(f)) for f in glob.glob(os.path.join(folder_path, '*'))]\n",
    "    df = spark.read.option(\"header\", \"true\").option(\"mergeSchema\", \"true\").parquet(*files_list)\n",
    "    return df\n"
   ]
  },
  {
   "cell_type": "code",
   "execution_count": 30,
   "id": "6fdcaa79",
   "metadata": {},
   "outputs": [],
   "source": [
    "X_spark = read_gold_table('feature_store', 'datamart/gold', spark)\n",
    "y_spark = read_gold_table('label_store', 'datamart/gold', spark)"
   ]
  },
  {
   "cell_type": "code",
   "execution_count": 31,
   "id": "4723f900",
   "metadata": {},
   "outputs": [
    {
     "name": "stderr",
     "output_type": "stream",
     "text": [
      "                                                                                \r"
     ]
    }
   ],
   "source": [
    "X_df = X_spark.toPandas().sort_values(by='customer_id')\n",
    "y_df = y_spark.toPandas().sort_values(by='customer_id')"
   ]
  },
  {
   "cell_type": "code",
   "execution_count": 32,
   "id": "ed319ef2",
   "metadata": {},
   "outputs": [
    {
     "data": {
      "text/html": [
       "<div>\n",
       "<style scoped>\n",
       "    .dataframe tbody tr th:only-of-type {\n",
       "        vertical-align: middle;\n",
       "    }\n",
       "\n",
       "    .dataframe tbody tr th {\n",
       "        vertical-align: top;\n",
       "    }\n",
       "\n",
       "    .dataframe thead th {\n",
       "        text-align: right;\n",
       "    }\n",
       "</style>\n",
       "<table border=\"1\" class=\"dataframe\">\n",
       "  <thead>\n",
       "    <tr style=\"text-align: right;\">\n",
       "      <th></th>\n",
       "      <th>customer_id</th>\n",
       "      <th>snapshot_date</th>\n",
       "      <th>age</th>\n",
       "      <th>annual_income</th>\n",
       "      <th>monthly_inhand_salary</th>\n",
       "      <th>num_bank_accounts</th>\n",
       "      <th>num_credit_card</th>\n",
       "      <th>interest_rate</th>\n",
       "      <th>num_of_loan</th>\n",
       "      <th>delay_from_due_date</th>\n",
       "      <th>...</th>\n",
       "      <th>payment_of_min_amount_no</th>\n",
       "      <th>payment_of_min_amount_nm</th>\n",
       "      <th>credit_mix_standard</th>\n",
       "      <th>credit_mix_good</th>\n",
       "      <th>credit_mix_bad</th>\n",
       "      <th>payment_behaviour_spent_low</th>\n",
       "      <th>payment_behaviour_spent_high</th>\n",
       "      <th>payment_behaviour_value_small</th>\n",
       "      <th>payment_behaviour_value_medium</th>\n",
       "      <th>payment_behaviour_value_large</th>\n",
       "    </tr>\n",
       "  </thead>\n",
       "  <tbody>\n",
       "    <tr>\n",
       "      <th>1705</th>\n",
       "      <td>CUS_0x1000</td>\n",
       "      <td>2023-05-01</td>\n",
       "      <td>18.0</td>\n",
       "      <td>30625.939453</td>\n",
       "      <td>2706.161621</td>\n",
       "      <td>6.0</td>\n",
       "      <td>5.0</td>\n",
       "      <td>27.0</td>\n",
       "      <td>2.0</td>\n",
       "      <td>57.0</td>\n",
       "      <td>...</td>\n",
       "      <td>0</td>\n",
       "      <td>0</td>\n",
       "      <td>0</td>\n",
       "      <td>0</td>\n",
       "      <td>1</td>\n",
       "      <td>0</td>\n",
       "      <td>1</td>\n",
       "      <td>0</td>\n",
       "      <td>1</td>\n",
       "      <td>0</td>\n",
       "    </tr>\n",
       "    <tr>\n",
       "      <th>30</th>\n",
       "      <td>CUS_0x100b</td>\n",
       "      <td>2024-03-01</td>\n",
       "      <td>19.0</td>\n",
       "      <td>113781.390625</td>\n",
       "      <td>9549.782227</td>\n",
       "      <td>1.0</td>\n",
       "      <td>4.0</td>\n",
       "      <td>1.0</td>\n",
       "      <td>0.0</td>\n",
       "      <td>14.0</td>\n",
       "      <td>...</td>\n",
       "      <td>1</td>\n",
       "      <td>0</td>\n",
       "      <td>0</td>\n",
       "      <td>1</td>\n",
       "      <td>0</td>\n",
       "      <td>0</td>\n",
       "      <td>1</td>\n",
       "      <td>1</td>\n",
       "      <td>0</td>\n",
       "      <td>0</td>\n",
       "    </tr>\n",
       "    <tr>\n",
       "      <th>1449</th>\n",
       "      <td>CUS_0x1011</td>\n",
       "      <td>2023-11-01</td>\n",
       "      <td>44.0</td>\n",
       "      <td>58918.468750</td>\n",
       "      <td>5208.872559</td>\n",
       "      <td>3.0</td>\n",
       "      <td>3.0</td>\n",
       "      <td>17.0</td>\n",
       "      <td>3.0</td>\n",
       "      <td>27.0</td>\n",
       "      <td>...</td>\n",
       "      <td>0</td>\n",
       "      <td>0</td>\n",
       "      <td>1</td>\n",
       "      <td>0</td>\n",
       "      <td>0</td>\n",
       "      <td>1</td>\n",
       "      <td>0</td>\n",
       "      <td>0</td>\n",
       "      <td>1</td>\n",
       "      <td>0</td>\n",
       "    </tr>\n",
       "    <tr>\n",
       "      <th>5286</th>\n",
       "      <td>CUS_0x1013</td>\n",
       "      <td>2023-12-01</td>\n",
       "      <td>44.0</td>\n",
       "      <td>98620.976562</td>\n",
       "      <td>7962.415039</td>\n",
       "      <td>3.0</td>\n",
       "      <td>3.0</td>\n",
       "      <td>6.0</td>\n",
       "      <td>3.0</td>\n",
       "      <td>12.0</td>\n",
       "      <td>...</td>\n",
       "      <td>1</td>\n",
       "      <td>0</td>\n",
       "      <td>0</td>\n",
       "      <td>1</td>\n",
       "      <td>0</td>\n",
       "      <td>0</td>\n",
       "      <td>1</td>\n",
       "      <td>0</td>\n",
       "      <td>1</td>\n",
       "      <td>0</td>\n",
       "    </tr>\n",
       "    <tr>\n",
       "      <th>6347</th>\n",
       "      <td>CUS_0x1015</td>\n",
       "      <td>2023-08-01</td>\n",
       "      <td>27.0</td>\n",
       "      <td>46951.019531</td>\n",
       "      <td>3725.584961</td>\n",
       "      <td>7.0</td>\n",
       "      <td>4.0</td>\n",
       "      <td>16.0</td>\n",
       "      <td>0.0</td>\n",
       "      <td>8.0</td>\n",
       "      <td>...</td>\n",
       "      <td>0</td>\n",
       "      <td>1</td>\n",
       "      <td>1</td>\n",
       "      <td>0</td>\n",
       "      <td>0</td>\n",
       "      <td>1</td>\n",
       "      <td>0</td>\n",
       "      <td>1</td>\n",
       "      <td>0</td>\n",
       "      <td>0</td>\n",
       "    </tr>\n",
       "    <tr>\n",
       "      <th>...</th>\n",
       "      <td>...</td>\n",
       "      <td>...</td>\n",
       "      <td>...</td>\n",
       "      <td>...</td>\n",
       "      <td>...</td>\n",
       "      <td>...</td>\n",
       "      <td>...</td>\n",
       "      <td>...</td>\n",
       "      <td>...</td>\n",
       "      <td>...</td>\n",
       "      <td>...</td>\n",
       "      <td>...</td>\n",
       "      <td>...</td>\n",
       "      <td>...</td>\n",
       "      <td>...</td>\n",
       "      <td>...</td>\n",
       "      <td>...</td>\n",
       "      <td>...</td>\n",
       "      <td>...</td>\n",
       "      <td>...</td>\n",
       "      <td>...</td>\n",
       "    </tr>\n",
       "    <tr>\n",
       "      <th>2586</th>\n",
       "      <td>CUS_0xfe5</td>\n",
       "      <td>2023-06-01</td>\n",
       "      <td>38.0</td>\n",
       "      <td>96960.210938</td>\n",
       "      <td>7934.017578</td>\n",
       "      <td>6.0</td>\n",
       "      <td>4.0</td>\n",
       "      <td>8.0</td>\n",
       "      <td>0.0</td>\n",
       "      <td>24.0</td>\n",
       "      <td>...</td>\n",
       "      <td>1</td>\n",
       "      <td>0</td>\n",
       "      <td>1</td>\n",
       "      <td>0</td>\n",
       "      <td>0</td>\n",
       "      <td>0</td>\n",
       "      <td>1</td>\n",
       "      <td>0</td>\n",
       "      <td>0</td>\n",
       "      <td>1</td>\n",
       "    </tr>\n",
       "    <tr>\n",
       "      <th>4072</th>\n",
       "      <td>CUS_0xfea</td>\n",
       "      <td>2023-10-01</td>\n",
       "      <td>33.0</td>\n",
       "      <td>44264.410156</td>\n",
       "      <td>3755.700928</td>\n",
       "      <td>3.0</td>\n",
       "      <td>3.0</td>\n",
       "      <td>6.0</td>\n",
       "      <td>2.0</td>\n",
       "      <td>11.0</td>\n",
       "      <td>...</td>\n",
       "      <td>1</td>\n",
       "      <td>0</td>\n",
       "      <td>0</td>\n",
       "      <td>1</td>\n",
       "      <td>0</td>\n",
       "      <td>1</td>\n",
       "      <td>0</td>\n",
       "      <td>1</td>\n",
       "      <td>0</td>\n",
       "      <td>0</td>\n",
       "    </tr>\n",
       "    <tr>\n",
       "      <th>4899</th>\n",
       "      <td>CUS_0xff3</td>\n",
       "      <td>2024-06-01</td>\n",
       "      <td>55.0</td>\n",
       "      <td>17032.785156</td>\n",
       "      <td>1176.398804</td>\n",
       "      <td>0.0</td>\n",
       "      <td>6.0</td>\n",
       "      <td>2.0</td>\n",
       "      <td>3.0</td>\n",
       "      <td>13.0</td>\n",
       "      <td>...</td>\n",
       "      <td>1</td>\n",
       "      <td>0</td>\n",
       "      <td>0</td>\n",
       "      <td>1</td>\n",
       "      <td>0</td>\n",
       "      <td>1</td>\n",
       "      <td>0</td>\n",
       "      <td>1</td>\n",
       "      <td>0</td>\n",
       "      <td>0</td>\n",
       "    </tr>\n",
       "    <tr>\n",
       "      <th>2187</th>\n",
       "      <td>CUS_0xffc</td>\n",
       "      <td>2024-01-01</td>\n",
       "      <td>18.0</td>\n",
       "      <td>60877.171875</td>\n",
       "      <td>5218.097656</td>\n",
       "      <td>6.0</td>\n",
       "      <td>8.0</td>\n",
       "      <td>27.0</td>\n",
       "      <td>8.0</td>\n",
       "      <td>46.0</td>\n",
       "      <td>...</td>\n",
       "      <td>0</td>\n",
       "      <td>0</td>\n",
       "      <td>0</td>\n",
       "      <td>0</td>\n",
       "      <td>0</td>\n",
       "      <td>0</td>\n",
       "      <td>1</td>\n",
       "      <td>0</td>\n",
       "      <td>0</td>\n",
       "      <td>1</td>\n",
       "    </tr>\n",
       "    <tr>\n",
       "      <th>154</th>\n",
       "      <td>CUS_0xffd</td>\n",
       "      <td>2024-03-01</td>\n",
       "      <td>30.0</td>\n",
       "      <td>41398.441406</td>\n",
       "      <td>3749.870117</td>\n",
       "      <td>8.0</td>\n",
       "      <td>7.0</td>\n",
       "      <td>13.0</td>\n",
       "      <td>6.0</td>\n",
       "      <td>23.0</td>\n",
       "      <td>...</td>\n",
       "      <td>0</td>\n",
       "      <td>0</td>\n",
       "      <td>1</td>\n",
       "      <td>0</td>\n",
       "      <td>0</td>\n",
       "      <td>0</td>\n",
       "      <td>1</td>\n",
       "      <td>0</td>\n",
       "      <td>0</td>\n",
       "      <td>1</td>\n",
       "    </tr>\n",
       "  </tbody>\n",
       "</table>\n",
       "<p>8974 rows × 74 columns</p>\n",
       "</div>"
      ],
      "text/plain": [
       "     customer_id snapshot_date   age  annual_income  monthly_inhand_salary  \\\n",
       "1705  CUS_0x1000    2023-05-01  18.0   30625.939453            2706.161621   \n",
       "30    CUS_0x100b    2024-03-01  19.0  113781.390625            9549.782227   \n",
       "1449  CUS_0x1011    2023-11-01  44.0   58918.468750            5208.872559   \n",
       "5286  CUS_0x1013    2023-12-01  44.0   98620.976562            7962.415039   \n",
       "6347  CUS_0x1015    2023-08-01  27.0   46951.019531            3725.584961   \n",
       "...          ...           ...   ...            ...                    ...   \n",
       "2586   CUS_0xfe5    2023-06-01  38.0   96960.210938            7934.017578   \n",
       "4072   CUS_0xfea    2023-10-01  33.0   44264.410156            3755.700928   \n",
       "4899   CUS_0xff3    2024-06-01  55.0   17032.785156            1176.398804   \n",
       "2187   CUS_0xffc    2024-01-01  18.0   60877.171875            5218.097656   \n",
       "154    CUS_0xffd    2024-03-01  30.0   41398.441406            3749.870117   \n",
       "\n",
       "      num_bank_accounts  num_credit_card  interest_rate  num_of_loan  \\\n",
       "1705                6.0              5.0           27.0          2.0   \n",
       "30                  1.0              4.0            1.0          0.0   \n",
       "1449                3.0              3.0           17.0          3.0   \n",
       "5286                3.0              3.0            6.0          3.0   \n",
       "6347                7.0              4.0           16.0          0.0   \n",
       "...                 ...              ...            ...          ...   \n",
       "2586                6.0              4.0            8.0          0.0   \n",
       "4072                3.0              3.0            6.0          2.0   \n",
       "4899                0.0              6.0            2.0          3.0   \n",
       "2187                6.0              8.0           27.0          8.0   \n",
       "154                 8.0              7.0           13.0          6.0   \n",
       "\n",
       "      delay_from_due_date  ...  payment_of_min_amount_no  \\\n",
       "1705                 57.0  ...                         0   \n",
       "30                   14.0  ...                         1   \n",
       "1449                 27.0  ...                         0   \n",
       "5286                 12.0  ...                         1   \n",
       "6347                  8.0  ...                         0   \n",
       "...                   ...  ...                       ...   \n",
       "2586                 24.0  ...                         1   \n",
       "4072                 11.0  ...                         1   \n",
       "4899                 13.0  ...                         1   \n",
       "2187                 46.0  ...                         0   \n",
       "154                  23.0  ...                         0   \n",
       "\n",
       "      payment_of_min_amount_nm  credit_mix_standard  credit_mix_good  \\\n",
       "1705                         0                    0                0   \n",
       "30                           0                    0                1   \n",
       "1449                         0                    1                0   \n",
       "5286                         0                    0                1   \n",
       "6347                         1                    1                0   \n",
       "...                        ...                  ...              ...   \n",
       "2586                         0                    1                0   \n",
       "4072                         0                    0                1   \n",
       "4899                         0                    0                1   \n",
       "2187                         0                    0                0   \n",
       "154                          0                    1                0   \n",
       "\n",
       "      credit_mix_bad  payment_behaviour_spent_low  \\\n",
       "1705               1                            0   \n",
       "30                 0                            0   \n",
       "1449               0                            1   \n",
       "5286               0                            0   \n",
       "6347               0                            1   \n",
       "...              ...                          ...   \n",
       "2586               0                            0   \n",
       "4072               0                            1   \n",
       "4899               0                            1   \n",
       "2187               0                            0   \n",
       "154                0                            0   \n",
       "\n",
       "      payment_behaviour_spent_high  payment_behaviour_value_small  \\\n",
       "1705                             1                              0   \n",
       "30                               1                              1   \n",
       "1449                             0                              0   \n",
       "5286                             1                              0   \n",
       "6347                             0                              1   \n",
       "...                            ...                            ...   \n",
       "2586                             1                              0   \n",
       "4072                             0                              1   \n",
       "4899                             0                              1   \n",
       "2187                             1                              0   \n",
       "154                              1                              0   \n",
       "\n",
       "      payment_behaviour_value_medium  payment_behaviour_value_large  \n",
       "1705                               1                              0  \n",
       "30                                 0                              0  \n",
       "1449                               1                              0  \n",
       "5286                               1                              0  \n",
       "6347                               0                              0  \n",
       "...                              ...                            ...  \n",
       "2586                               0                              1  \n",
       "4072                               0                              0  \n",
       "4899                               0                              0  \n",
       "2187                               0                              1  \n",
       "154                                0                              1  \n",
       "\n",
       "[8974 rows x 74 columns]"
      ]
     },
     "execution_count": 32,
     "metadata": {},
     "output_type": "execute_result"
    }
   ],
   "source": [
    "X_df"
   ]
  },
  {
   "cell_type": "markdown",
   "id": "348ce0de",
   "metadata": {},
   "source": [
    "**Set train test split**"
   ]
  },
  {
   "cell_type": "code",
   "execution_count": 34,
   "id": "2ca753d6",
   "metadata": {},
   "outputs": [
    {
     "data": {
      "text/plain": [
       "{'model_train_date_str': '2024-09-01',\n",
       " 'train_test_period_months': 12,\n",
       " 'oot_period_months': 2,\n",
       " 'model_train_date': datetime.date(2024, 9, 1),\n",
       " 'oot_end_date': datetime.date(2024, 8, 31),\n",
       " 'oot_start_date': datetime.date(2024, 7, 1),\n",
       " 'train_test_end_date': datetime.date(2024, 6, 30),\n",
       " 'train_test_start_date': datetime.date(2023, 7, 1),\n",
       " 'train_valtest_ratio': 0.2,\n",
       " 'val_test_ratio': 0.5}"
      ]
     },
     "execution_count": 34,
     "metadata": {},
     "output_type": "execute_result"
    }
   ],
   "source": [
    "model_train_date_str = \"2024-09-01\" # pretend we're training the model at this time\n",
    "train_test_period_months = 12\n",
    "oot_period_months = 2\n",
    "train_valtest_ratio = 0.2\n",
    "val_test_ratio = 0.5\n",
    "\n",
    "config = {}\n",
    "config[\"model_train_date_str\"] = model_train_date_str\n",
    "config[\"train_test_period_months\"] = train_test_period_months\n",
    "config[\"oot_period_months\"] =  oot_period_months\n",
    "config[\"model_train_date\"] =  datetime.strptime(model_train_date_str, \"%Y-%m-%d\").date()\n",
    "config[\"oot_end_date\"] =  config['model_train_date'] - timedelta(days = 1)\n",
    "config[\"oot_start_date\"] =  config['model_train_date'] - relativedelta(months = oot_period_months)\n",
    "config[\"train_test_end_date\"] =  config[\"oot_start_date\"] - timedelta(days = 1)\n",
    "config[\"train_test_start_date\"] =  config[\"oot_start_date\"] - relativedelta(months = train_test_period_months)\n",
    "config[\"train_valtest_ratio\"] = train_valtest_ratio \n",
    "config[\"val_test_ratio\"] = val_test_ratio\n",
    "\n",
    "config"
   ]
  },
  {
   "cell_type": "markdown",
   "id": "f235aefe",
   "metadata": {},
   "source": [
    "Split OOT"
   ]
  },
  {
   "cell_type": "code",
   "execution_count": 35,
   "id": "eb37415c",
   "metadata": {},
   "outputs": [],
   "source": [
    "# Consider data from model training date\n",
    "y_model_df = y_df[(y_df['snapshot_date'] >= config['train_test_start_date']) & (y_df['snapshot_date'] <= config['model_train_date'])]\n",
    "X_model_df = X_df[np.isin(X_df['customer_id'], y_model_df['customer_id'].unique())]\n",
    "\n",
    "# Create OOT split\n",
    "y_oot = y_model_df[(y_model_df['snapshot_date'] >= config['oot_start_date']) & (y_model_df['snapshot_date'] <= config['oot_end_date'])]\n",
    "X_oot = X_model_df[np.isin(X_model_df['customer_id'], y_oot['customer_id'].unique())]\n",
    "\n",
    "# Everything else goes into train-test\n",
    "y_trainvaltest = y_model_df[y_model_df['snapshot_date'] <= config['train_test_end_date']]\n",
    "X_trainvaltest = X_model_df[np.isin(X_model_df['customer_id'], y_trainvaltest['customer_id'].unique())]"
   ]
  },
  {
   "cell_type": "markdown",
   "id": "06641936",
   "metadata": {},
   "source": [
    "Split train-test"
   ]
  },
  {
   "cell_type": "code",
   "execution_count": 36,
   "id": "d53409e7",
   "metadata": {},
   "outputs": [],
   "source": [
    "X_train, X_valtest, y_train, y_valtest = train_test_split(X_trainvaltest, y_trainvaltest, \n",
    "                                                    test_size=config['train_valtest_ratio'], \n",
    "                                                    random_state=611, \n",
    "                                                    shuffle=True, \n",
    "                                                    stratify=y_trainvaltest['label'])\n",
    "\n",
    "X_val, X_test, y_val, y_test = train_test_split(X_valtest, y_valtest, \n",
    "                                                    test_size=config['val_test_ratio'], \n",
    "                                                    random_state=611, \n",
    "                                                    shuffle=True, \n",
    "                                                    stratify=y_valtest['label'])"
   ]
  },
  {
   "cell_type": "code",
   "execution_count": 37,
   "id": "d4280627",
   "metadata": {},
   "outputs": [],
   "source": [
    "# Transform data into numpy arrays\n",
    "X_train_arr = X_train.drop(columns=['customer_id', 'snapshot_date']).values\n",
    "X_val_arr = X_val.drop(columns=['customer_id', 'snapshot_date']).values\n",
    "X_test_arr = X_test.drop(columns=['customer_id', 'snapshot_date']).values\n",
    "X_oot_arr = X_oot.drop(columns=['customer_id', 'snapshot_date']).values\n",
    "\n",
    "y_train_arr = y_train['label'].values\n",
    "y_val_arr = y_val['label'].values\n",
    "y_test_arr = y_test['label'].values\n",
    "y_oot_arr = y_oot['label'].values"
   ]
  },
  {
   "cell_type": "markdown",
   "id": "953e1551",
   "metadata": {},
   "source": [
    "Data Preprocessing Pipeline"
   ]
  },
  {
   "cell_type": "code",
   "execution_count": 38,
   "id": "0646b499",
   "metadata": {},
   "outputs": [],
   "source": [
    "preprocessing_pipeline = Pipeline(steps=[\n",
    "    (\"imputer\", SimpleImputer(strategy=\"mean\")),\n",
    "    (\"scaler\", StandardScaler())\n",
    "])\n",
    "\n",
    "X_train_arr = preprocessing_pipeline.fit_transform(X_train_arr)\n",
    "X_val_arr = preprocessing_pipeline.transform(X_val_arr)\n",
    "X_test_arr = preprocessing_pipeline.transform(X_test_arr)\n",
    "X_oot_arr = preprocessing_pipeline.transform(X_oot_arr)\n",
    "\n",
    "# artifact_tmp_path = f'artifact_bank/{config['model_train_date_str']}'\n",
    "# os.makedirs(artifact_tmp_path, exist_ok=True)\n",
    "# joblib.dump(preprocessing_pipeline, f\"{artifact_tmp_path}/preprocessing_pipeline.pkl\")"
   ]
  },
  {
   "cell_type": "markdown",
   "id": "8ea218d8",
   "metadata": {},
   "source": [
    "Normalize data"
   ]
  },
  {
   "cell_type": "markdown",
   "id": "ba29b033",
   "metadata": {},
   "source": [
    "# Train CreditKarma Scorer"
   ]
  },
  {
   "cell_type": "code",
   "execution_count": 39,
   "id": "b44b2910",
   "metadata": {},
   "outputs": [],
   "source": [
    "param_grid = {\n",
    "    'penalty':['l1','l2','elasticnet', None],\n",
    "    'C' : [0.01, 0.1, 1, 10],\n",
    "    'solver': ['lbfgs','newton-cg','liblinear','sag','saga'],\n",
    "    'max_iter': [200]\n",
    "}\n",
    "\n",
    "valid_combinations = {\n",
    "    'liblinear': ['l1', 'l2'],\n",
    "    'lbfgs': ['l2', None],\n",
    "    'newton-cg': ['l2', None],\n",
    "    'sag': ['l2', None],\n",
    "    'saga': ['l1', 'l2', 'elasticnet', None],\n",
    "}"
   ]
  },
  {
   "cell_type": "code",
   "execution_count": 40,
   "id": "daba8ed0",
   "metadata": {},
   "outputs": [
    {
     "name": "stdout",
     "output_type": "stream",
     "text": [
      "Evaluated C=0.01, penalty=l2, solver=lbfgs -> val_auc=0.8366\n",
      "Evaluated C=0.1, penalty=l2, solver=lbfgs -> val_auc=0.8335\n",
      "Evaluated C=1, penalty=l2, solver=lbfgs -> val_auc=0.8330\n",
      "Evaluated C=10, penalty=l2, solver=lbfgs -> val_auc=0.8329\n",
      "Evaluated C=0.01, penalty=None, solver=lbfgs -> val_auc=0.8329\n",
      "Evaluated C=0.1, penalty=None, solver=lbfgs -> val_auc=0.8329\n",
      "Evaluated C=1, penalty=None, solver=lbfgs -> val_auc=0.8329\n",
      "Evaluated C=10, penalty=None, solver=lbfgs -> val_auc=0.8329\n",
      "Evaluated C=0.01, penalty=l2, solver=newton-cg -> val_auc=0.8367\n"
     ]
    },
    {
     "name": "stderr",
     "output_type": "stream",
     "text": [
      "/usr/local/lib/python3.12/site-packages/sklearn/linear_model/_logistic.py:1207: UserWarning: Setting penalty=None will ignore the C and l1_ratio parameters\n",
      "  warnings.warn(\n",
      "/usr/local/lib/python3.12/site-packages/sklearn/linear_model/_logistic.py:1207: UserWarning: Setting penalty=None will ignore the C and l1_ratio parameters\n",
      "  warnings.warn(\n",
      "/usr/local/lib/python3.12/site-packages/sklearn/linear_model/_logistic.py:1207: UserWarning: Setting penalty=None will ignore the C and l1_ratio parameters\n",
      "  warnings.warn(\n"
     ]
    },
    {
     "name": "stdout",
     "output_type": "stream",
     "text": [
      "Evaluated C=0.1, penalty=l2, solver=newton-cg -> val_auc=0.8334\n",
      "Evaluated C=1, penalty=l2, solver=newton-cg -> val_auc=0.8329\n",
      "Evaluated C=10, penalty=l2, solver=newton-cg -> val_auc=0.8329\n",
      "Evaluated C=0.01, penalty=None, solver=newton-cg -> val_auc=0.8329\n",
      "Evaluated C=0.1, penalty=None, solver=newton-cg -> val_auc=0.8329\n",
      "Evaluated C=1, penalty=None, solver=newton-cg -> val_auc=0.8329\n"
     ]
    },
    {
     "name": "stderr",
     "output_type": "stream",
     "text": [
      "/usr/local/lib/python3.12/site-packages/sklearn/linear_model/_logistic.py:1207: UserWarning: Setting penalty=None will ignore the C and l1_ratio parameters\n",
      "  warnings.warn(\n",
      "/usr/local/lib/python3.12/site-packages/sklearn/linear_model/_logistic.py:1207: UserWarning: Setting penalty=None will ignore the C and l1_ratio parameters\n",
      "  warnings.warn(\n",
      "/usr/local/lib/python3.12/site-packages/sklearn/linear_model/_logistic.py:1207: UserWarning: Setting penalty=None will ignore the C and l1_ratio parameters\n",
      "  warnings.warn(\n"
     ]
    },
    {
     "name": "stdout",
     "output_type": "stream",
     "text": [
      "Evaluated C=10, penalty=None, solver=newton-cg -> val_auc=0.8329\n",
      "Evaluated C=0.01, penalty=l1, solver=liblinear -> val_auc=0.8265\n",
      "Evaluated C=0.1, penalty=l1, solver=liblinear -> val_auc=0.8355\n",
      "Evaluated C=1, penalty=l1, solver=liblinear -> val_auc=0.8332\n",
      "Evaluated C=10, penalty=l1, solver=liblinear -> val_auc=0.8329\n",
      "Evaluated C=0.01, penalty=l2, solver=liblinear -> val_auc=0.8368\n",
      "Evaluated C=0.1, penalty=l2, solver=liblinear -> val_auc=0.8335\n",
      "Evaluated C=1, penalty=l2, solver=liblinear -> val_auc=0.8329\n",
      "Evaluated C=10, penalty=l2, solver=liblinear -> val_auc=0.8329\n",
      "Evaluated C=0.01, penalty=l2, solver=sag -> val_auc=0.8367\n",
      "Evaluated C=0.1, penalty=l2, solver=sag -> val_auc=0.8334\n",
      "Evaluated C=1, penalty=l2, solver=sag -> val_auc=0.8329\n",
      "Evaluated C=10, penalty=l2, solver=sag -> val_auc=0.8329\n"
     ]
    },
    {
     "name": "stderr",
     "output_type": "stream",
     "text": [
      "/usr/local/lib/python3.12/site-packages/sklearn/linear_model/_logistic.py:1207: UserWarning: Setting penalty=None will ignore the C and l1_ratio parameters\n",
      "  warnings.warn(\n"
     ]
    },
    {
     "name": "stdout",
     "output_type": "stream",
     "text": [
      "Evaluated C=0.01, penalty=None, solver=sag -> val_auc=0.8328\n",
      "Evaluated C=0.1, penalty=None, solver=sag -> val_auc=0.8328\n"
     ]
    },
    {
     "name": "stderr",
     "output_type": "stream",
     "text": [
      "/usr/local/lib/python3.12/site-packages/sklearn/linear_model/_logistic.py:1207: UserWarning: Setting penalty=None will ignore the C and l1_ratio parameters\n",
      "  warnings.warn(\n"
     ]
    },
    {
     "name": "stdout",
     "output_type": "stream",
     "text": [
      "Evaluated C=1, penalty=None, solver=sag -> val_auc=0.8328\n"
     ]
    },
    {
     "name": "stderr",
     "output_type": "stream",
     "text": [
      "/usr/local/lib/python3.12/site-packages/sklearn/linear_model/_logistic.py:1207: UserWarning: Setting penalty=None will ignore the C and l1_ratio parameters\n",
      "  warnings.warn(\n"
     ]
    },
    {
     "name": "stdout",
     "output_type": "stream",
     "text": [
      "Evaluated C=10, penalty=None, solver=sag -> val_auc=0.8328\n",
      "Evaluated C=0.01, penalty=l1, solver=saga -> val_auc=0.8264\n",
      "Evaluated C=0.1, penalty=l1, solver=saga -> val_auc=0.8356\n",
      "Evaluated C=1, penalty=l1, solver=saga -> val_auc=0.8331\n"
     ]
    },
    {
     "name": "stderr",
     "output_type": "stream",
     "text": [
      "/usr/local/lib/python3.12/site-packages/sklearn/linear_model/_sag.py:348: ConvergenceWarning: The max_iter was reached which means the coef_ did not converge\n",
      "  warnings.warn(\n"
     ]
    },
    {
     "name": "stdout",
     "output_type": "stream",
     "text": [
      "Evaluated C=10, penalty=l1, solver=saga -> val_auc=0.8329\n",
      "Evaluated C=0.01, penalty=l2, solver=saga -> val_auc=0.8367\n",
      "Evaluated C=0.1, penalty=l2, solver=saga -> val_auc=0.8334\n",
      "Evaluated C=1, penalty=l2, solver=saga -> val_auc=0.8329\n",
      "Evaluated C=10, penalty=l2, solver=saga -> val_auc=0.8329\n"
     ]
    },
    {
     "name": "stderr",
     "output_type": "stream",
     "text": [
      "/usr/local/lib/python3.12/site-packages/sklearn/linear_model/_logistic.py:1207: UserWarning: Setting penalty=None will ignore the C and l1_ratio parameters\n",
      "  warnings.warn(\n"
     ]
    },
    {
     "name": "stdout",
     "output_type": "stream",
     "text": [
      "Evaluated C=0.01, penalty=None, solver=saga -> val_auc=0.8328\n"
     ]
    },
    {
     "name": "stderr",
     "output_type": "stream",
     "text": [
      "/usr/local/lib/python3.12/site-packages/sklearn/linear_model/_logistic.py:1207: UserWarning: Setting penalty=None will ignore the C and l1_ratio parameters\n",
      "  warnings.warn(\n"
     ]
    },
    {
     "name": "stdout",
     "output_type": "stream",
     "text": [
      "Evaluated C=0.1, penalty=None, solver=saga -> val_auc=0.8328\n",
      "Evaluated C=1, penalty=None, solver=saga -> val_auc=0.8329\n"
     ]
    },
    {
     "name": "stderr",
     "output_type": "stream",
     "text": [
      "/usr/local/lib/python3.12/site-packages/sklearn/linear_model/_logistic.py:1207: UserWarning: Setting penalty=None will ignore the C and l1_ratio parameters\n",
      "  warnings.warn(\n"
     ]
    },
    {
     "name": "stdout",
     "output_type": "stream",
     "text": [
      "Evaluated C=10, penalty=None, solver=saga -> val_auc=0.8328\n"
     ]
    }
   ],
   "source": [
    "best_score = -np.inf\n",
    "clf = None\n",
    "best_params = {}\n",
    "\n",
    "for solver, penalty, C, max_iter in itertools.product(param_grid['solver'], param_grid['penalty'], param_grid['C'], param_grid['max_iter']):\n",
    "    # if penalty not in valid_combinations.get(solver, []):\n",
    "    #     continue  # skip invalid combo\n",
    "    try:\n",
    "        model = LogisticRegression(C=C, penalty=penalty, solver=solver, max_iter=max_iter)\n",
    "        model.fit(X_train_arr, y_train_arr)\n",
    "        val_preds = model.predict_proba(X_val_arr)[:, 1]\n",
    "        score = roc_auc_score(y_val_arr, val_preds)\n",
    "        \n",
    "        print(f\"Evaluated C={C}, penalty={penalty}, solver={solver} -> val_auc={score:.4f}\")\n",
    "\n",
    "        if score > best_score:\n",
    "            best_score = score\n",
    "            clf = model\n",
    "            best_params = {'C': C, 'penalty': penalty, 'solver': solver}\n",
    "    except Exception as e:\n",
    "        # print(f\"Skipped C={C}, penalty={penalty}, solver={solver}: {e}\")\n",
    "        continue\n",
    "\n",
    "# Save best model\n",
    "with open(\"model.pkl\", \"wb\") as f:\n",
    "    pickle.dump(clf, f)"
   ]
  },
  {
   "cell_type": "markdown",
   "id": "bbe4afe2",
   "metadata": {},
   "source": [
    "# Evaluate CreditKarma Scorer"
   ]
  },
  {
   "cell_type": "code",
   "execution_count": 41,
   "id": "1c340811",
   "metadata": {},
   "outputs": [],
   "source": [
    "# Load model\n",
    "with open(\"model.pkl\", \"rb\") as f:\n",
    "    clf = pickle.load(f)"
   ]
  },
  {
   "cell_type": "code",
   "execution_count": 42,
   "id": "48e60ecb",
   "metadata": {},
   "outputs": [
    {
     "name": "stdout",
     "output_type": "stream",
     "text": [
      "Train AUC: 0.8503\n",
      "Val AUC: 0.8368\n",
      "Test AUC: 0.8417\n",
      "OOT AUC: 0.8803\n"
     ]
    }
   ],
   "source": [
    "# Predict and evaluate\n",
    "y_pred_proba_train = clf.predict_proba(X_train_arr)[:, 1]\n",
    "train_auc = roc_auc_score(y_train_arr, y_pred_proba_train)\n",
    "\n",
    "y_pred_proba_val = clf.predict_proba(X_val_arr)[:, 1]\n",
    "val_auc = roc_auc_score(y_val_arr, y_pred_proba_val)\n",
    "\n",
    "y_pred_proba_test = clf.predict_proba(X_test_arr)[:, 1]\n",
    "test_auc = roc_auc_score(y_test_arr, y_pred_proba_test)\n",
    "\n",
    "y_pred_proba_oot = clf.predict_proba(X_oot_arr)[:, 1]\n",
    "oot_auc = roc_auc_score(y_oot_arr, y_pred_proba_oot)\n",
    "\n",
    "print(f\"Train AUC: {train_auc:.4f}\")\n",
    "print(f\"Val AUC: {val_auc:.4f}\")\n",
    "print(f\"Test AUC: {test_auc:.4f}\")\n",
    "print(f\"OOT AUC: {oot_auc:.4f}\")"
   ]
  },
  {
   "cell_type": "code",
   "execution_count": 43,
   "id": "7369da93",
   "metadata": {},
   "outputs": [
    {
     "data": {
      "image/png": "[encoded data removed]",
      "text/plain": [
       "<Figure size 1000x400 with 1 Axes>"
      ]
     },
     "metadata": {},
     "output_type": "display_data"
    }
   ],
   "source": [
    "# F-B score across thresholds\n",
    "thresholds = np.arange(0.0, 1.0, 0.01)\n",
    "beta = 1.5\n",
    "f1_scores_train = [fbeta_score(y_train_arr, y_pred_proba_train > t, beta=beta) for t in thresholds]\n",
    "f1_scores_val = [fbeta_score(y_val_arr, y_pred_proba_val > t, beta=beta) for t in thresholds]\n",
    "f1_scores_test = [fbeta_score(y_test_arr, y_pred_proba_test > t, beta=beta) for t in thresholds]\n",
    "f1_scores_oot = [fbeta_score(y_oot_arr, y_pred_proba_oot > t, beta=beta) for t in thresholds]\n",
    "best_threshold = thresholds[np.argmax(f1_scores_val)]\n",
    "\n",
    "# Plot F1 Score vs. Threshold\n",
    "plt.figure(figsize=(10, 4))\n",
    "plt.plot(thresholds, f1_scores_train, label=f\"Train F-{beta} Score\")\n",
    "plt.plot(thresholds, f1_scores_val, label=f\"Val F-{beta} Score\")\n",
    "plt.plot(thresholds, f1_scores_test, label=f\"Test F-{beta} Score\")\n",
    "plt.plot(thresholds, f1_scores_oot, label=f\"OOT F-{beta} Score\")\n",
    "plt.axvline(x=best_threshold, color=\"red\", linestyle=\"--\", label=f\"Best Threshold: {best_threshold:.2f}\")\n",
    "plt.title(f\"F-{beta} Score vs. Probability Threshold\")\n",
    "plt.xlabel(\"Threshold\")\n",
    "plt.ylabel(f\"F-{beta} Score\")\n",
    "plt.legend()\n",
    "plt.grid(True)\n",
    "plt.tight_layout()\n",
    "plt.show()"
   ]
  },
  {
   "cell_type": "code",
   "execution_count": 44,
   "id": "8d5dace0",
   "metadata": {},
   "outputs": [
    {
     "data": {
      "image/png": "[encoded data removed]",
      "text/plain": [
       "<Figure size 1800x500 with 4 Axes>"
      ]
     },
     "metadata": {},
     "output_type": "display_data"
    }
   ],
   "source": [
    "# Predictions\n",
    "y_pred_train = (y_pred_proba_train > best_threshold).astype(int)\n",
    "y_pred_val = (y_pred_proba_val > best_threshold).astype(int)\n",
    "y_pred_test = (y_pred_proba_test > best_threshold).astype(int)\n",
    "y_pred_oot = (y_pred_proba_oot > best_threshold).astype(int)\n",
    "\n",
    "# Confusion matrices\n",
    "cm_train = confusion_matrix(y_train_arr, y_pred_train)\n",
    "cm_val = confusion_matrix(y_val_arr, y_pred_val)\n",
    "cm_test = confusion_matrix(y_test_arr, y_pred_test)\n",
    "cm_oot = confusion_matrix(y_oot_arr, y_pred_oot)\n",
    "\n",
    "# Plotting\n",
    "fig, axs = plt.subplots(1, 4, figsize=(18, 5))\n",
    "\n",
    "# Train\n",
    "disp_train = ConfusionMatrixDisplay(confusion_matrix=cm_train)\n",
    "disp_train.plot(ax=axs[0], cmap='Blues', colorbar=False)\n",
    "axs[0].set_title(f\"Train (Threshold={best_threshold:.2f})\")\n",
    "axs[0].grid(False)\n",
    "\n",
    "# Val\n",
    "disp_val = ConfusionMatrixDisplay(confusion_matrix=cm_val)\n",
    "disp_val.plot(ax=axs[1], cmap='Blues', colorbar=False)\n",
    "axs[1].set_title(f\"Val (Threshold={best_threshold:.2f})\")\n",
    "axs[1].grid(False)\n",
    "\n",
    "# Test\n",
    "disp_test = ConfusionMatrixDisplay(confusion_matrix=cm_test)\n",
    "disp_test.plot(ax=axs[2], cmap='Blues', colorbar=False)\n",
    "axs[2].set_title(f\"Test (Threshold={best_threshold:.2f})\")\n",
    "axs[2].grid(False)\n",
    "\n",
    "# OOT\n",
    "disp_oot = ConfusionMatrixDisplay(confusion_matrix=cm_oot)\n",
    "disp_oot.plot(ax=axs[3], cmap='Blues', colorbar=False)\n",
    "axs[3].set_title(f\"OOT (Threshold={best_threshold:.2f})\")\n",
    "axs[3].grid(False)\n",
    "\n",
    "plt.tight_layout()\n",
    "plt.show()"
   ]
  },
  {
   "cell_type": "code",
   "execution_count": 46,
   "id": "34d9489f",
   "metadata": {},
   "outputs": [
    {
     "name": "stdout",
     "output_type": "stream",
     "text": [
      "Best Train F1.5-Score: 0.7068\n",
      "Best Val F1.5-Score: 0.6990\n",
      "Best Test F1.5-Score: 0.6954\n",
      "Best OOT F1.5-Score: 0.7499\n"
     ]
    }
   ],
   "source": [
    "print(f\"Best Train F{beta}-Score: {max(f1_scores_train):.4f}\")\n",
    "print(f\"Best Val F{beta}-Score: {max(f1_scores_val):.4f}\")\n",
    "print(f\"Best Test F{beta}-Score: {max(f1_scores_test):.4f}\")\n",
    "print(f\"Best OOT F{beta}-Score: {max(f1_scores_oot):.4f}\")"
   ]
  },
  {
   "cell_type": "markdown",
   "id": "ab671f18",
   "metadata": {},
   "source": [
    "# Training Pipeline with MLFlow"
   ]
  },
  {
   "cell_type": "code",
   "execution_count": 47,
   "id": "502260e2",
   "metadata": {},
   "outputs": [
    {
     "name": "stderr",
     "output_type": "stream",
     "text": [
      "2025/06/15 06:52:27 INFO mlflow.tracking.fluent: Experiment with name '2024-09-01' does not exist. Creating a new experiment.\n"
     ]
    },
    {
     "data": {
      "text/plain": [
       "<Experiment: artifact_location='/app/model_bank/2', creation_time=1749970347171, experiment_id='2', last_update_time=1749970347171, lifecycle_stage='active', name='2024-09-01', tags={}>"
      ]
     },
     "execution_count": 47,
     "metadata": {},
     "output_type": "execute_result"
    }
   ],
   "source": [
    "# Set our tracking server uri for logging\n",
    "mlflow.set_tracking_uri(uri=\"http://mlflow:5001\")\n",
    "\n",
    "# Create a new experiment for that training date\n",
    "mlflow.set_experiment(config[\"model_train_date_str\"])"
   ]
  },
  {
   "cell_type": "markdown",
   "id": "03a409fb",
   "metadata": {},
   "source": [
    "Train & hyperparameter tune model"
   ]
  },
  {
   "cell_type": "code",
   "execution_count": 48,
   "id": "725041bd",
   "metadata": {},
   "outputs": [
    {
     "name": "stdout",
     "output_type": "stream",
     "text": [
      "🏃 View run logreg_C=0.0100_penalty=l2_solver=lbfgs_max-iter=200 at: http://mlflow:5001/#/experiments/2/runs/cb2cb4495c6049a9844a7451bde47781\n",
      "🧪 View experiment at: http://mlflow:5001/#/experiments/2\n",
      "🏃 View run logreg_C=0.1000_penalty=l2_solver=lbfgs_max-iter=200 at: http://mlflow:5001/#/experiments/2/runs/3b74787dbbd9484b889a3037ceeab83b\n",
      "🧪 View experiment at: http://mlflow:5001/#/experiments/2\n",
      "🏃 View run logreg_C=1.0000_penalty=l2_solver=lbfgs_max-iter=200 at: http://mlflow:5001/#/experiments/2/runs/d236cc863a654dfab059aa5d07e5a0e9\n",
      "🧪 View experiment at: http://mlflow:5001/#/experiments/2\n",
      "🏃 View run logreg_C=10.0000_penalty=l2_solver=lbfgs_max-iter=200 at: http://mlflow:5001/#/experiments/2/runs/3951643741584daf991b8564ce69c9f8\n",
      "🧪 View experiment at: http://mlflow:5001/#/experiments/2\n"
     ]
    },
    {
     "name": "stderr",
     "output_type": "stream",
     "text": [
      "/usr/local/lib/python3.12/site-packages/sklearn/linear_model/_logistic.py:1207: UserWarning: Setting penalty=None will ignore the C and l1_ratio parameters\n",
      "  warnings.warn(\n"
     ]
    },
    {
     "name": "stdout",
     "output_type": "stream",
     "text": [
      "🏃 View run logreg_C=0.0100_penalty=None_solver=lbfgs_max-iter=200 at: http://mlflow:5001/#/experiments/2/runs/bf25bbfa25004ae69c0038b239cb30f8\n",
      "🧪 View experiment at: http://mlflow:5001/#/experiments/2\n"
     ]
    },
    {
     "name": "stderr",
     "output_type": "stream",
     "text": [
      "/usr/local/lib/python3.12/site-packages/sklearn/linear_model/_logistic.py:1207: UserWarning: Setting penalty=None will ignore the C and l1_ratio parameters\n",
      "  warnings.warn(\n"
     ]
    },
    {
     "name": "stdout",
     "output_type": "stream",
     "text": [
      "🏃 View run logreg_C=0.1000_penalty=None_solver=lbfgs_max-iter=200 at: http://mlflow:5001/#/experiments/2/runs/f71c342729ee41e3b8a04d4af5bd388d\n",
      "🧪 View experiment at: http://mlflow:5001/#/experiments/2\n",
      "🏃 View run logreg_C=1.0000_penalty=None_solver=lbfgs_max-iter=200 at: http://mlflow:5001/#/experiments/2/runs/e40c285332654e2b9af2559c4ca42ef2\n",
      "🧪 View experiment at: http://mlflow:5001/#/experiments/2\n"
     ]
    },
    {
     "name": "stderr",
     "output_type": "stream",
     "text": [
      "/usr/local/lib/python3.12/site-packages/sklearn/linear_model/_logistic.py:1207: UserWarning: Setting penalty=None will ignore the C and l1_ratio parameters\n",
      "  warnings.warn(\n"
     ]
    },
    {
     "name": "stdout",
     "output_type": "stream",
     "text": [
      "🏃 View run logreg_C=10.0000_penalty=None_solver=lbfgs_max-iter=200 at: http://mlflow:5001/#/experiments/2/runs/d72129e6c91e4492a64c35f46c09c13f\n",
      "🧪 View experiment at: http://mlflow:5001/#/experiments/2\n",
      "🏃 View run logreg_C=0.0100_penalty=l2_solver=newton-cg_max-iter=200 at: http://mlflow:5001/#/experiments/2/runs/a7aeb69efb314b1eae34be36eefb6cbe\n",
      "🧪 View experiment at: http://mlflow:5001/#/experiments/2\n",
      "🏃 View run logreg_C=0.1000_penalty=l2_solver=newton-cg_max-iter=200 at: http://mlflow:5001/#/experiments/2/runs/0d9a31f3cd184942aaae0c3390303776\n",
      "🧪 View experiment at: http://mlflow:5001/#/experiments/2\n",
      "🏃 View run logreg_C=1.0000_penalty=l2_solver=newton-cg_max-iter=200 at: http://mlflow:5001/#/experiments/2/runs/b8cb7d65b4a84e5a8826044512ac734f\n",
      "🧪 View experiment at: http://mlflow:5001/#/experiments/2\n",
      "🏃 View run logreg_C=10.0000_penalty=l2_solver=newton-cg_max-iter=200 at: http://mlflow:5001/#/experiments/2/runs/ef206056938c4d4e95df708f06c3818d\n",
      "🧪 View experiment at: http://mlflow:5001/#/experiments/2\n"
     ]
    },
    {
     "name": "stderr",
     "output_type": "stream",
     "text": [
      "/usr/local/lib/python3.12/site-packages/sklearn/linear_model/_logistic.py:1207: UserWarning: Setting penalty=None will ignore the C and l1_ratio parameters\n",
      "  warnings.warn(\n"
     ]
    },
    {
     "name": "stdout",
     "output_type": "stream",
     "text": [
      "🏃 View run logreg_C=0.0100_penalty=None_solver=newton-cg_max-iter=200 at: http://mlflow:5001/#/experiments/2/runs/2081e678e0e642b882ecbd8617b69ad7\n",
      "🧪 View experiment at: http://mlflow:5001/#/experiments/2\n"
     ]
    },
    {
     "name": "stderr",
     "output_type": "stream",
     "text": [
      "/usr/local/lib/python3.12/site-packages/sklearn/linear_model/_logistic.py:1207: UserWarning: Setting penalty=None will ignore the C and l1_ratio parameters\n",
      "  warnings.warn(\n"
     ]
    },
    {
     "name": "stdout",
     "output_type": "stream",
     "text": [
      "🏃 View run logreg_C=0.1000_penalty=None_solver=newton-cg_max-iter=200 at: http://mlflow:5001/#/experiments/2/runs/d4c542396c424dc8a76e8e2095d094dc\n",
      "🧪 View experiment at: http://mlflow:5001/#/experiments/2\n",
      "🏃 View run logreg_C=1.0000_penalty=None_solver=newton-cg_max-iter=200 at: http://mlflow:5001/#/experiments/2/runs/287bbf55216e4394ba5fed6c6ef981d6\n",
      "🧪 View experiment at: http://mlflow:5001/#/experiments/2\n"
     ]
    },
    {
     "name": "stderr",
     "output_type": "stream",
     "text": [
      "/usr/local/lib/python3.12/site-packages/sklearn/linear_model/_logistic.py:1207: UserWarning: Setting penalty=None will ignore the C and l1_ratio parameters\n",
      "  warnings.warn(\n"
     ]
    },
    {
     "name": "stdout",
     "output_type": "stream",
     "text": [
      "🏃 View run logreg_C=10.0000_penalty=None_solver=newton-cg_max-iter=200 at: http://mlflow:5001/#/experiments/2/runs/2ca87144917b4da183bb2802d0bf8e6a\n",
      "🧪 View experiment at: http://mlflow:5001/#/experiments/2\n",
      "🏃 View run logreg_C=0.0100_penalty=l1_solver=liblinear_max-iter=200 at: http://mlflow:5001/#/experiments/2/runs/d31fe59278d94c3e93a65eea22bb8013\n",
      "🧪 View experiment at: http://mlflow:5001/#/experiments/2\n",
      "🏃 View run logreg_C=0.1000_penalty=l1_solver=liblinear_max-iter=200 at: http://mlflow:5001/#/experiments/2/runs/78b744a18de54e2193ff7cd812ba08ef\n",
      "🧪 View experiment at: http://mlflow:5001/#/experiments/2\n",
      "🏃 View run logreg_C=1.0000_penalty=l1_solver=liblinear_max-iter=200 at: http://mlflow:5001/#/experiments/2/runs/51d860bee6e64df491381e895e19d84e\n",
      "🧪 View experiment at: http://mlflow:5001/#/experiments/2\n",
      "🏃 View run logreg_C=10.0000_penalty=l1_solver=liblinear_max-iter=200 at: http://mlflow:5001/#/experiments/2/runs/ab75f7dbafd04e4a946a2adccb209d44\n",
      "🧪 View experiment at: http://mlflow:5001/#/experiments/2\n",
      "🏃 View run logreg_C=0.0100_penalty=l2_solver=liblinear_max-iter=200 at: http://mlflow:5001/#/experiments/2/runs/0756d1c5ad0b4f45bd98ffd1a10f9f34\n",
      "🧪 View experiment at: http://mlflow:5001/#/experiments/2\n",
      "🏃 View run logreg_C=0.1000_penalty=l2_solver=liblinear_max-iter=200 at: http://mlflow:5001/#/experiments/2/runs/0af50eb5e730417d802691cb610cf422\n",
      "🧪 View experiment at: http://mlflow:5001/#/experiments/2\n",
      "🏃 View run logreg_C=1.0000_penalty=l2_solver=liblinear_max-iter=200 at: http://mlflow:5001/#/experiments/2/runs/694944144aec48318c9feb45bb827a66\n",
      "🧪 View experiment at: http://mlflow:5001/#/experiments/2\n",
      "🏃 View run logreg_C=10.0000_penalty=l2_solver=liblinear_max-iter=200 at: http://mlflow:5001/#/experiments/2/runs/39255ece823d48729a966ecbc41fad6a\n",
      "🧪 View experiment at: http://mlflow:5001/#/experiments/2\n",
      "🏃 View run logreg_C=0.0100_penalty=l2_solver=sag_max-iter=200 at: http://mlflow:5001/#/experiments/2/runs/ca7f2d46fa7a4b5fb521907ecef023b3\n",
      "🧪 View experiment at: http://mlflow:5001/#/experiments/2\n",
      "🏃 View run logreg_C=0.1000_penalty=l2_solver=sag_max-iter=200 at: http://mlflow:5001/#/experiments/2/runs/7bfadb21ab054200ac21e4df4a446d0f\n",
      "🧪 View experiment at: http://mlflow:5001/#/experiments/2\n",
      "🏃 View run logreg_C=1.0000_penalty=l2_solver=sag_max-iter=200 at: http://mlflow:5001/#/experiments/2/runs/a46fc8de4c484cba927872fb79bf6c49\n",
      "🧪 View experiment at: http://mlflow:5001/#/experiments/2\n",
      "🏃 View run logreg_C=10.0000_penalty=l2_solver=sag_max-iter=200 at: http://mlflow:5001/#/experiments/2/runs/d1f70f003a784641ae32bb07b562529a\n",
      "🧪 View experiment at: http://mlflow:5001/#/experiments/2\n"
     ]
    },
    {
     "name": "stderr",
     "output_type": "stream",
     "text": [
      "/usr/local/lib/python3.12/site-packages/sklearn/linear_model/_logistic.py:1207: UserWarning: Setting penalty=None will ignore the C and l1_ratio parameters\n",
      "  warnings.warn(\n"
     ]
    },
    {
     "name": "stdout",
     "output_type": "stream",
     "text": [
      "🏃 View run logreg_C=0.0100_penalty=None_solver=sag_max-iter=200 at: http://mlflow:5001/#/experiments/2/runs/dc2939b47fbc4324b032175d63cad4d0\n",
      "🧪 View experiment at: http://mlflow:5001/#/experiments/2\n"
     ]
    },
    {
     "name": "stderr",
     "output_type": "stream",
     "text": [
      "/usr/local/lib/python3.12/site-packages/sklearn/linear_model/_logistic.py:1207: UserWarning: Setting penalty=None will ignore the C and l1_ratio parameters\n",
      "  warnings.warn(\n"
     ]
    },
    {
     "name": "stdout",
     "output_type": "stream",
     "text": [
      "🏃 View run logreg_C=0.1000_penalty=None_solver=sag_max-iter=200 at: http://mlflow:5001/#/experiments/2/runs/f6a6b86767604732ba07e62598035d4e\n",
      "🧪 View experiment at: http://mlflow:5001/#/experiments/2\n",
      "🏃 View run logreg_C=1.0000_penalty=None_solver=sag_max-iter=200 at: http://mlflow:5001/#/experiments/2/runs/3787a22a07ce401788c6a5213692e270\n",
      "🧪 View experiment at: http://mlflow:5001/#/experiments/2\n"
     ]
    },
    {
     "name": "stderr",
     "output_type": "stream",
     "text": [
      "/usr/local/lib/python3.12/site-packages/sklearn/linear_model/_logistic.py:1207: UserWarning: Setting penalty=None will ignore the C and l1_ratio parameters\n",
      "  warnings.warn(\n"
     ]
    },
    {
     "name": "stdout",
     "output_type": "stream",
     "text": [
      "🏃 View run logreg_C=10.0000_penalty=None_solver=sag_max-iter=200 at: http://mlflow:5001/#/experiments/2/runs/831bd76145154bd794c21acbdc9c88fc\n",
      "🧪 View experiment at: http://mlflow:5001/#/experiments/2\n",
      "🏃 View run logreg_C=0.0100_penalty=l1_solver=saga_max-iter=200 at: http://mlflow:5001/#/experiments/2/runs/0c74217d7d43408581d620ae8ae6ecb5\n",
      "🧪 View experiment at: http://mlflow:5001/#/experiments/2\n",
      "🏃 View run logreg_C=0.1000_penalty=l1_solver=saga_max-iter=200 at: http://mlflow:5001/#/experiments/2/runs/edf5b981618049ceac9a0e8bda6f2df9\n",
      "🧪 View experiment at: http://mlflow:5001/#/experiments/2\n",
      "🏃 View run logreg_C=1.0000_penalty=l1_solver=saga_max-iter=200 at: http://mlflow:5001/#/experiments/2/runs/6eaf1e06cd1c420ab4c4b0e610e6cb8d\n",
      "🧪 View experiment at: http://mlflow:5001/#/experiments/2\n"
     ]
    },
    {
     "name": "stderr",
     "output_type": "stream",
     "text": [
      "/usr/local/lib/python3.12/site-packages/sklearn/linear_model/_sag.py:348: ConvergenceWarning: The max_iter was reached which means the coef_ did not converge\n",
      "  warnings.warn(\n"
     ]
    },
    {
     "name": "stdout",
     "output_type": "stream",
     "text": [
      "🏃 View run logreg_C=10.0000_penalty=l1_solver=saga_max-iter=200 at: http://mlflow:5001/#/experiments/2/runs/7534b886cf1a452fbc3daae97cf90db0\n",
      "🧪 View experiment at: http://mlflow:5001/#/experiments/2\n",
      "🏃 View run logreg_C=0.0100_penalty=l2_solver=saga_max-iter=200 at: http://mlflow:5001/#/experiments/2/runs/85a42ff4ebee468a9b41b782b0db00e3\n",
      "🧪 View experiment at: http://mlflow:5001/#/experiments/2\n",
      "🏃 View run logreg_C=0.1000_penalty=l2_solver=saga_max-iter=200 at: http://mlflow:5001/#/experiments/2/runs/a1211d9e91084aea8b409e08b10b9324\n",
      "🧪 View experiment at: http://mlflow:5001/#/experiments/2\n",
      "🏃 View run logreg_C=1.0000_penalty=l2_solver=saga_max-iter=200 at: http://mlflow:5001/#/experiments/2/runs/f6782861d5984f8a8ab2d27ee2ab5d95\n",
      "🧪 View experiment at: http://mlflow:5001/#/experiments/2\n",
      "🏃 View run logreg_C=10.0000_penalty=l2_solver=saga_max-iter=200 at: http://mlflow:5001/#/experiments/2/runs/b5d21ce483744d7fadeb1a251651bb74\n",
      "🧪 View experiment at: http://mlflow:5001/#/experiments/2\n",
      "Skipped C=0.01, penalty=elasticnet, solver=saga: l1_ratio must be specified when penalty is elasticnet.\n",
      "🏃 View run logreg_C=0.0100_penalty=elasticnet_solver=saga_max-iter=200 at: http://mlflow:5001/#/experiments/2/runs/89abbab0b6794599ade0b33f021cc3fe\n",
      "🧪 View experiment at: http://mlflow:5001/#/experiments/2\n",
      "Skipped C=0.1, penalty=elasticnet, solver=saga: l1_ratio must be specified when penalty is elasticnet.\n",
      "🏃 View run logreg_C=0.1000_penalty=elasticnet_solver=saga_max-iter=200 at: http://mlflow:5001/#/experiments/2/runs/62bd536f4f2e4a7aad3340c4e1efc91f\n",
      "🧪 View experiment at: http://mlflow:5001/#/experiments/2\n",
      "Skipped C=1, penalty=elasticnet, solver=saga: l1_ratio must be specified when penalty is elasticnet.\n",
      "🏃 View run logreg_C=1.0000_penalty=elasticnet_solver=saga_max-iter=200 at: http://mlflow:5001/#/experiments/2/runs/3c09de18bcca4fad8094c71cf88f686d\n",
      "🧪 View experiment at: http://mlflow:5001/#/experiments/2\n",
      "Skipped C=10, penalty=elasticnet, solver=saga: l1_ratio must be specified when penalty is elasticnet.\n",
      "🏃 View run logreg_C=10.0000_penalty=elasticnet_solver=saga_max-iter=200 at: http://mlflow:5001/#/experiments/2/runs/428e053af23d45369240c9e8302fbfc1\n",
      "🧪 View experiment at: http://mlflow:5001/#/experiments/2\n"
     ]
    },
    {
     "name": "stderr",
     "output_type": "stream",
     "text": [
      "/usr/local/lib/python3.12/site-packages/sklearn/linear_model/_logistic.py:1207: UserWarning: Setting penalty=None will ignore the C and l1_ratio parameters\n",
      "  warnings.warn(\n"
     ]
    },
    {
     "name": "stdout",
     "output_type": "stream",
     "text": [
      "🏃 View run logreg_C=0.0100_penalty=None_solver=saga_max-iter=200 at: http://mlflow:5001/#/experiments/2/runs/56f72af1606c4bc28f9a0664de11423c\n",
      "🧪 View experiment at: http://mlflow:5001/#/experiments/2\n"
     ]
    },
    {
     "name": "stderr",
     "output_type": "stream",
     "text": [
      "/usr/local/lib/python3.12/site-packages/sklearn/linear_model/_logistic.py:1207: UserWarning: Setting penalty=None will ignore the C and l1_ratio parameters\n",
      "  warnings.warn(\n"
     ]
    },
    {
     "name": "stdout",
     "output_type": "stream",
     "text": [
      "🏃 View run logreg_C=0.1000_penalty=None_solver=saga_max-iter=200 at: http://mlflow:5001/#/experiments/2/runs/c32737e740204f46b1aa2bd229df3104\n",
      "🧪 View experiment at: http://mlflow:5001/#/experiments/2\n",
      "🏃 View run logreg_C=1.0000_penalty=None_solver=saga_max-iter=200 at: http://mlflow:5001/#/experiments/2/runs/026bf4f4e1964a348be2a6f2e898eeee\n",
      "🧪 View experiment at: http://mlflow:5001/#/experiments/2\n"
     ]
    },
    {
     "name": "stderr",
     "output_type": "stream",
     "text": [
      "/usr/local/lib/python3.12/site-packages/sklearn/linear_model/_logistic.py:1207: UserWarning: Setting penalty=None will ignore the C and l1_ratio parameters\n",
      "  warnings.warn(\n"
     ]
    },
    {
     "name": "stdout",
     "output_type": "stream",
     "text": [
      "🏃 View run logreg_C=10.0000_penalty=None_solver=saga_max-iter=200 at: http://mlflow:5001/#/experiments/2/runs/784cb1c61ae64cb5b88f19173d405ec6\n",
      "🧪 View experiment at: http://mlflow:5001/#/experiments/2\n"
     ]
    }
   ],
   "source": [
    "best_score = -np.inf\n",
    "best_model = None\n",
    "best_params = {}\n",
    "best_signature = None\n",
    "best_input_example = None\n",
    "\n",
    "########################\n",
    "# Model Training\n",
    "########################\n",
    "for solver, penalty, C, max_iter in itertools.product(param_grid['solver'], param_grid['penalty'], param_grid['C'], param_grid['max_iter']):\n",
    "    if penalty not in valid_combinations.get(solver, []):\n",
    "        continue  # skip invalid combo\n",
    "\n",
    "    # Start an MLflow run\n",
    "    with mlflow.start_run(run_name=f\"logreg_C={C:.4f}_penalty={penalty}_solver={solver}_max-iter={max_iter}\"):\n",
    "        try:\n",
    "            ####################\n",
    "            # Train Model\n",
    "            ####################\n",
    "            model = LogisticRegression(C=C, penalty=penalty, solver=solver, max_iter=max_iter)\n",
    "            model.fit(X_train_arr, y_train_arr)\n",
    "\n",
    "            ####################\n",
    "            # Evaluate Metrics\n",
    "            ####################\n",
    "\n",
    "            # AUC\n",
    "            y_pred_proba_train = model.predict_proba(X_train_arr)[:, 1]\n",
    "            train_auc = roc_auc_score(y_train_arr, y_pred_proba_train)\n",
    "            y_pred_proba_val = model.predict_proba(X_val_arr)[:, 1]\n",
    "            val_auc = roc_auc_score(y_val_arr, y_pred_proba_val)\n",
    "\n",
    "            # F1.5\n",
    "            thresholds = np.arange(0.0, 1.0, 0.01)\n",
    "            beta = 1.5\n",
    "            fb_scores_train = [fbeta_score(y_train_arr, y_pred_proba_train > t, beta=beta) for t in thresholds]\n",
    "            fb_scores_val = [fbeta_score(y_val_arr, y_pred_proba_val > t, beta=beta) for t in thresholds]\n",
    "            best_threshold = thresholds[np.argmax(fb_scores_val)]\n",
    "\n",
    "            train_fb_score = fb_scores_train[np.argmax(fb_scores_val)]\n",
    "            val_fb_score = fb_scores_val[np.argmax(fb_scores_val)]\n",
    "\n",
    "            ####################\n",
    "            # Log to MLFlow\n",
    "            ####################\n",
    "            mlflow.log_param(\"C\", C)\n",
    "            mlflow.log_param(\"penalty\", penalty)\n",
    "            mlflow.log_param(\"solver\", solver)\n",
    "            mlflow.log_param(\"max_iter\", max_iter)\n",
    "\n",
    "            mlflow.log_metric(\"train_auc\", train_auc)\n",
    "            mlflow.log_metric(\"val_auc\", val_auc)\n",
    "\n",
    "            mlflow.log_metric(f\"train_f{beta:.1f}_score\", train_fb_score)\n",
    "            mlflow.log_metric(f\"val_f{beta:.1f}_score\", val_fb_score)\n",
    "\n",
    "            if val_auc > best_score:\n",
    "                best_score = val_auc\n",
    "                best_model = model\n",
    "                best_params = {'C': C, 'penalty': penalty, 'solver': solver, 'max_iter': max_iter}\n",
    "                best_signature = infer_signature(X_val_arr, model.predict_proba(X_val_arr))\n",
    "                best_input_example = X_val_arr[:5]\n",
    "        except Exception as e:\n",
    "            print(f\"Skipped C={C}, penalty={penalty}, solver={solver}: {e}\")\n",
    "            mlflow.end_run(status=\"FAILED\")\n",
    "            continue"
   ]
  },
  {
   "cell_type": "markdown",
   "id": "d7362d5a",
   "metadata": {},
   "source": [
    "Save best model"
   ]
  },
  {
   "cell_type": "code",
   "execution_count": 49,
   "id": "e8494b31",
   "metadata": {},
   "outputs": [
    {
     "name": "stderr",
     "output_type": "stream",
     "text": [
      "Registered model 'creditkarma-scorer' already exists. Creating a new version of this model...\n",
      "2025/06/15 06:53:32 INFO mlflow.store.model_registry.abstract_store: Waiting up to 300 seconds for model version to finish creation. Model name: creditkarma-scorer, version 2\n",
      "Created version '2' of model 'creditkarma-scorer'.\n"
     ]
    },
    {
     "name": "stdout",
     "output_type": "stream",
     "text": [
      "✅ Logged and registered best model: runs:/ab85f2fcc3af4d95b1bf893dabb759a2/2024-09-01\n",
      "🏃 View run best_model at: http://mlflow:5001/#/experiments/2/runs/ab85f2fcc3af4d95b1bf893dabb759a2\n",
      "🧪 View experiment at: http://mlflow:5001/#/experiments/2\n"
     ]
    }
   ],
   "source": [
    "with mlflow.start_run(run_name=\"best_model\"):\n",
    "    ####################\n",
    "    # Evaluate Metrics\n",
    "    ####################\n",
    "    # AUC\n",
    "    y_pred_proba_train = best_model.predict_proba(X_train_arr)[:, 1]\n",
    "    train_auc = roc_auc_score(y_train_arr, y_pred_proba_train)\n",
    "    y_pred_proba_val = best_model.predict_proba(X_val_arr)[:, 1]\n",
    "    val_auc = roc_auc_score(y_val_arr, y_pred_proba_val)\n",
    "    y_pred_proba_test = best_model.predict_proba(X_test_arr)[:, 1]\n",
    "    test_auc = roc_auc_score(y_test_arr, y_pred_proba_test)\n",
    "    y_pred_proba_oot = best_model.predict_proba(X_oot_arr)[:, 1]\n",
    "    oot_auc = roc_auc_score(y_oot_arr, y_pred_proba_oot)\n",
    "\n",
    "    # F1.5\n",
    "    thresholds = np.arange(0.0, 1.0, 0.01)\n",
    "    beta = 1.5\n",
    "    fb_scores_train = [fbeta_score(y_train_arr, y_pred_proba_train > t, beta=beta) for t in thresholds]\n",
    "    fb_scores_val = [fbeta_score(y_val_arr, y_pred_proba_val > t, beta=beta) for t in thresholds]\n",
    "    fb_scores_test = [fbeta_score(y_test_arr, y_pred_proba_test > t, beta=beta) for t in thresholds]\n",
    "    fb_scores_oot = [fbeta_score(y_oot_arr, y_pred_proba_oot > t, beta=beta) for t in thresholds]\n",
    "    best_threshold = thresholds[np.argmax(fb_scores_val)]\n",
    "\n",
    "    train_fb_score = fb_scores_train[np.argmax(fb_scores_val)]\n",
    "    val_fb_score = fb_scores_val[np.argmax(fb_scores_val)]\n",
    "    test_fb_score = fb_scores_train[np.argmax(fb_scores_test)]\n",
    "    oot_fb_score = fb_scores_val[np.argmax(fb_scores_oot)]\n",
    "\n",
    "    ####################\n",
    "    # Log to MLFlow\n",
    "    ####################\n",
    "    \n",
    "    # Params\n",
    "    mlflow.log_params(config)\n",
    "    mlflow.log_params(best_params)\n",
    "    mlflow.log_param(\"best_fb_threshold\", best_threshold)\n",
    "\n",
    "    # AUC\n",
    "    mlflow.log_metric(\"train_auc\", train_auc)\n",
    "    mlflow.log_metric(\"val_auc\", val_auc)\n",
    "    mlflow.log_metric(\"test_auc\", test_auc)\n",
    "    mlflow.log_metric(\"oot_auc\", oot_auc)\n",
    "\n",
    "    # F-Beta\n",
    "    mlflow.log_metric(f\"train_f{beta:.1f}_score\", train_fb_score)\n",
    "    mlflow.log_metric(f\"val_f{beta:.1f}_score\", val_fb_score)\n",
    "    mlflow.log_metric(f\"test_f{beta:.1f}_score\", test_fb_score)\n",
    "    mlflow.log_metric(f\"oot_f{beta:.1f}_score\", oot_fb_score)\n",
    "\n",
    "    full_pipeline = make_pipeline(\n",
    "        preprocessing_pipeline,\n",
    "        best_model\n",
    "    )\n",
    "\n",
    "    model_info = mlflow.sklearn.log_model(\n",
    "        sk_model=full_pipeline,\n",
    "        artifact_path=f\"{config['model_train_date_str']}\",\n",
    "        input_example=best_input_example,\n",
    "        signature=best_signature,\n",
    "        registered_model_name=\"creditkarma-scorer\"\n",
    "    )\n",
    "\n",
    "    client = MlflowClient()\n",
    "\n",
    "    client.set_model_version_tag(\n",
    "        name=\"creditkarma-scorer\",\n",
    "        version=model_info.registered_model_version,\n",
    "        key=\"train_date\",\n",
    "        value=config[\"model_train_date_str\"]\n",
    "    )\n",
    "\n",
    "    print(f\"✅ Logged and registered best model: {model_info.model_uri}\")"
   ]
  },
  {
   "cell_type": "markdown",
   "id": "99b65edf",
   "metadata": {},
   "source": [
    "Pick best model for production"
   ]
  },
  {
   "cell_type": "code",
   "execution_count": null,
   "id": "732de77f",
   "metadata": {},
   "outputs": [
    {
     "name": "stdout",
     "output_type": "stream",
     "text": [
      "✅ Deployed version 2 with composite score 0.7090\n"
     ]
    }
   ],
   "source": [
    "# metrics_to_compare = [\"test_f1.5_score\", \"oot_f1.5_score\"]\n",
    "\n",
    "# def scoring_fn(metrics):\n",
    "#     \"\"\"\n",
    "#     Weighted average of performance and stability metrics\n",
    "#     \"\"\"\n",
    "#     try:\n",
    "#         return (\n",
    "#             0.6 * metrics[\"test_f1.5_score\"] +\n",
    "#             0.4 * metrics[\"oot_f1.5_score\"]\n",
    "#         )\n",
    "#     except KeyError:\n",
    "#         return float(\"-inf\")  # skip models missing metrics\n",
    "\n",
    "# best_version = None\n",
    "# best_score = float(\"-inf\")\n",
    "\n",
    "# for v in client.search_model_versions(f\"name='creditkarma-scorer'\"):\n",
    "#     run_id = v.run_id\n",
    "#     run_metrics = client.get_run(run_id).data.metrics\n",
    "\n",
    "#     # Make sure all required metrics are present\n",
    "#     if all(m in run_metrics for m in metrics_to_compare):\n",
    "#         score = scoring_fn(run_metrics)\n",
    "#         if score > best_score:\n",
    "#             best_score = score\n",
    "#             best_version = v\n",
    "\n",
    "# if best_version:\n",
    "#     client.set_registered_model_alias(\"creditkarma-scorer\", \"champion\", best_version.version)\n",
    "#     print(f\"✅ Deployed version {best_version.version} with composite score {best_score:.4f}\")\n",
    "# else:\n",
    "#     print(\"❌ No suitable model version found.\")"
   ]
  }
 ],
 "metadata": {
  "kernelspec": {
   "display_name": "Python 3 (ipykernel)",
   "language": "python",
   "name": "python3"
  },
  "language_info": {
   "codemirror_mode": {
    "name": "ipython",
    "version": 3
   },
   "file_extension": ".py",
   "mimetype": "text/x-python",
   "name": "python",
   "nbconvert_exporter": "python",
   "pygments_lexer": "ipython3",
   "version": "3.12.11"
  }
 },
 "nbformat": 4,
 "nbformat_minor": 5
}
