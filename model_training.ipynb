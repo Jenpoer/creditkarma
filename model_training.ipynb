{
 "cells": [
  {
   "cell_type": "markdown",
   "id": "6664f41d",
   "metadata": {},
   "source": [
    "# Model Training\n",
    "\n",
    "This notebook holds a proof of concept of how the CreditKarma Scorer model would be trained using the gold table. CreditKarma Scorer is a binary classification logistic regression model that outputs the **probability of a customer defaulting their loan**. Loaning decisions are made by setting a threshold probability based on **F2-score**, as we want to be conservative in giving out loans and prioritize low-risk individuals (i.e. minimize false negatives from CreditKarma Scorer, which rates a high risk individual as low risk)."
   ]
  },
  {
   "cell_type": "code",
   "execution_count": 14,
   "id": "a59d32bc",
   "metadata": {},
   "outputs": [],
   "source": [
    "import os\n",
    "import glob\n",
    "import pandas as pd\n",
    "import matplotlib.pyplot as plt\n",
    "import numpy as np\n",
    "import pyspark\n",
    "from datetime import datetime, timedelta\n",
    "from dateutil.relativedelta import relativedelta\n",
    "\n",
    "from tqdm import tqdm\n",
    "import itertools\n",
    "\n",
    "from sklearn.model_selection import train_test_split\n",
    "from sklearn.preprocessing import StandardScaler\n",
    "from sklearn.linear_model import LogisticRegression\n",
    "from sklearn.metrics import roc_auc_score, fbeta_score, confusion_matrix, ConfusionMatrixDisplay\n",
    "import numpy as np\n",
    "\n",
    "import pickle\n",
    "\n",
    "import mlflow\n",
    "from mlflow.models import infer_signature\n",
    "from mlflow.tracking import MlflowClient"
   ]
  },
  {
   "cell_type": "markdown",
   "id": "d7991f63",
   "metadata": {},
   "source": [
    "# Data Preprocessing"
   ]
  },
  {
   "cell_type": "markdown",
   "id": "e3aefaba",
   "metadata": {},
   "source": [
    "**Import data from gold table**"
   ]
  },
  {
   "cell_type": "code",
   "execution_count": 2,
   "id": "946846f6",
   "metadata": {},
   "outputs": [
    {
     "name": "stderr",
     "output_type": "stream",
     "text": [
      "Setting default log level to \"WARN\".\n",
      "To adjust logging level use sc.setLogLevel(newLevel). For SparkR, use setLogLevel(newLevel).\n",
      "25/06/08 05:28:33 WARN NativeCodeLoader: Unable to load native-hadoop library for your platform... using builtin-java classes where applicable\n"
     ]
    }
   ],
   "source": [
    "spark = pyspark.sql.SparkSession.builder \\\n",
    "    .appName(\"model-training\") \\\n",
    "    .master(\"local[*]\") \\\n",
    "    .getOrCreate()"
   ]
  },
  {
   "cell_type": "code",
   "execution_count": 3,
   "id": "80ae8b14",
   "metadata": {},
   "outputs": [],
   "source": [
    "def read_gold_table(table, gold_db, spark):\n",
    "    \"\"\"\n",
    "    Helper function to read all partitions of a gold table\n",
    "    \"\"\"\n",
    "    folder_path = os.path.join(gold_db, table)\n",
    "    files_list = [os.path.join(folder_path, os.path.basename(f)) for f in glob.glob(os.path.join(folder_path, '*'))]\n",
    "    df = spark.read.option(\"header\", \"true\").parquet(*files_list)\n",
    "    return df\n"
   ]
  },
  {
   "cell_type": "code",
   "execution_count": 4,
   "id": "6fdcaa79",
   "metadata": {},
   "outputs": [
    {
     "name": "stderr",
     "output_type": "stream",
     "text": [
      "                                                                                \r"
     ]
    }
   ],
   "source": [
    "X_spark = read_gold_table('feature_store', 'datamart/gold', spark)\n",
    "y_spark = read_gold_table('label_store', 'datamart/gold', spark)"
   ]
  },
  {
   "cell_type": "code",
   "execution_count": 5,
   "id": "4723f900",
   "metadata": {},
   "outputs": [
    {
     "name": "stderr",
     "output_type": "stream",
     "text": [
      "25/06/08 05:28:47 WARN SparkStringUtils: Truncated the string representation of a plan since it was too large. This behavior can be adjusted by setting 'spark.sql.debug.maxToStringFields'.\n",
      "                                                                                \r"
     ]
    }
   ],
   "source": [
    "X_df = X_spark.toPandas().sort_values(by='customer_id')\n",
    "y_df = y_spark.toPandas().sort_values(by='customer_id')"
   ]
  },
  {
   "cell_type": "markdown",
   "id": "348ce0de",
   "metadata": {},
   "source": [
    "**Set train test split**"
   ]
  },
  {
   "cell_type": "code",
   "execution_count": 6,
   "id": "2ca753d6",
   "metadata": {},
   "outputs": [
    {
     "data": {
      "text/plain": [
       "{'model_train_date_str': '2024-09-02',\n",
       " 'train_test_period_months': 12,\n",
       " 'oot_period_months': 2,\n",
       " 'model_train_date': datetime.date(2024, 9, 2),\n",
       " 'oot_end_date': datetime.date(2024, 9, 1),\n",
       " 'oot_start_date': datetime.date(2024, 7, 2),\n",
       " 'train_test_end_date': datetime.date(2024, 7, 1),\n",
       " 'train_test_start_date': datetime.date(2023, 7, 2),\n",
       " 'train_valtest_ratio': 0.2,\n",
       " 'val_test_ratio': 0.5}"
      ]
     },
     "execution_count": 6,
     "metadata": {},
     "output_type": "execute_result"
    }
   ],
   "source": [
    "model_train_date_str = \"2024-09-02\" # pretend we're training the model at this time\n",
    "train_test_period_months = 12\n",
    "oot_period_months = 2\n",
    "train_valtest_ratio = 0.2\n",
    "val_test_ratio = 0.5\n",
    "\n",
    "config = {}\n",
    "config[\"model_train_date_str\"] = model_train_date_str\n",
    "config[\"train_test_period_months\"] = train_test_period_months\n",
    "config[\"oot_period_months\"] =  oot_period_months\n",
    "config[\"model_train_date\"] =  datetime.strptime(model_train_date_str, \"%Y-%m-%d\").date()\n",
    "config[\"oot_end_date\"] =  config['model_train_date'] - timedelta(days = 1)\n",
    "config[\"oot_start_date\"] =  config['model_train_date'] - relativedelta(months = oot_period_months)\n",
    "config[\"train_test_end_date\"] =  config[\"oot_start_date\"] - timedelta(days = 1)\n",
    "config[\"train_test_start_date\"] =  config[\"oot_start_date\"] - relativedelta(months = train_test_period_months)\n",
    "config[\"train_valtest_ratio\"] = train_valtest_ratio \n",
    "config[\"val_test_ratio\"] = val_test_ratio\n",
    "\n",
    "config"
   ]
  },
  {
   "cell_type": "markdown",
   "id": "f235aefe",
   "metadata": {},
   "source": [
    "Split OOT"
   ]
  },
  {
   "cell_type": "code",
   "execution_count": 7,
   "id": "eb37415c",
   "metadata": {},
   "outputs": [],
   "source": [
    "# Consider data from model training date\n",
    "y_model_df = y_df[(y_df['snapshot_date'] >= config['train_test_start_date']) & (y_df['snapshot_date'] <= config['model_train_date'])]\n",
    "X_model_df = X_df[np.isin(X_df['customer_id'], y_model_df['customer_id'].unique())]\n",
    "\n",
    "# Create OOT split\n",
    "y_oot = y_model_df[(y_model_df['snapshot_date'] >= config['oot_start_date']) & (y_model_df['snapshot_date'] <= config['oot_end_date'])]\n",
    "X_oot = X_model_df[np.isin(X_model_df['customer_id'], y_oot['customer_id'].unique())]\n",
    "\n",
    "# Everything else goes into train-test\n",
    "y_trainvaltest = y_model_df[y_model_df['snapshot_date'] <= config['train_test_end_date']]\n",
    "X_trainvaltest = X_model_df[np.isin(X_model_df['customer_id'], y_trainvaltest['customer_id'].unique())]"
   ]
  },
  {
   "cell_type": "markdown",
   "id": "06641936",
   "metadata": {},
   "source": [
    "Split train-test"
   ]
  },
  {
   "cell_type": "code",
   "execution_count": 8,
   "id": "d53409e7",
   "metadata": {},
   "outputs": [],
   "source": [
    "X_train, X_valtest, y_train, y_valtest = train_test_split(X_trainvaltest, y_trainvaltest, \n",
    "                                                    test_size=config['train_valtest_ratio'], \n",
    "                                                    random_state=611, \n",
    "                                                    shuffle=True, \n",
    "                                                    stratify=y_trainvaltest['label'])\n",
    "\n",
    "X_val, X_test, y_val, y_test = train_test_split(X_valtest, y_valtest, \n",
    "                                                    test_size=config['val_test_ratio'], \n",
    "                                                    random_state=611, \n",
    "                                                    shuffle=True, \n",
    "                                                    stratify=y_valtest['label'])"
   ]
  },
  {
   "cell_type": "code",
   "execution_count": 9,
   "id": "d4280627",
   "metadata": {},
   "outputs": [],
   "source": [
    "# Transform data into numpy arrays\n",
    "X_train_arr = X_train.drop(columns=['customer_id', 'snapshot_date']).values\n",
    "X_val_arr = X_val.drop(columns=['customer_id', 'snapshot_date']).values\n",
    "X_test_arr = X_test.drop(columns=['customer_id', 'snapshot_date']).values\n",
    "X_oot_arr = X_oot.drop(columns=['customer_id', 'snapshot_date']).values\n",
    "\n",
    "y_train_arr = y_train['label'].values\n",
    "y_val_arr = y_val['label'].values\n",
    "y_test_arr = y_test['label'].values\n",
    "y_oot_arr = y_oot['label'].values"
   ]
  },
  {
   "cell_type": "markdown",
   "id": "8ea218d8",
   "metadata": {},
   "source": [
    "Normalize data"
   ]
  },
  {
   "cell_type": "code",
   "execution_count": 10,
   "id": "d395f52f",
   "metadata": {},
   "outputs": [],
   "source": [
    "scaler = StandardScaler()\n",
    "X_train_arr = scaler.fit_transform(X_train_arr)\n",
    "X_val_arr = scaler.transform(X_val_arr)\n",
    "X_test_arr = scaler.transform(X_test_arr)\n",
    "X_oot_arr = scaler.transform(X_oot_arr)"
   ]
  },
  {
   "cell_type": "markdown",
   "id": "ba29b033",
   "metadata": {},
   "source": [
    "# Train CreditKarma Scorer"
   ]
  },
  {
   "cell_type": "code",
   "execution_count": 11,
   "id": "b44b2910",
   "metadata": {},
   "outputs": [],
   "source": [
    "param_grid = {\n",
    "    'penalty':['l1','l2','elasticnet', None],\n",
    "    'C' : [0.01, 0.1, 1, 10],\n",
    "    'solver': ['lbfgs','newton-cg','liblinear','sag','saga'],\n",
    "    'max_iter': [200]\n",
    "}\n",
    "\n",
    "valid_combinations = {\n",
    "    'liblinear': ['l1', 'l2'],\n",
    "    'lbfgs': ['l2', None],\n",
    "    'newton-cg': ['l2', None],\n",
    "    'sag': ['l2', None],\n",
    "    'saga': ['l1', 'l2', 'elasticnet', None],\n",
    "}"
   ]
  },
  {
   "cell_type": "code",
   "execution_count": null,
   "id": "daba8ed0",
   "metadata": {},
   "outputs": [
    {
     "name": "stdout",
     "output_type": "stream",
     "text": [
      "Evaluated C=0.01, penalty=l2, solver=lbfgs -> val_auc=0.8380\n",
      "Evaluated C=0.1, penalty=l2, solver=lbfgs -> val_auc=0.8361\n",
      "Evaluated C=1, penalty=l2, solver=lbfgs -> val_auc=0.8359\n",
      "Evaluated C=10, penalty=l2, solver=lbfgs -> val_auc=0.8358\n",
      "Evaluated C=0.01, penalty=None, solver=lbfgs -> val_auc=0.8358\n",
      "Evaluated C=0.1, penalty=None, solver=lbfgs -> val_auc=0.8358\n",
      "Evaluated C=1, penalty=None, solver=lbfgs -> val_auc=0.8358\n",
      "Evaluated C=10, penalty=None, solver=lbfgs -> val_auc=0.8358\n",
      "Evaluated C=0.01, penalty=l2, solver=newton-cg -> val_auc=0.8380\n",
      "Evaluated C=0.1, penalty=l2, solver=newton-cg -> val_auc=0.8362\n"
     ]
    },
    {
     "name": "stderr",
     "output_type": "stream",
     "text": [
      "/usr/local/lib/python3.12/site-packages/sklearn/linear_model/_logistic.py:1207: UserWarning: Setting penalty=None will ignore the C and l1_ratio parameters\n",
      "  warnings.warn(\n",
      "/usr/local/lib/python3.12/site-packages/sklearn/linear_model/_logistic.py:1207: UserWarning: Setting penalty=None will ignore the C and l1_ratio parameters\n",
      "  warnings.warn(\n",
      "/usr/local/lib/python3.12/site-packages/sklearn/linear_model/_logistic.py:1207: UserWarning: Setting penalty=None will ignore the C and l1_ratio parameters\n",
      "  warnings.warn(\n",
      "/usr/local/lib/python3.12/site-packages/sklearn/linear_model/_logistic.py:1207: UserWarning: Setting penalty=None will ignore the C and l1_ratio parameters\n",
      "  warnings.warn(\n"
     ]
    },
    {
     "name": "stdout",
     "output_type": "stream",
     "text": [
      "Evaluated C=1, penalty=l2, solver=newton-cg -> val_auc=0.8360\n",
      "Evaluated C=10, penalty=l2, solver=newton-cg -> val_auc=0.8359\n",
      "Evaluated C=0.01, penalty=None, solver=newton-cg -> val_auc=0.8359\n",
      "Evaluated C=0.1, penalty=None, solver=newton-cg -> val_auc=0.8359\n",
      "Evaluated C=1, penalty=None, solver=newton-cg -> val_auc=0.8359\n",
      "Evaluated C=10, penalty=None, solver=newton-cg -> val_auc=0.8359\n",
      "Evaluated C=0.01, penalty=l1, solver=liblinear -> val_auc=0.8346\n"
     ]
    },
    {
     "name": "stderr",
     "output_type": "stream",
     "text": [
      "/usr/local/lib/python3.12/site-packages/sklearn/linear_model/_logistic.py:1207: UserWarning: Setting penalty=None will ignore the C and l1_ratio parameters\n",
      "  warnings.warn(\n",
      "/usr/local/lib/python3.12/site-packages/sklearn/linear_model/_logistic.py:1207: UserWarning: Setting penalty=None will ignore the C and l1_ratio parameters\n",
      "  warnings.warn(\n"
     ]
    },
    {
     "name": "stdout",
     "output_type": "stream",
     "text": [
      "Evaluated C=0.1, penalty=l1, solver=liblinear -> val_auc=0.8380\n",
      "Evaluated C=1, penalty=l1, solver=liblinear -> val_auc=0.8363\n",
      "Evaluated C=10, penalty=l1, solver=liblinear -> val_auc=0.8359\n",
      "Evaluated C=0.01, penalty=l2, solver=liblinear -> val_auc=0.8379\n",
      "Evaluated C=0.1, penalty=l2, solver=liblinear -> val_auc=0.8362\n",
      "Evaluated C=1, penalty=l2, solver=liblinear -> val_auc=0.8360\n",
      "Evaluated C=10, penalty=l2, solver=liblinear -> val_auc=0.8359\n",
      "Evaluated C=0.01, penalty=l2, solver=sag -> val_auc=0.8380\n",
      "Evaluated C=0.1, penalty=l2, solver=sag -> val_auc=0.8362\n",
      "Evaluated C=1, penalty=l2, solver=sag -> val_auc=0.8360\n",
      "Evaluated C=10, penalty=l2, solver=sag -> val_auc=0.8359\n"
     ]
    },
    {
     "name": "stderr",
     "output_type": "stream",
     "text": [
      "/usr/local/lib/python3.12/site-packages/sklearn/linear_model/_logistic.py:1207: UserWarning: Setting penalty=None will ignore the C and l1_ratio parameters\n",
      "  warnings.warn(\n",
      "/usr/local/lib/python3.12/site-packages/sklearn/linear_model/_logistic.py:1207: UserWarning: Setting penalty=None will ignore the C and l1_ratio parameters\n",
      "  warnings.warn(\n"
     ]
    },
    {
     "name": "stdout",
     "output_type": "stream",
     "text": [
      "Evaluated C=0.01, penalty=None, solver=sag -> val_auc=0.8359\n",
      "Evaluated C=0.1, penalty=None, solver=sag -> val_auc=0.8359\n",
      "Evaluated C=1, penalty=None, solver=sag -> val_auc=0.8359\n"
     ]
    },
    {
     "name": "stderr",
     "output_type": "stream",
     "text": [
      "/usr/local/lib/python3.12/site-packages/sklearn/linear_model/_logistic.py:1207: UserWarning: Setting penalty=None will ignore the C and l1_ratio parameters\n",
      "  warnings.warn(\n"
     ]
    },
    {
     "name": "stdout",
     "output_type": "stream",
     "text": [
      "Evaluated C=10, penalty=None, solver=sag -> val_auc=0.8359\n",
      "Evaluated C=0.01, penalty=l1, solver=saga -> val_auc=0.8345\n",
      "Evaluated C=0.1, penalty=l1, solver=saga -> val_auc=0.8380\n",
      "Evaluated C=1, penalty=l1, solver=saga -> val_auc=0.8363\n"
     ]
    },
    {
     "name": "stderr",
     "output_type": "stream",
     "text": [
      "/usr/local/lib/python3.12/site-packages/sklearn/linear_model/_sag.py:348: ConvergenceWarning: The max_iter was reached which means the coef_ did not converge\n",
      "  warnings.warn(\n"
     ]
    },
    {
     "name": "stdout",
     "output_type": "stream",
     "text": [
      "Evaluated C=10, penalty=l1, solver=saga -> val_auc=0.8359\n",
      "Evaluated C=0.01, penalty=l2, solver=saga -> val_auc=0.8379\n",
      "Evaluated C=0.1, penalty=l2, solver=saga -> val_auc=0.8362\n",
      "Evaluated C=1, penalty=l2, solver=saga -> val_auc=0.8360\n",
      "Evaluated C=10, penalty=l2, solver=saga -> val_auc=0.8359\n"
     ]
    },
    {
     "name": "stderr",
     "output_type": "stream",
     "text": [
      "/usr/local/lib/python3.12/site-packages/sklearn/linear_model/_logistic.py:1207: UserWarning: Setting penalty=None will ignore the C and l1_ratio parameters\n",
      "  warnings.warn(\n"
     ]
    },
    {
     "name": "stdout",
     "output_type": "stream",
     "text": [
      "Evaluated C=0.01, penalty=None, solver=saga -> val_auc=0.8359\n"
     ]
    },
    {
     "name": "stderr",
     "output_type": "stream",
     "text": [
      "/usr/local/lib/python3.12/site-packages/sklearn/linear_model/_logistic.py:1207: UserWarning: Setting penalty=None will ignore the C and l1_ratio parameters\n",
      "  warnings.warn(\n"
     ]
    },
    {
     "name": "stdout",
     "output_type": "stream",
     "text": [
      "Evaluated C=0.1, penalty=None, solver=saga -> val_auc=0.8359\n",
      "Evaluated C=1, penalty=None, solver=saga -> val_auc=0.8359\n",
      "Evaluated C=10, penalty=None, solver=saga -> val_auc=0.8359\n"
     ]
    },
    {
     "name": "stderr",
     "output_type": "stream",
     "text": [
      "/usr/local/lib/python3.12/site-packages/sklearn/linear_model/_logistic.py:1207: UserWarning: Setting penalty=None will ignore the C and l1_ratio parameters\n",
      "  warnings.warn(\n"
     ]
    }
   ],
   "source": [
    "best_score = -np.inf\n",
    "clf = None\n",
    "best_params = {}\n",
    "\n",
    "for solver, penalty, C, max_iter in itertools.product(param_grid['solver'], param_grid['penalty'], param_grid['C'], param_grid['max_iter']):\n",
    "    # if penalty not in valid_combinations.get(solver, []):\n",
    "    #     continue  # skip invalid combo\n",
    "    try:\n",
    "        model = LogisticRegression(C=C, penalty=penalty, solver=solver, max_iter=max_iter)\n",
    "        model.fit(X_train_arr, y_train_arr)\n",
    "        val_preds = model.predict_proba(X_val_arr)[:, 1]\n",
    "        score = roc_auc_score(y_val_arr, val_preds)\n",
    "        \n",
    "        print(f\"Evaluated C={C}, penalty={penalty}, solver={solver} -> val_auc={score:.4f}\")\n",
    "\n",
    "        if score > best_score:\n",
    "            best_score = score\n",
    "            clf = model\n",
    "            best_params = {'C': C, 'penalty': penalty, 'solver': solver}\n",
    "    except Exception as e:\n",
    "        # print(f\"Skipped C={C}, penalty={penalty}, solver={solver}: {e}\")\n",
    "        continue\n",
    "\n",
    "# Save best model\n",
    "with open(\"model.pkl\", \"wb\") as f:\n",
    "    pickle.dump(clf, f)"
   ]
  },
  {
   "cell_type": "markdown",
   "id": "bbe4afe2",
   "metadata": {},
   "source": [
    "# Evaluate CreditKarma Scorer"
   ]
  },
  {
   "cell_type": "code",
   "execution_count": 54,
   "id": "1c340811",
   "metadata": {},
   "outputs": [],
   "source": [
    "# Load model\n",
    "with open(\"model.pkl\", \"rb\") as f:\n",
    "    clf = pickle.load(f)"
   ]
  },
  {
   "cell_type": "code",
   "execution_count": 55,
   "id": "48e60ecb",
   "metadata": {},
   "outputs": [
    {
     "name": "stdout",
     "output_type": "stream",
     "text": [
      "Train AUC: 0.8779\n",
      "Val AUC: 0.8380\n",
      "Test AUC: 0.8216\n",
      "OOT AUC: 0.9040\n"
     ]
    }
   ],
   "source": [
    "# Predict and evaluate\n",
    "y_pred_proba_train = clf.predict_proba(X_train_arr)[:, 1]\n",
    "train_auc = roc_auc_score(y_train_arr, y_pred_proba_train)\n",
    "\n",
    "y_pred_proba_val = clf.predict_proba(X_val_arr)[:, 1]\n",
    "val_auc = roc_auc_score(y_val_arr, y_pred_proba_val)\n",
    "\n",
    "y_pred_proba_test = clf.predict_proba(X_test_arr)[:, 1]\n",
    "test_auc = roc_auc_score(y_test_arr, y_pred_proba_test)\n",
    "\n",
    "y_pred_proba_oot = clf.predict_proba(X_oot_arr)[:, 1]\n",
    "oot_auc = roc_auc_score(y_oot_arr, y_pred_proba_oot)\n",
    "\n",
    "print(f\"Train AUC: {train_auc:.4f}\")\n",
    "print(f\"Val AUC: {val_auc:.4f}\")\n",
    "print(f\"Test AUC: {test_auc:.4f}\")\n",
    "print(f\"OOT AUC: {oot_auc:.4f}\")"
   ]
  },
  {
   "cell_type": "code",
   "execution_count": 56,
   "id": "7369da93",
   "metadata": {},
   "outputs": [
    {
     "data": {
      "image/png": "[encoded data removed]",
      "text/plain": [
       "<Figure size 1000x400 with 1 Axes>"
      ]
     },
     "metadata": {},
     "output_type": "display_data"
    }
   ],
   "source": [
    "# F-B score across thresholds\n",
    "thresholds = np.arange(0.0, 1.0, 0.01)\n",
    "beta = 1.5\n",
    "f1_scores_train = [fbeta_score(y_train_arr, y_pred_proba_train > t, beta=beta) for t in thresholds]\n",
    "f1_scores_val = [fbeta_score(y_val_arr, y_pred_proba_val > t, beta=beta) for t in thresholds]\n",
    "f1_scores_test = [fbeta_score(y_test_arr, y_pred_proba_test > t, beta=beta) for t in thresholds]\n",
    "f1_scores_oot = [fbeta_score(y_oot_arr, y_pred_proba_oot > t, beta=beta) for t in thresholds]\n",
    "best_threshold = thresholds[np.argmax(f1_scores_val)]\n",
    "\n",
    "# Plot F1 Score vs. Threshold\n",
    "plt.figure(figsize=(10, 4))\n",
    "plt.plot(thresholds, f1_scores_train, label=f\"Train F-{beta} Score\")\n",
    "plt.plot(thresholds, f1_scores_val, label=f\"Val F-{beta} Score\")\n",
    "plt.plot(thresholds, f1_scores_test, label=f\"Test F-{beta} Score\")\n",
    "plt.plot(thresholds, f1_scores_oot, label=f\"OOT F-{beta} Score\")\n",
    "plt.axvline(x=best_threshold, color=\"red\", linestyle=\"--\", label=f\"Best Threshold: {best_threshold:.2f}\")\n",
    "plt.title(f\"F-{beta} Score vs. Probability Threshold\")\n",
    "plt.xlabel(\"Threshold\")\n",
    "plt.ylabel(f\"F-{beta} Score\")\n",
    "plt.legend()\n",
    "plt.grid(True)\n",
    "plt.tight_layout()\n",
    "plt.show()"
   ]
  },
  {
   "cell_type": "code",
   "execution_count": 57,
   "id": "8d5dace0",
   "metadata": {},
   "outputs": [
    {
     "data": {
      "image/png": "[encoded data removed]",
      "text/plain": [
       "<Figure size 1800x500 with 4 Axes>"
      ]
     },
     "metadata": {},
     "output_type": "display_data"
    }
   ],
   "source": [
    "# Predictions\n",
    "y_pred_train = (y_pred_proba_train > best_threshold).astype(int)\n",
    "y_pred_val = (y_pred_proba_val > best_threshold).astype(int)\n",
    "y_pred_test = (y_pred_proba_test > best_threshold).astype(int)\n",
    "y_pred_oot = (y_pred_proba_oot > best_threshold).astype(int)\n",
    "\n",
    "# Confusion matrices\n",
    "cm_train = confusion_matrix(y_train_arr, y_pred_train)\n",
    "cm_val = confusion_matrix(y_val_arr, y_pred_val)\n",
    "cm_test = confusion_matrix(y_test_arr, y_pred_test)\n",
    "cm_oot = confusion_matrix(y_oot_arr, y_pred_oot)\n",
    "\n",
    "# Plotting\n",
    "fig, axs = plt.subplots(1, 4, figsize=(18, 5))\n",
    "\n",
    "# Train\n",
    "disp_train = ConfusionMatrixDisplay(confusion_matrix=cm_train)\n",
    "disp_train.plot(ax=axs[0], cmap='Blues', colorbar=False)\n",
    "axs[0].set_title(f\"Train (Threshold={best_threshold:.2f})\")\n",
    "axs[0].grid(False)\n",
    "\n",
    "# Val\n",
    "disp_val = ConfusionMatrixDisplay(confusion_matrix=cm_val)\n",
    "disp_val.plot(ax=axs[1], cmap='Blues', colorbar=False)\n",
    "axs[1].set_title(f\"Val (Threshold={best_threshold:.2f})\")\n",
    "axs[1].grid(False)\n",
    "\n",
    "# Test\n",
    "disp_test = ConfusionMatrixDisplay(confusion_matrix=cm_test)\n",
    "disp_test.plot(ax=axs[2], cmap='Blues', colorbar=False)\n",
    "axs[2].set_title(f\"Test (Threshold={best_threshold:.2f})\")\n",
    "axs[2].grid(False)\n",
    "\n",
    "# OOT\n",
    "disp_oot = ConfusionMatrixDisplay(confusion_matrix=cm_oot)\n",
    "disp_oot.plot(ax=axs[3], cmap='Blues', colorbar=False)\n",
    "axs[3].set_title(f\"OOT (Threshold={best_threshold:.2f})\")\n",
    "axs[3].grid(False)\n",
    "\n",
    "plt.tight_layout()\n",
    "plt.show()"
   ]
  },
  {
   "cell_type": "code",
   "execution_count": 58,
   "id": "34d9489f",
   "metadata": {},
   "outputs": [
    {
     "name": "stdout",
     "output_type": "stream",
     "text": [
      "Best Train F1.5-Score: 0.7408\n",
      "Best Val F1.5-Score: 0.7102\n",
      "Best Test F1.5-Score: 0.6800\n",
      "Best OOT F1.5-Score: 0.7714\n"
     ]
    }
   ],
   "source": [
    "print(f\"Best Train F{beta}-Score: {max(f1_scores_train):.4f}\")\n",
    "print(f\"Best Val F{beta}-Score: {max(f1_scores_val):.4f}\")\n",
    "print(f\"Best Test F{beta}-Score: {max(f1_scores_test):.4f}\")\n",
    "print(f\"Best OOT F{beta}-Score: {max(f1_scores_oot):.4f}\")"
   ]
  },
  {
   "cell_type": "markdown",
   "id": "ab671f18",
   "metadata": {},
   "source": [
    "# Training Pipeline with MLFlow"
   ]
  },
  {
   "cell_type": "code",
   "execution_count": 12,
   "id": "502260e2",
   "metadata": {},
   "outputs": [
    {
     "name": "stderr",
     "output_type": "stream",
     "text": [
      "2025/06/08 05:31:27 INFO mlflow.tracking.fluent: Experiment with name '2024-09-02' does not exist. Creating a new experiment.\n"
     ]
    },
    {
     "data": {
      "text/plain": [
       "<Experiment: artifact_location='/app/model_bank/1', creation_time=1749360687419, experiment_id='1', last_update_time=1749360687419, lifecycle_stage='active', name='2024-09-02', tags={}>"
      ]
     },
     "execution_count": 12,
     "metadata": {},
     "output_type": "execute_result"
    }
   ],
   "source": [
    "# Set our tracking server uri for logging\n",
    "mlflow.set_tracking_uri(uri=\"http://mlflow:5001\")\n",
    "\n",
    "# Create a new experiment for that training date\n",
    "mlflow.set_experiment(config[\"model_train_date_str\"])"
   ]
  },
  {
   "cell_type": "markdown",
   "id": "03a409fb",
   "metadata": {},
   "source": [
    "Train & hyperparameter tune model"
   ]
  },
  {
   "cell_type": "code",
   "execution_count": null,
   "id": "725041bd",
   "metadata": {},
   "outputs": [
    {
     "name": "stderr",
     "output_type": "stream",
     "text": [
      "2025/06/08 05:31:30 WARNING mlflow.utils.git_utils: Failed to import Git (the Git executable is probably not on your PATH), so Git SHA is not available. Error: Failed to initialize: Bad git executable.\n",
      "The git executable must be specified in one of the following ways:\n",
      "    - be included in your $PATH\n",
      "    - be set via $GIT_PYTHON_GIT_EXECUTABLE\n",
      "    - explicitly set via git.refresh(<full-path-to-git-executable>)\n",
      "\n",
      "All git commands will error until this is rectified.\n",
      "\n",
      "This initial message can be silenced or aggravated in the future by setting the\n",
      "$GIT_PYTHON_REFRESH environment variable. Use one of the following values:\n",
      "    - quiet|q|silence|s|silent|none|n|0: for no message or exception\n",
      "    - warn|w|warning|log|l|1: for a warning message (logging level CRITICAL, displayed by default)\n",
      "    - error|e|exception|raise|r|2: for a raised exception\n",
      "\n",
      "Example:\n",
      "    export GIT_PYTHON_REFRESH=quiet\n",
      "\n"
     ]
    },
    {
     "name": "stdout",
     "output_type": "stream",
     "text": [
      "🏃 View run logreg_C=0.0100_penalty=l2_solver=lbfgs_max-iter=200 at: http://mlflow:5001/#/experiments/1/runs/0f5c8703b969464a8904013c598b5606\n",
      "🧪 View experiment at: http://mlflow:5001/#/experiments/1\n",
      "🏃 View run logreg_C=0.1000_penalty=l2_solver=lbfgs_max-iter=200 at: http://mlflow:5001/#/experiments/1/runs/029e7c9960f54990a50ffda08ed64a48\n",
      "🧪 View experiment at: http://mlflow:5001/#/experiments/1\n",
      "🏃 View run logreg_C=1.0000_penalty=l2_solver=lbfgs_max-iter=200 at: http://mlflow:5001/#/experiments/1/runs/04da115f7aa7409c86fe6f873d7b0fb2\n",
      "🧪 View experiment at: http://mlflow:5001/#/experiments/1\n",
      "🏃 View run logreg_C=10.0000_penalty=l2_solver=lbfgs_max-iter=200 at: http://mlflow:5001/#/experiments/1/runs/4cb38bf14f41420d8e58e70e99e17cf1\n",
      "🧪 View experiment at: http://mlflow:5001/#/experiments/1\n"
     ]
    },
    {
     "name": "stderr",
     "output_type": "stream",
     "text": [
      "/usr/local/lib/python3.12/site-packages/sklearn/linear_model/_logistic.py:1207: UserWarning: Setting penalty=None will ignore the C and l1_ratio parameters\n",
      "  warnings.warn(\n"
     ]
    },
    {
     "name": "stdout",
     "output_type": "stream",
     "text": [
      "🏃 View run logreg_C=0.0100_penalty=None_solver=lbfgs_max-iter=200 at: http://mlflow:5001/#/experiments/1/runs/f2706f3c1a1047c7ab87ac1290fe21c0\n",
      "🧪 View experiment at: http://mlflow:5001/#/experiments/1\n"
     ]
    },
    {
     "name": "stderr",
     "output_type": "stream",
     "text": [
      "/usr/local/lib/python3.12/site-packages/sklearn/linear_model/_logistic.py:1207: UserWarning: Setting penalty=None will ignore the C and l1_ratio parameters\n",
      "  warnings.warn(\n"
     ]
    },
    {
     "name": "stdout",
     "output_type": "stream",
     "text": [
      "🏃 View run logreg_C=0.1000_penalty=None_solver=lbfgs_max-iter=200 at: http://mlflow:5001/#/experiments/1/runs/bcdf68ca370b456b87c2bb7f55619ee4\n",
      "🧪 View experiment at: http://mlflow:5001/#/experiments/1\n",
      "🏃 View run logreg_C=1.0000_penalty=None_solver=lbfgs_max-iter=200 at: http://mlflow:5001/#/experiments/1/runs/f37cb88574a545f8a72146cc29a46a7b\n",
      "🧪 View experiment at: http://mlflow:5001/#/experiments/1\n"
     ]
    },
    {
     "name": "stderr",
     "output_type": "stream",
     "text": [
      "/usr/local/lib/python3.12/site-packages/sklearn/linear_model/_logistic.py:1207: UserWarning: Setting penalty=None will ignore the C and l1_ratio parameters\n",
      "  warnings.warn(\n"
     ]
    },
    {
     "name": "stdout",
     "output_type": "stream",
     "text": [
      "🏃 View run logreg_C=10.0000_penalty=None_solver=lbfgs_max-iter=200 at: http://mlflow:5001/#/experiments/1/runs/cf7243452c9b4a06be8f636695f101a6\n",
      "🧪 View experiment at: http://mlflow:5001/#/experiments/1\n",
      "🏃 View run logreg_C=0.0100_penalty=l2_solver=newton-cg_max-iter=200 at: http://mlflow:5001/#/experiments/1/runs/7b8a32770f13499692cdc06555e9a556\n",
      "🧪 View experiment at: http://mlflow:5001/#/experiments/1\n",
      "🏃 View run logreg_C=0.1000_penalty=l2_solver=newton-cg_max-iter=200 at: http://mlflow:5001/#/experiments/1/runs/848f0812eae14472b1d81b282a420976\n",
      "🧪 View experiment at: http://mlflow:5001/#/experiments/1\n",
      "🏃 View run logreg_C=1.0000_penalty=l2_solver=newton-cg_max-iter=200 at: http://mlflow:5001/#/experiments/1/runs/565f5d6bb27f4407916e64bdc9a57f1f\n",
      "🧪 View experiment at: http://mlflow:5001/#/experiments/1\n",
      "🏃 View run logreg_C=10.0000_penalty=l2_solver=newton-cg_max-iter=200 at: http://mlflow:5001/#/experiments/1/runs/5c669b4dc97f45c4b012f528bec16505\n",
      "🧪 View experiment at: http://mlflow:5001/#/experiments/1\n"
     ]
    },
    {
     "name": "stderr",
     "output_type": "stream",
     "text": [
      "/usr/local/lib/python3.12/site-packages/sklearn/linear_model/_logistic.py:1207: UserWarning: Setting penalty=None will ignore the C and l1_ratio parameters\n",
      "  warnings.warn(\n"
     ]
    },
    {
     "name": "stdout",
     "output_type": "stream",
     "text": [
      "🏃 View run logreg_C=0.0100_penalty=None_solver=newton-cg_max-iter=200 at: http://mlflow:5001/#/experiments/1/runs/ac83fdf67dc640c58317cd897f626919\n",
      "🧪 View experiment at: http://mlflow:5001/#/experiments/1\n"
     ]
    },
    {
     "name": "stderr",
     "output_type": "stream",
     "text": [
      "/usr/local/lib/python3.12/site-packages/sklearn/linear_model/_logistic.py:1207: UserWarning: Setting penalty=None will ignore the C and l1_ratio parameters\n",
      "  warnings.warn(\n"
     ]
    },
    {
     "name": "stdout",
     "output_type": "stream",
     "text": [
      "🏃 View run logreg_C=0.1000_penalty=None_solver=newton-cg_max-iter=200 at: http://mlflow:5001/#/experiments/1/runs/63c10303f51d401b9e713ecf6d9d3007\n",
      "🧪 View experiment at: http://mlflow:5001/#/experiments/1\n",
      "🏃 View run logreg_C=1.0000_penalty=None_solver=newton-cg_max-iter=200 at: http://mlflow:5001/#/experiments/1/runs/1a93eb2a41c84ffdaaa968cb140b2616\n",
      "🧪 View experiment at: http://mlflow:5001/#/experiments/1\n"
     ]
    },
    {
     "name": "stderr",
     "output_type": "stream",
     "text": [
      "/usr/local/lib/python3.12/site-packages/sklearn/linear_model/_logistic.py:1207: UserWarning: Setting penalty=None will ignore the C and l1_ratio parameters\n",
      "  warnings.warn(\n"
     ]
    },
    {
     "name": "stdout",
     "output_type": "stream",
     "text": [
      "🏃 View run logreg_C=10.0000_penalty=None_solver=newton-cg_max-iter=200 at: http://mlflow:5001/#/experiments/1/runs/8e1870c4c90d4af1b1d3a03470d21972\n",
      "🧪 View experiment at: http://mlflow:5001/#/experiments/1\n",
      "🏃 View run logreg_C=0.0100_penalty=l1_solver=liblinear_max-iter=200 at: http://mlflow:5001/#/experiments/1/runs/be5df2f9dc6242eb950c493ee24d2732\n",
      "🧪 View experiment at: http://mlflow:5001/#/experiments/1\n",
      "🏃 View run logreg_C=0.1000_penalty=l1_solver=liblinear_max-iter=200 at: http://mlflow:5001/#/experiments/1/runs/a6f56728de5b4db9a3d12606da02c61f\n",
      "🧪 View experiment at: http://mlflow:5001/#/experiments/1\n",
      "🏃 View run logreg_C=1.0000_penalty=l1_solver=liblinear_max-iter=200 at: http://mlflow:5001/#/experiments/1/runs/07e49ebe57874fb495dc85b492f46056\n",
      "🧪 View experiment at: http://mlflow:5001/#/experiments/1\n",
      "🏃 View run logreg_C=10.0000_penalty=l1_solver=liblinear_max-iter=200 at: http://mlflow:5001/#/experiments/1/runs/35190273ebb2425b86aa1b0243e5e65a\n",
      "🧪 View experiment at: http://mlflow:5001/#/experiments/1\n",
      "🏃 View run logreg_C=0.0100_penalty=l2_solver=liblinear_max-iter=200 at: http://mlflow:5001/#/experiments/1/runs/5fbf9361df1f4a9e92c7f9f2ce9742fb\n",
      "🧪 View experiment at: http://mlflow:5001/#/experiments/1\n",
      "🏃 View run logreg_C=0.1000_penalty=l2_solver=liblinear_max-iter=200 at: http://mlflow:5001/#/experiments/1/runs/f59bf3c7914c485aa3b58a994f8c090b\n",
      "🧪 View experiment at: http://mlflow:5001/#/experiments/1\n",
      "🏃 View run logreg_C=1.0000_penalty=l2_solver=liblinear_max-iter=200 at: http://mlflow:5001/#/experiments/1/runs/2b46f4fc52ce452c872496b9cd3d0ce5\n",
      "🧪 View experiment at: http://mlflow:5001/#/experiments/1\n",
      "🏃 View run logreg_C=10.0000_penalty=l2_solver=liblinear_max-iter=200 at: http://mlflow:5001/#/experiments/1/runs/20bfbfcb6c5b4ab991c5a80a2d3c33c5\n",
      "🧪 View experiment at: http://mlflow:5001/#/experiments/1\n",
      "🏃 View run logreg_C=0.0100_penalty=l2_solver=sag_max-iter=200 at: http://mlflow:5001/#/experiments/1/runs/67e79beedfd642c6ad5d8eb95d7381fa\n",
      "🧪 View experiment at: http://mlflow:5001/#/experiments/1\n",
      "🏃 View run logreg_C=0.1000_penalty=l2_solver=sag_max-iter=200 at: http://mlflow:5001/#/experiments/1/runs/59951642828a4cc88ff8885816fd817a\n",
      "🧪 View experiment at: http://mlflow:5001/#/experiments/1\n",
      "🏃 View run logreg_C=1.0000_penalty=l2_solver=sag_max-iter=200 at: http://mlflow:5001/#/experiments/1/runs/163c19ee285e44d3b43e540a9a45ad50\n",
      "🧪 View experiment at: http://mlflow:5001/#/experiments/1\n",
      "🏃 View run logreg_C=10.0000_penalty=l2_solver=sag_max-iter=200 at: http://mlflow:5001/#/experiments/1/runs/68b8f7d586af43c68966b555d096a21c\n",
      "🧪 View experiment at: http://mlflow:5001/#/experiments/1\n"
     ]
    },
    {
     "name": "stderr",
     "output_type": "stream",
     "text": [
      "/usr/local/lib/python3.12/site-packages/sklearn/linear_model/_logistic.py:1207: UserWarning: Setting penalty=None will ignore the C and l1_ratio parameters\n",
      "  warnings.warn(\n"
     ]
    },
    {
     "name": "stdout",
     "output_type": "stream",
     "text": [
      "🏃 View run logreg_C=0.0100_penalty=None_solver=sag_max-iter=200 at: http://mlflow:5001/#/experiments/1/runs/8de7be0102f84a30a94df3f3b6dffff3\n",
      "🧪 View experiment at: http://mlflow:5001/#/experiments/1\n"
     ]
    },
    {
     "name": "stderr",
     "output_type": "stream",
     "text": [
      "/usr/local/lib/python3.12/site-packages/sklearn/linear_model/_logistic.py:1207: UserWarning: Setting penalty=None will ignore the C and l1_ratio parameters\n",
      "  warnings.warn(\n"
     ]
    },
    {
     "name": "stdout",
     "output_type": "stream",
     "text": [
      "🏃 View run logreg_C=0.1000_penalty=None_solver=sag_max-iter=200 at: http://mlflow:5001/#/experiments/1/runs/023be6039e244d22b68f08b45c23c3f2\n",
      "🧪 View experiment at: http://mlflow:5001/#/experiments/1\n",
      "🏃 View run logreg_C=1.0000_penalty=None_solver=sag_max-iter=200 at: http://mlflow:5001/#/experiments/1/runs/3b0f4a867e414c808af3eb9f755abfad\n",
      "🧪 View experiment at: http://mlflow:5001/#/experiments/1\n"
     ]
    },
    {
     "name": "stderr",
     "output_type": "stream",
     "text": [
      "/usr/local/lib/python3.12/site-packages/sklearn/linear_model/_logistic.py:1207: UserWarning: Setting penalty=None will ignore the C and l1_ratio parameters\n",
      "  warnings.warn(\n"
     ]
    },
    {
     "name": "stdout",
     "output_type": "stream",
     "text": [
      "🏃 View run logreg_C=10.0000_penalty=None_solver=sag_max-iter=200 at: http://mlflow:5001/#/experiments/1/runs/84dd056cb0914f96ab55228e35c75d9b\n",
      "🧪 View experiment at: http://mlflow:5001/#/experiments/1\n",
      "🏃 View run logreg_C=0.0100_penalty=l1_solver=saga_max-iter=200 at: http://mlflow:5001/#/experiments/1/runs/a454be39803f4faaae3be01f2cbe3499\n",
      "🧪 View experiment at: http://mlflow:5001/#/experiments/1\n",
      "🏃 View run logreg_C=0.1000_penalty=l1_solver=saga_max-iter=200 at: http://mlflow:5001/#/experiments/1/runs/eb1e0ff8942940ba82f191c580139dd3\n",
      "🧪 View experiment at: http://mlflow:5001/#/experiments/1\n",
      "🏃 View run logreg_C=1.0000_penalty=l1_solver=saga_max-iter=200 at: http://mlflow:5001/#/experiments/1/runs/72ebb50c387049308c8eb19f6ddc110d\n",
      "🧪 View experiment at: http://mlflow:5001/#/experiments/1\n"
     ]
    },
    {
     "name": "stderr",
     "output_type": "stream",
     "text": [
      "/usr/local/lib/python3.12/site-packages/sklearn/linear_model/_sag.py:348: ConvergenceWarning: The max_iter was reached which means the coef_ did not converge\n",
      "  warnings.warn(\n"
     ]
    },
    {
     "name": "stdout",
     "output_type": "stream",
     "text": [
      "🏃 View run logreg_C=10.0000_penalty=l1_solver=saga_max-iter=200 at: http://mlflow:5001/#/experiments/1/runs/98d85c48d61d45f0b55847204295fb05\n",
      "🧪 View experiment at: http://mlflow:5001/#/experiments/1\n",
      "🏃 View run logreg_C=0.0100_penalty=l2_solver=saga_max-iter=200 at: http://mlflow:5001/#/experiments/1/runs/a90b6a0cba0048f6a41dfa29518d4359\n",
      "🧪 View experiment at: http://mlflow:5001/#/experiments/1\n",
      "🏃 View run logreg_C=0.1000_penalty=l2_solver=saga_max-iter=200 at: http://mlflow:5001/#/experiments/1/runs/180712e0e09b4ad5aa8da5264e9a4be4\n",
      "🧪 View experiment at: http://mlflow:5001/#/experiments/1\n",
      "🏃 View run logreg_C=1.0000_penalty=l2_solver=saga_max-iter=200 at: http://mlflow:5001/#/experiments/1/runs/6bf24ed737c5461193356517f0ead387\n",
      "🧪 View experiment at: http://mlflow:5001/#/experiments/1\n",
      "🏃 View run logreg_C=10.0000_penalty=l2_solver=saga_max-iter=200 at: http://mlflow:5001/#/experiments/1/runs/65a04fa6b7df4bcd994b3b4a2d554f86\n",
      "🧪 View experiment at: http://mlflow:5001/#/experiments/1\n",
      "🏃 View run logreg_C=0.0100_penalty=elasticnet_solver=saga_max-iter=200 at: http://mlflow:5001/#/experiments/1/runs/a7a635312d5f4710a6c08ddc09c442d7\n",
      "🧪 View experiment at: http://mlflow:5001/#/experiments/1\n",
      "🏃 View run logreg_C=0.1000_penalty=elasticnet_solver=saga_max-iter=200 at: http://mlflow:5001/#/experiments/1/runs/c5f82415bf984c9c8d7493ebe682d03e\n",
      "🧪 View experiment at: http://mlflow:5001/#/experiments/1\n",
      "🏃 View run logreg_C=1.0000_penalty=elasticnet_solver=saga_max-iter=200 at: http://mlflow:5001/#/experiments/1/runs/37aab706b2fd4ccabb5b3664e2586dc6\n",
      "🧪 View experiment at: http://mlflow:5001/#/experiments/1\n",
      "🏃 View run logreg_C=10.0000_penalty=elasticnet_solver=saga_max-iter=200 at: http://mlflow:5001/#/experiments/1/runs/ee002e0746d64ed58fdec143ad128d95\n",
      "🧪 View experiment at: http://mlflow:5001/#/experiments/1\n"
     ]
    },
    {
     "name": "stderr",
     "output_type": "stream",
     "text": [
      "/usr/local/lib/python3.12/site-packages/sklearn/linear_model/_logistic.py:1207: UserWarning: Setting penalty=None will ignore the C and l1_ratio parameters\n",
      "  warnings.warn(\n"
     ]
    },
    {
     "name": "stdout",
     "output_type": "stream",
     "text": [
      "🏃 View run logreg_C=0.0100_penalty=None_solver=saga_max-iter=200 at: http://mlflow:5001/#/experiments/1/runs/75fcde61b0a24aca85c550bb4e0db754\n",
      "🧪 View experiment at: http://mlflow:5001/#/experiments/1\n"
     ]
    },
    {
     "name": "stderr",
     "output_type": "stream",
     "text": [
      "/usr/local/lib/python3.12/site-packages/sklearn/linear_model/_logistic.py:1207: UserWarning: Setting penalty=None will ignore the C and l1_ratio parameters\n",
      "  warnings.warn(\n"
     ]
    },
    {
     "name": "stdout",
     "output_type": "stream",
     "text": [
      "🏃 View run logreg_C=0.1000_penalty=None_solver=saga_max-iter=200 at: http://mlflow:5001/#/experiments/1/runs/6e8ef3fefbd64759b50c11c81dc13363\n",
      "🧪 View experiment at: http://mlflow:5001/#/experiments/1\n",
      "🏃 View run logreg_C=1.0000_penalty=None_solver=saga_max-iter=200 at: http://mlflow:5001/#/experiments/1/runs/1b4a89ff95194e2098f2cf0bb206afad\n",
      "🧪 View experiment at: http://mlflow:5001/#/experiments/1\n"
     ]
    },
    {
     "name": "stderr",
     "output_type": "stream",
     "text": [
      "/usr/local/lib/python3.12/site-packages/sklearn/linear_model/_logistic.py:1207: UserWarning: Setting penalty=None will ignore the C and l1_ratio parameters\n",
      "  warnings.warn(\n"
     ]
    },
    {
     "name": "stdout",
     "output_type": "stream",
     "text": [
      "🏃 View run logreg_C=10.0000_penalty=None_solver=saga_max-iter=200 at: http://mlflow:5001/#/experiments/1/runs/9240412d778245d8a2b3e78faa010994\n",
      "🧪 View experiment at: http://mlflow:5001/#/experiments/1\n"
     ]
    }
   ],
   "source": [
    "best_score = -np.inf\n",
    "best_model = None\n",
    "best_params = {}\n",
    "best_signature = None\n",
    "best_input_example = None\n",
    "\n",
    "########################\n",
    "# Model Training\n",
    "########################\n",
    "for solver, penalty, C, max_iter in itertools.product(param_grid['solver'], param_grid['penalty'], param_grid['C'], param_grid['max_iter']):\n",
    "    if penalty not in valid_combinations.get(solver, []):\n",
    "        continue  # skip invalid combo\n",
    "\n",
    "    # Start an MLflow run\n",
    "    with mlflow.start_run(run_name=f\"logreg_C={C:.4f}_penalty={penalty}_solver={solver}_max-iter={max_iter}\"):\n",
    "        try:\n",
    "            ####################\n",
    "            # Train Model\n",
    "            ####################\n",
    "            model = LogisticRegression(C=C, penalty=penalty, solver=solver, max_iter=max_iter)\n",
    "            model.fit(X_train_arr, y_train_arr)\n",
    "\n",
    "            ####################\n",
    "            # Evaluate Metrics\n",
    "            ####################\n",
    "\n",
    "            # AUC\n",
    "            y_pred_proba_train = model.predict_proba(X_train_arr)[:, 1]\n",
    "            train_auc = roc_auc_score(y_train_arr, y_pred_proba_train)\n",
    "            y_pred_proba_val = model.predict_proba(X_val_arr)[:, 1]\n",
    "            val_auc = roc_auc_score(y_val_arr, y_pred_proba_val)\n",
    "\n",
    "            # F1.5\n",
    "            thresholds = np.arange(0.0, 1.0, 0.01)\n",
    "            beta = 1.5\n",
    "            fb_scores_train = [fbeta_score(y_train_arr, y_pred_proba_train > t, beta=beta) for t in thresholds]\n",
    "            fb_scores_val = [fbeta_score(y_val_arr, y_pred_proba_val > t, beta=beta) for t in thresholds]\n",
    "            best_threshold = thresholds[np.argmax(fb_scores_val)]\n",
    "\n",
    "            train_fb_score = fb_scores_train[np.argmax(fb_scores_val)]\n",
    "            val_fb_score = fb_scores_val[np.argmax(fb_scores_val)]\n",
    "\n",
    "            ####################\n",
    "            # Log to MLFlow\n",
    "            ####################\n",
    "            mlflow.log_param(\"C\", C)\n",
    "            mlflow.log_param(\"penalty\", penalty)\n",
    "            mlflow.log_param(\"solver\", solver)\n",
    "            mlflow.log_param(\"max_iter\", max_iter)\n",
    "\n",
    "            mlflow.log_metric(\"train_auc\", train_auc)\n",
    "            mlflow.log_metric(\"val_auc\", val_auc)\n",
    "\n",
    "            mlflow.log_metric(f\"train_f{beta:.1f}_score\", train_fb_score)\n",
    "            mlflow.log_metric(f\"val_f{beta:.1f}_score\", val_fb_score)\n",
    "\n",
    "            if val_auc > best_score:\n",
    "                best_score = val_auc\n",
    "                best_model = model\n",
    "                best_params = {'C': C, 'penalty': penalty, 'solver': solver, 'max_iter': max_iter}\n",
    "                best_signature = infer_signature(X_val_arr, model.predict_proba(X_val_arr))\n",
    "                best_input_example = X_val_arr[:5]\n",
    "        except Exception as e:\n",
    "            print(f\"Skipped C={C}, penalty={penalty}, solver={solver}: {e}\")\n",
    "            mlflow.end_run(status=\"FAILED\")\n",
    "            continue"
   ]
  },
  {
   "cell_type": "markdown",
   "id": "d7362d5a",
   "metadata": {},
   "source": [
    "Save best model"
   ]
  },
  {
   "cell_type": "code",
   "execution_count": 19,
   "id": "e8494b31",
   "metadata": {},
   "outputs": [
    {
     "name": "stderr",
     "output_type": "stream",
     "text": [
      "Registered model 'creditkarma-scorer-logreg' already exists. Creating a new version of this model...\n",
      "2025/06/08 05:43:52 INFO mlflow.store.model_registry.abstract_store: Waiting up to 300 seconds for model version to finish creation. Model name: creditkarma-scorer-logreg, version 2\n",
      "Created version '2' of model 'creditkarma-scorer-logreg'.\n"
     ]
    },
    {
     "name": "stdout",
     "output_type": "stream",
     "text": [
      "✅ Logged and registered best model: runs:/712bdd8e1c7e4d349516aaabda2b481c/2024-09-02\n",
      "🏃 View run best_model at: http://mlflow:5001/#/experiments/1/runs/712bdd8e1c7e4d349516aaabda2b481c\n",
      "🧪 View experiment at: http://mlflow:5001/#/experiments/1\n"
     ]
    }
   ],
   "source": [
    "with mlflow.start_run(run_name=\"best_model\"):\n",
    "    ####################\n",
    "    # Evaluate Metrics\n",
    "    ####################\n",
    "    # AUC\n",
    "    y_pred_proba_train = best_model.predict_proba(X_train_arr)[:, 1]\n",
    "    train_auc = roc_auc_score(y_train_arr, y_pred_proba_train)\n",
    "    y_pred_proba_val = best_model.predict_proba(X_val_arr)[:, 1]\n",
    "    val_auc = roc_auc_score(y_val_arr, y_pred_proba_val)\n",
    "    y_pred_proba_test = best_model.predict_proba(X_test_arr)[:, 1]\n",
    "    test_auc = roc_auc_score(y_test_arr, y_pred_proba_test)\n",
    "    y_pred_proba_oot = best_model.predict_proba(X_oot_arr)[:, 1]\n",
    "    oot_auc = roc_auc_score(y_oot_arr, y_pred_proba_oot)\n",
    "\n",
    "    # F1.5\n",
    "    thresholds = np.arange(0.0, 1.0, 0.01)\n",
    "    beta = 1.5\n",
    "    fb_scores_train = [fbeta_score(y_train_arr, y_pred_proba_train > t, beta=beta) for t in thresholds]\n",
    "    fb_scores_val = [fbeta_score(y_val_arr, y_pred_proba_val > t, beta=beta) for t in thresholds]\n",
    "    fb_scores_test = [fbeta_score(y_test_arr, y_pred_proba_test > t, beta=beta) for t in thresholds]\n",
    "    fb_scores_oot = [fbeta_score(y_oot_arr, y_pred_proba_oot > t, beta=beta) for t in thresholds]\n",
    "    best_threshold = thresholds[np.argmax(fb_scores_val)]\n",
    "\n",
    "    train_fb_score = fb_scores_train[np.argmax(fb_scores_val)]\n",
    "    val_fb_score = fb_scores_val[np.argmax(fb_scores_val)]\n",
    "    test_fb_score = fb_scores_train[np.argmax(fb_scores_test)]\n",
    "    oot_fb_score = fb_scores_val[np.argmax(fb_scores_oot)]\n",
    "\n",
    "    ####################\n",
    "    # Log to MLFlow\n",
    "    ####################\n",
    "    \n",
    "    # Params\n",
    "    mlflow.log_param(\"C\", C)\n",
    "    mlflow.log_param(\"penalty\", penalty)\n",
    "    mlflow.log_param(\"solver\", solver)\n",
    "    mlflow.log_param(\"max_iter\", max_iter)\n",
    "    mlflow.log_param(\"best_fb_threshold\", best_threshold)\n",
    "\n",
    "    # AUC\n",
    "    mlflow.log_metric(\"train_auc\", train_auc)\n",
    "    mlflow.log_metric(\"val_auc\", val_auc)\n",
    "    mlflow.log_metric(\"test_auc\", test_auc)\n",
    "    mlflow.log_metric(\"oot_auc\", oot_auc)\n",
    "\n",
    "    # F-Beta\n",
    "    mlflow.log_metric(f\"train_f{beta:.1f}_score\", train_fb_score)\n",
    "    mlflow.log_metric(f\"val_f{beta:.1f}_score\", val_fb_score)\n",
    "    mlflow.log_metric(f\"test_f{beta:.1f}_score\", test_fb_score)\n",
    "    mlflow.log_metric(f\"oot_f{beta:.1f}_score\", oot_fb_score)\n",
    "\n",
    "    model_info = mlflow.sklearn.log_model(\n",
    "        sk_model=best_model,\n",
    "        artifact_path=f\"{config['model_train_date_str']}\",\n",
    "        input_example=best_input_example,\n",
    "        signature=best_signature,\n",
    "        registered_model_name=\"creditkarma-scorer-logreg\"\n",
    "    )\n",
    "\n",
    "    client = MlflowClient()\n",
    "\n",
    "    client.set_model_version_tag(\n",
    "        name=\"creditkarma-scorer-logreg\",\n",
    "        version=model_info.registered_model_version,\n",
    "        key=\"train_date\",\n",
    "        value=config[\"model_train_date_str\"]\n",
    "    )\n",
    "\n",
    "    print(f\"✅ Logged and registered best model: {model_info.model_uri}\")"
   ]
  },
  {
   "cell_type": "markdown",
   "id": "99b65edf",
   "metadata": {},
   "source": [
    "Pick best model for production"
   ]
  },
  {
   "cell_type": "code",
   "execution_count": 21,
   "id": "732de77f",
   "metadata": {},
   "outputs": [
    {
     "name": "stdout",
     "output_type": "stream",
     "text": [
      "✅ Deployed version 2 with composite score 0.7090\n"
     ]
    }
   ],
   "source": [
    "metrics_to_compare = [\"test_f1.5_score\", \"oot_f1.5_score\"]\n",
    "\n",
    "def scoring_fn(metrics):\n",
    "    \"\"\"\n",
    "    Weighted average of performance and stability metrics\n",
    "    \"\"\"\n",
    "    try:\n",
    "        return (\n",
    "            0.6 * metrics[\"test_f1.5_score\"] +\n",
    "            0.4 * metrics[\"oot_f1.5_score\"]\n",
    "        )\n",
    "    except KeyError:\n",
    "        return float(\"-inf\")  # skip models missing metrics\n",
    "\n",
    "best_version = None\n",
    "best_score = float(\"-inf\")\n",
    "\n",
    "for v in client.search_model_versions(f\"name='creditkarma-scorer-logreg'\"):\n",
    "    run_id = v.run_id\n",
    "    run_metrics = client.get_run(run_id).data.metrics\n",
    "\n",
    "    # Make sure all required metrics are present\n",
    "    if all(m in run_metrics for m in metrics_to_compare):\n",
    "        score = scoring_fn(run_metrics)\n",
    "        if score > best_score:\n",
    "            best_score = score\n",
    "            best_version = v\n",
    "\n",
    "if best_version:\n",
    "    client.set_registered_model_alias(\"creditkarma-scorer-logreg\", \"champion\", best_version.version)\n",
    "    print(f\"✅ Deployed version {best_version.version} with composite score {best_score:.4f}\")\n",
    "else:\n",
    "    print(\"❌ No suitable model version found.\")"
   ]
  }
 ],
 "metadata": {
  "kernelspec": {
   "display_name": "Python 3 (ipykernel)",
   "language": "python",
   "name": "python3"
  },
  "language_info": {
   "codemirror_mode": {
    "name": "ipython",
    "version": 3
   },
   "file_extension": ".py",
   "mimetype": "text/x-python",
   "name": "python",
   "nbconvert_exporter": "python",
   "pygments_lexer": "ipython3",
   "version": "3.12.11"
  }
 },
 "nbformat": 4,
 "nbformat_minor": 5
}
