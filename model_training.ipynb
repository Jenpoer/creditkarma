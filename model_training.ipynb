{
 "cells": [
  {
   "cell_type": "markdown",
   "id": "6664f41d",
   "metadata": {},
   "source": [
    "# Model Training\n",
    "\n",
    "This notebook holds a proof of concept of how the CreditKarma Scorer model would be trained using the gold table. CreditKarma Scorer is a binary classification logistic regression model that outputs the **probability of a customer defaulting their loan**. Loaning decisions are made by setting a threshold probability based on **F1.5-score**, as we want to be conservative in giving out loans and prioritize low-risk individuals (i.e. minimize false negatives from CreditKarma Scorer, which rates a high risk individual as low risk)."
   ]
  },
  {
   "cell_type": "code",
   "execution_count": 1,
   "id": "a59d32bc",
   "metadata": {},
   "outputs": [],
   "source": [
    "import os\n",
    "import glob\n",
    "import pandas as pd\n",
    "import matplotlib.pyplot as plt\n",
    "import numpy as np\n",
    "import pyspark\n",
    "from datetime import datetime, timedelta\n",
    "from dateutil.relativedelta import relativedelta\n",
    "\n",
    "from tqdm import tqdm\n",
    "import itertools\n",
    "\n",
    "from sklearn.model_selection import train_test_split\n",
    "from sklearn.pipeline import Pipeline, make_pipeline\n",
    "from sklearn.preprocessing import StandardScaler\n",
    "from sklearn.impute import SimpleImputer\n",
    "from sklearn.linear_model import LogisticRegression\n",
    "from sklearn.metrics import roc_auc_score, fbeta_score, confusion_matrix, ConfusionMatrixDisplay\n",
    "import numpy as np\n",
    "\n",
    "import pickle\n",
    "import joblib\n",
    "\n",
    "import mlflow\n",
    "from mlflow.models import infer_signature\n",
    "from mlflow.tracking import MlflowClient"
   ]
  },
  {
   "cell_type": "markdown",
   "id": "d7991f63",
   "metadata": {},
   "source": [
    "# Data Preprocessing"
   ]
  },
  {
   "cell_type": "markdown",
   "id": "e3aefaba",
   "metadata": {},
   "source": [
    "**Import data from gold table**"
   ]
  },
  {
   "cell_type": "code",
   "execution_count": null,
   "id": "946846f6",
   "metadata": {},
   "outputs": [
    {
     "name": "stderr",
     "output_type": "stream",
     "text": [
      "Setting default log level to \"WARN\".\n",
      "To adjust logging level use sc.setLogLevel(newLevel). For SparkR, use setLogLevel(newLevel).\n",
      "25/06/21 06:20:25 WARN NativeCodeLoader: Unable to load native-hadoop library for your platform... using builtin-java classes where applicable\n"
     ]
    }
   ],
   "source": [
    "spark = pyspark.sql.SparkSession.builder \\\n",
    "    .appName(\"model-training\") \\\n",
    "    .master(\"local[*]\") \\\n",
    "    .getOrCreate()"
   ]
  },
  {
   "cell_type": "code",
   "execution_count": 3,
   "id": "80ae8b14",
   "metadata": {},
   "outputs": [],
   "source": [
    "def read_gold_table(table, gold_db, spark):\n",
    "    \"\"\"\n",
    "    Helper function to read all partitions of a gold table\n",
    "    \"\"\"\n",
    "    folder_path = os.path.join(gold_db, table)\n",
    "    files_list = [os.path.join(folder_path, os.path.basename(f)) for f in glob.glob(os.path.join(folder_path, '*'))]\n",
    "    df = spark.read.option(\"header\", \"true\").option(\"mergeSchema\", \"true\").parquet(*files_list)\n",
    "    return df\n"
   ]
  },
  {
   "cell_type": "code",
   "execution_count": 4,
   "id": "6fdcaa79",
   "metadata": {},
   "outputs": [
    {
     "name": "stderr",
     "output_type": "stream",
     "text": [
      "                                                                                \r"
     ]
    }
   ],
   "source": [
    "X_spark = read_gold_table('feature_store', 'datamart/gold', spark)\n",
    "y_spark = read_gold_table('label_store', 'datamart/gold', spark)"
   ]
  },
  {
   "cell_type": "code",
   "execution_count": 5,
   "id": "4723f900",
   "metadata": {},
   "outputs": [
    {
     "name": "stderr",
     "output_type": "stream",
     "text": [
      "25/06/21 06:20:38 WARN SparkStringUtils: Truncated the string representation of a plan since it was too large. This behavior can be adjusted by setting 'spark.sql.debug.maxToStringFields'.\n",
      "                                                                                \r"
     ]
    }
   ],
   "source": [
    "X_df = X_spark.toPandas().sort_values(by='customer_id')\n",
    "y_df = y_spark.toPandas().sort_values(by='customer_id')"
   ]
  },
  {
   "cell_type": "code",
   "execution_count": 6,
   "id": "ed319ef2",
   "metadata": {},
   "outputs": [
    {
     "data": {
      "text/html": [
       "<div>\n",
       "<style scoped>\n",
       "    .dataframe tbody tr th:only-of-type {\n",
       "        vertical-align: middle;\n",
       "    }\n",
       "\n",
       "    .dataframe tbody tr th {\n",
       "        vertical-align: top;\n",
       "    }\n",
       "\n",
       "    .dataframe thead th {\n",
       "        text-align: right;\n",
       "    }\n",
       "</style>\n",
       "<table border=\"1\" class=\"dataframe\">\n",
       "  <thead>\n",
       "    <tr style=\"text-align: right;\">\n",
       "      <th></th>\n",
       "      <th>customer_id</th>\n",
       "      <th>snapshot_date</th>\n",
       "      <th>age</th>\n",
       "      <th>annual_income</th>\n",
       "      <th>monthly_inhand_salary</th>\n",
       "      <th>num_bank_accounts</th>\n",
       "      <th>num_credit_card</th>\n",
       "      <th>interest_rate</th>\n",
       "      <th>num_of_loan</th>\n",
       "      <th>delay_from_due_date</th>\n",
       "      <th>...</th>\n",
       "      <th>payment_of_min_amount_no</th>\n",
       "      <th>payment_of_min_amount_nm</th>\n",
       "      <th>credit_mix_standard</th>\n",
       "      <th>credit_mix_good</th>\n",
       "      <th>credit_mix_bad</th>\n",
       "      <th>payment_behaviour_spent_low</th>\n",
       "      <th>payment_behaviour_spent_high</th>\n",
       "      <th>payment_behaviour_value_small</th>\n",
       "      <th>payment_behaviour_value_medium</th>\n",
       "      <th>payment_behaviour_value_large</th>\n",
       "    </tr>\n",
       "  </thead>\n",
       "  <tbody>\n",
       "    <tr>\n",
       "      <th>1705</th>\n",
       "      <td>CUS_0x1000</td>\n",
       "      <td>2023-05-01</td>\n",
       "      <td>18.0</td>\n",
       "      <td>30625.939453</td>\n",
       "      <td>2706.161621</td>\n",
       "      <td>6.0</td>\n",
       "      <td>5.0</td>\n",
       "      <td>27.0</td>\n",
       "      <td>2.0</td>\n",
       "      <td>57.0</td>\n",
       "      <td>...</td>\n",
       "      <td>0</td>\n",
       "      <td>0</td>\n",
       "      <td>0</td>\n",
       "      <td>0</td>\n",
       "      <td>1</td>\n",
       "      <td>0</td>\n",
       "      <td>1</td>\n",
       "      <td>0</td>\n",
       "      <td>1</td>\n",
       "      <td>0</td>\n",
       "    </tr>\n",
       "    <tr>\n",
       "      <th>30</th>\n",
       "      <td>CUS_0x100b</td>\n",
       "      <td>2024-03-01</td>\n",
       "      <td>19.0</td>\n",
       "      <td>113781.390625</td>\n",
       "      <td>9549.782227</td>\n",
       "      <td>1.0</td>\n",
       "      <td>4.0</td>\n",
       "      <td>1.0</td>\n",
       "      <td>0.0</td>\n",
       "      <td>14.0</td>\n",
       "      <td>...</td>\n",
       "      <td>1</td>\n",
       "      <td>0</td>\n",
       "      <td>0</td>\n",
       "      <td>1</td>\n",
       "      <td>0</td>\n",
       "      <td>0</td>\n",
       "      <td>1</td>\n",
       "      <td>1</td>\n",
       "      <td>0</td>\n",
       "      <td>0</td>\n",
       "    </tr>\n",
       "    <tr>\n",
       "      <th>1449</th>\n",
       "      <td>CUS_0x1011</td>\n",
       "      <td>2023-11-01</td>\n",
       "      <td>44.0</td>\n",
       "      <td>58918.468750</td>\n",
       "      <td>5208.872559</td>\n",
       "      <td>3.0</td>\n",
       "      <td>3.0</td>\n",
       "      <td>17.0</td>\n",
       "      <td>3.0</td>\n",
       "      <td>27.0</td>\n",
       "      <td>...</td>\n",
       "      <td>0</td>\n",
       "      <td>0</td>\n",
       "      <td>1</td>\n",
       "      <td>0</td>\n",
       "      <td>0</td>\n",
       "      <td>1</td>\n",
       "      <td>0</td>\n",
       "      <td>0</td>\n",
       "      <td>1</td>\n",
       "      <td>0</td>\n",
       "    </tr>\n",
       "    <tr>\n",
       "      <th>5286</th>\n",
       "      <td>CUS_0x1013</td>\n",
       "      <td>2023-12-01</td>\n",
       "      <td>44.0</td>\n",
       "      <td>98620.976562</td>\n",
       "      <td>7962.415039</td>\n",
       "      <td>3.0</td>\n",
       "      <td>3.0</td>\n",
       "      <td>6.0</td>\n",
       "      <td>3.0</td>\n",
       "      <td>12.0</td>\n",
       "      <td>...</td>\n",
       "      <td>1</td>\n",
       "      <td>0</td>\n",
       "      <td>0</td>\n",
       "      <td>1</td>\n",
       "      <td>0</td>\n",
       "      <td>0</td>\n",
       "      <td>1</td>\n",
       "      <td>0</td>\n",
       "      <td>1</td>\n",
       "      <td>0</td>\n",
       "    </tr>\n",
       "    <tr>\n",
       "      <th>6347</th>\n",
       "      <td>CUS_0x1015</td>\n",
       "      <td>2023-08-01</td>\n",
       "      <td>27.0</td>\n",
       "      <td>46951.019531</td>\n",
       "      <td>3725.584961</td>\n",
       "      <td>7.0</td>\n",
       "      <td>4.0</td>\n",
       "      <td>16.0</td>\n",
       "      <td>0.0</td>\n",
       "      <td>8.0</td>\n",
       "      <td>...</td>\n",
       "      <td>0</td>\n",
       "      <td>1</td>\n",
       "      <td>1</td>\n",
       "      <td>0</td>\n",
       "      <td>0</td>\n",
       "      <td>1</td>\n",
       "      <td>0</td>\n",
       "      <td>1</td>\n",
       "      <td>0</td>\n",
       "      <td>0</td>\n",
       "    </tr>\n",
       "    <tr>\n",
       "      <th>...</th>\n",
       "      <td>...</td>\n",
       "      <td>...</td>\n",
       "      <td>...</td>\n",
       "      <td>...</td>\n",
       "      <td>...</td>\n",
       "      <td>...</td>\n",
       "      <td>...</td>\n",
       "      <td>...</td>\n",
       "      <td>...</td>\n",
       "      <td>...</td>\n",
       "      <td>...</td>\n",
       "      <td>...</td>\n",
       "      <td>...</td>\n",
       "      <td>...</td>\n",
       "      <td>...</td>\n",
       "      <td>...</td>\n",
       "      <td>...</td>\n",
       "      <td>...</td>\n",
       "      <td>...</td>\n",
       "      <td>...</td>\n",
       "      <td>...</td>\n",
       "    </tr>\n",
       "    <tr>\n",
       "      <th>2586</th>\n",
       "      <td>CUS_0xfe5</td>\n",
       "      <td>2023-06-01</td>\n",
       "      <td>38.0</td>\n",
       "      <td>96960.210938</td>\n",
       "      <td>7934.017578</td>\n",
       "      <td>6.0</td>\n",
       "      <td>4.0</td>\n",
       "      <td>8.0</td>\n",
       "      <td>0.0</td>\n",
       "      <td>24.0</td>\n",
       "      <td>...</td>\n",
       "      <td>1</td>\n",
       "      <td>0</td>\n",
       "      <td>1</td>\n",
       "      <td>0</td>\n",
       "      <td>0</td>\n",
       "      <td>0</td>\n",
       "      <td>1</td>\n",
       "      <td>0</td>\n",
       "      <td>0</td>\n",
       "      <td>1</td>\n",
       "    </tr>\n",
       "    <tr>\n",
       "      <th>4072</th>\n",
       "      <td>CUS_0xfea</td>\n",
       "      <td>2023-10-01</td>\n",
       "      <td>33.0</td>\n",
       "      <td>44264.410156</td>\n",
       "      <td>3755.700928</td>\n",
       "      <td>3.0</td>\n",
       "      <td>3.0</td>\n",
       "      <td>6.0</td>\n",
       "      <td>2.0</td>\n",
       "      <td>11.0</td>\n",
       "      <td>...</td>\n",
       "      <td>1</td>\n",
       "      <td>0</td>\n",
       "      <td>0</td>\n",
       "      <td>1</td>\n",
       "      <td>0</td>\n",
       "      <td>1</td>\n",
       "      <td>0</td>\n",
       "      <td>1</td>\n",
       "      <td>0</td>\n",
       "      <td>0</td>\n",
       "    </tr>\n",
       "    <tr>\n",
       "      <th>4899</th>\n",
       "      <td>CUS_0xff3</td>\n",
       "      <td>2024-06-01</td>\n",
       "      <td>55.0</td>\n",
       "      <td>17032.785156</td>\n",
       "      <td>1176.398804</td>\n",
       "      <td>0.0</td>\n",
       "      <td>6.0</td>\n",
       "      <td>2.0</td>\n",
       "      <td>3.0</td>\n",
       "      <td>13.0</td>\n",
       "      <td>...</td>\n",
       "      <td>1</td>\n",
       "      <td>0</td>\n",
       "      <td>0</td>\n",
       "      <td>1</td>\n",
       "      <td>0</td>\n",
       "      <td>1</td>\n",
       "      <td>0</td>\n",
       "      <td>1</td>\n",
       "      <td>0</td>\n",
       "      <td>0</td>\n",
       "    </tr>\n",
       "    <tr>\n",
       "      <th>2187</th>\n",
       "      <td>CUS_0xffc</td>\n",
       "      <td>2024-01-01</td>\n",
       "      <td>18.0</td>\n",
       "      <td>60877.171875</td>\n",
       "      <td>5218.097656</td>\n",
       "      <td>6.0</td>\n",
       "      <td>8.0</td>\n",
       "      <td>27.0</td>\n",
       "      <td>8.0</td>\n",
       "      <td>46.0</td>\n",
       "      <td>...</td>\n",
       "      <td>0</td>\n",
       "      <td>0</td>\n",
       "      <td>0</td>\n",
       "      <td>0</td>\n",
       "      <td>0</td>\n",
       "      <td>0</td>\n",
       "      <td>1</td>\n",
       "      <td>0</td>\n",
       "      <td>0</td>\n",
       "      <td>1</td>\n",
       "    </tr>\n",
       "    <tr>\n",
       "      <th>154</th>\n",
       "      <td>CUS_0xffd</td>\n",
       "      <td>2024-03-01</td>\n",
       "      <td>30.0</td>\n",
       "      <td>41398.441406</td>\n",
       "      <td>3749.870117</td>\n",
       "      <td>8.0</td>\n",
       "      <td>7.0</td>\n",
       "      <td>13.0</td>\n",
       "      <td>6.0</td>\n",
       "      <td>23.0</td>\n",
       "      <td>...</td>\n",
       "      <td>0</td>\n",
       "      <td>0</td>\n",
       "      <td>1</td>\n",
       "      <td>0</td>\n",
       "      <td>0</td>\n",
       "      <td>0</td>\n",
       "      <td>1</td>\n",
       "      <td>0</td>\n",
       "      <td>0</td>\n",
       "      <td>1</td>\n",
       "    </tr>\n",
       "  </tbody>\n",
       "</table>\n",
       "<p>8974 rows × 74 columns</p>\n",
       "</div>"
      ],
      "text/plain": [
       "     customer_id snapshot_date   age  annual_income  monthly_inhand_salary  \\\n",
       "1705  CUS_0x1000    2023-05-01  18.0   30625.939453            2706.161621   \n",
       "30    CUS_0x100b    2024-03-01  19.0  113781.390625            9549.782227   \n",
       "1449  CUS_0x1011    2023-11-01  44.0   58918.468750            5208.872559   \n",
       "5286  CUS_0x1013    2023-12-01  44.0   98620.976562            7962.415039   \n",
       "6347  CUS_0x1015    2023-08-01  27.0   46951.019531            3725.584961   \n",
       "...          ...           ...   ...            ...                    ...   \n",
       "2586   CUS_0xfe5    2023-06-01  38.0   96960.210938            7934.017578   \n",
       "4072   CUS_0xfea    2023-10-01  33.0   44264.410156            3755.700928   \n",
       "4899   CUS_0xff3    2024-06-01  55.0   17032.785156            1176.398804   \n",
       "2187   CUS_0xffc    2024-01-01  18.0   60877.171875            5218.097656   \n",
       "154    CUS_0xffd    2024-03-01  30.0   41398.441406            3749.870117   \n",
       "\n",
       "      num_bank_accounts  num_credit_card  interest_rate  num_of_loan  \\\n",
       "1705                6.0              5.0           27.0          2.0   \n",
       "30                  1.0              4.0            1.0          0.0   \n",
       "1449                3.0              3.0           17.0          3.0   \n",
       "5286                3.0              3.0            6.0          3.0   \n",
       "6347                7.0              4.0           16.0          0.0   \n",
       "...                 ...              ...            ...          ...   \n",
       "2586                6.0              4.0            8.0          0.0   \n",
       "4072                3.0              3.0            6.0          2.0   \n",
       "4899                0.0              6.0            2.0          3.0   \n",
       "2187                6.0              8.0           27.0          8.0   \n",
       "154                 8.0              7.0           13.0          6.0   \n",
       "\n",
       "      delay_from_due_date  ...  payment_of_min_amount_no  \\\n",
       "1705                 57.0  ...                         0   \n",
       "30                   14.0  ...                         1   \n",
       "1449                 27.0  ...                         0   \n",
       "5286                 12.0  ...                         1   \n",
       "6347                  8.0  ...                         0   \n",
       "...                   ...  ...                       ...   \n",
       "2586                 24.0  ...                         1   \n",
       "4072                 11.0  ...                         1   \n",
       "4899                 13.0  ...                         1   \n",
       "2187                 46.0  ...                         0   \n",
       "154                  23.0  ...                         0   \n",
       "\n",
       "      payment_of_min_amount_nm  credit_mix_standard  credit_mix_good  \\\n",
       "1705                         0                    0                0   \n",
       "30                           0                    0                1   \n",
       "1449                         0                    1                0   \n",
       "5286                         0                    0                1   \n",
       "6347                         1                    1                0   \n",
       "...                        ...                  ...              ...   \n",
       "2586                         0                    1                0   \n",
       "4072                         0                    0                1   \n",
       "4899                         0                    0                1   \n",
       "2187                         0                    0                0   \n",
       "154                          0                    1                0   \n",
       "\n",
       "      credit_mix_bad  payment_behaviour_spent_low  \\\n",
       "1705               1                            0   \n",
       "30                 0                            0   \n",
       "1449               0                            1   \n",
       "5286               0                            0   \n",
       "6347               0                            1   \n",
       "...              ...                          ...   \n",
       "2586               0                            0   \n",
       "4072               0                            1   \n",
       "4899               0                            1   \n",
       "2187               0                            0   \n",
       "154                0                            0   \n",
       "\n",
       "      payment_behaviour_spent_high  payment_behaviour_value_small  \\\n",
       "1705                             1                              0   \n",
       "30                               1                              1   \n",
       "1449                             0                              0   \n",
       "5286                             1                              0   \n",
       "6347                             0                              1   \n",
       "...                            ...                            ...   \n",
       "2586                             1                              0   \n",
       "4072                             0                              1   \n",
       "4899                             0                              1   \n",
       "2187                             1                              0   \n",
       "154                              1                              0   \n",
       "\n",
       "      payment_behaviour_value_medium  payment_behaviour_value_large  \n",
       "1705                               1                              0  \n",
       "30                                 0                              0  \n",
       "1449                               1                              0  \n",
       "5286                               1                              0  \n",
       "6347                               0                              0  \n",
       "...                              ...                            ...  \n",
       "2586                               0                              1  \n",
       "4072                               0                              0  \n",
       "4899                               0                              0  \n",
       "2187                               0                              1  \n",
       "154                                0                              1  \n",
       "\n",
       "[8974 rows x 74 columns]"
      ]
     },
     "execution_count": 6,
     "metadata": {},
     "output_type": "execute_result"
    }
   ],
   "source": [
    "X_df"
   ]
  },
  {
   "cell_type": "markdown",
   "id": "348ce0de",
   "metadata": {},
   "source": [
    "**Set train test split**"
   ]
  },
  {
   "cell_type": "code",
   "execution_count": 7,
   "id": "2ca753d6",
   "metadata": {},
   "outputs": [
    {
     "data": {
      "text/plain": [
       "{'model_train_date_str': '2024-09-01',\n",
       " 'train_test_period_months': 12,\n",
       " 'oot_period_months': 2,\n",
       " 'model_train_date': datetime.date(2024, 9, 1),\n",
       " 'oot_end_date': datetime.date(2024, 8, 31),\n",
       " 'oot_start_date': datetime.date(2024, 7, 1),\n",
       " 'train_test_end_date': datetime.date(2024, 6, 30),\n",
       " 'train_test_start_date': datetime.date(2023, 7, 1),\n",
       " 'train_valtest_ratio': 0.2,\n",
       " 'val_test_ratio': 0.5}"
      ]
     },
     "execution_count": 7,
     "metadata": {},
     "output_type": "execute_result"
    }
   ],
   "source": [
    "model_train_date_str = \"2024-09-01\" # pretend we're training the model at this time\n",
    "train_test_period_months = 12\n",
    "oot_period_months = 2\n",
    "train_valtest_ratio = 0.2\n",
    "val_test_ratio = 0.5\n",
    "\n",
    "config = {}\n",
    "config[\"model_train_date_str\"] = model_train_date_str\n",
    "config[\"train_test_period_months\"] = train_test_period_months\n",
    "config[\"oot_period_months\"] =  oot_period_months\n",
    "config[\"model_train_date\"] =  datetime.strptime(model_train_date_str, \"%Y-%m-%d\").date()\n",
    "config[\"oot_end_date\"] =  config['model_train_date'] - timedelta(days = 1)\n",
    "config[\"oot_start_date\"] =  config['model_train_date'] - relativedelta(months = oot_period_months)\n",
    "config[\"train_test_end_date\"] =  config[\"oot_start_date\"] - timedelta(days = 1)\n",
    "config[\"train_test_start_date\"] =  config[\"oot_start_date\"] - relativedelta(months = train_test_period_months)\n",
    "config[\"train_valtest_ratio\"] = train_valtest_ratio \n",
    "config[\"val_test_ratio\"] = val_test_ratio\n",
    "\n",
    "config"
   ]
  },
  {
   "cell_type": "markdown",
   "id": "f235aefe",
   "metadata": {},
   "source": [
    "Split OOT"
   ]
  },
  {
   "cell_type": "code",
   "execution_count": 8,
   "id": "eb37415c",
   "metadata": {},
   "outputs": [],
   "source": [
    "# Consider data from model training date\n",
    "y_model_df = y_df[(y_df['snapshot_date'] >= config['train_test_start_date']) & (y_df['snapshot_date'] <= config['model_train_date'])]\n",
    "X_model_df = X_df[np.isin(X_df['customer_id'], y_model_df['customer_id'].unique())]\n",
    "\n",
    "# Create OOT split\n",
    "oot_splits = []\n",
    "current_start_date = config[\"oot_start_date\"]\n",
    "while current_start_date <= config[\"oot_end_date\"]:\n",
    "    current_end_date = (current_start_date + relativedelta(months=1)) - timedelta(days=1)\n",
    "    y_oot = y_model_df[(y_model_df['snapshot_date'] >= current_start_date) & (y_model_df['snapshot_date'] <= current_end_date)]\n",
    "    X_oot = X_model_df[np.isin(X_model_df['customer_id'], y_oot['customer_id'].unique())]\n",
    "    oot_splits.append((X_oot, y_oot))\n",
    "    current_start_date = current_start_date + relativedelta(months=1)\n",
    "\n",
    "# Everything else goes into train-test\n",
    "y_trainvaltest = y_model_df[y_model_df['snapshot_date'] <= config['train_test_end_date']]\n",
    "X_trainvaltest = X_model_df[np.isin(X_model_df['customer_id'], y_trainvaltest['customer_id'].unique())]"
   ]
  },
  {
   "cell_type": "markdown",
   "id": "06641936",
   "metadata": {},
   "source": [
    "Split train-test"
   ]
  },
  {
   "cell_type": "code",
   "execution_count": 9,
   "id": "d53409e7",
   "metadata": {},
   "outputs": [],
   "source": [
    "X_train, X_valtest, y_train, y_valtest = train_test_split(X_trainvaltest, y_trainvaltest, \n",
    "                                                    test_size=config['train_valtest_ratio'], \n",
    "                                                    random_state=611, \n",
    "                                                    shuffle=True, \n",
    "                                                    stratify=y_trainvaltest['label'])\n",
    "\n",
    "X_val, X_test, y_val, y_test = train_test_split(X_valtest, y_valtest, \n",
    "                                                    test_size=config['val_test_ratio'], \n",
    "                                                    random_state=611, \n",
    "                                                    shuffle=True, \n",
    "                                                    stratify=y_valtest['label'])"
   ]
  },
  {
   "cell_type": "code",
   "execution_count": 10,
   "id": "d4280627",
   "metadata": {},
   "outputs": [],
   "source": [
    "# Transform data into numpy arrays\n",
    "X_train_arr = X_train.drop(columns=['customer_id', 'snapshot_date']).values\n",
    "X_val_arr = X_val.drop(columns=['customer_id', 'snapshot_date']).values\n",
    "X_test_arr = X_test.drop(columns=['customer_id', 'snapshot_date']).values\n",
    "\n",
    "y_train_arr = y_train['label'].values\n",
    "y_val_arr = y_val['label'].values\n",
    "y_test_arr = y_test['label'].values\n",
    "\n",
    "oot_arrs = []\n",
    "for X_oot, y_oot in oot_splits:\n",
    "    X_oot_arr = X_oot.drop(columns=['customer_id', 'snapshot_date']).values\n",
    "    y_oot_arr = y_oot['label'].values\n",
    "    oot_arrs.append((X_oot_arr, y_oot_arr))"
   ]
  },
  {
   "cell_type": "markdown",
   "id": "953e1551",
   "metadata": {},
   "source": [
    "Data Preprocessing Pipeline"
   ]
  },
  {
   "cell_type": "code",
   "execution_count": 11,
   "id": "0646b499",
   "metadata": {},
   "outputs": [],
   "source": [
    "preprocessing_pipeline = Pipeline(steps=[\n",
    "    (\"imputer\", SimpleImputer(strategy=\"mean\")),\n",
    "    (\"scaler\", StandardScaler())\n",
    "])\n",
    "\n",
    "X_train_arr = preprocessing_pipeline.fit_transform(X_train_arr)\n",
    "X_val_arr = preprocessing_pipeline.transform(X_val_arr)\n",
    "X_test_arr = preprocessing_pipeline.transform(X_test_arr)\n",
    "\n",
    "oot_arrs_preprocessed = []\n",
    "for X_oot_arr, y_oot_arr in oot_arrs:\n",
    "    X_oot_arr_preprocessed = preprocessing_pipeline.transform(X_oot_arr)\n",
    "    oot_arrs_preprocessed.append((X_oot_arr_preprocessed, y_oot_arr))"
   ]
  },
  {
   "cell_type": "markdown",
   "id": "ba29b033",
   "metadata": {},
   "source": [
    "# Train CreditKarma Scorer"
   ]
  },
  {
   "cell_type": "code",
   "execution_count": 12,
   "id": "b44b2910",
   "metadata": {},
   "outputs": [],
   "source": [
    "param_grid = {\n",
    "    'penalty':['l1','l2','elasticnet', None],\n",
    "    'C' : [0.01, 0.1, 1, 10],\n",
    "    'solver': ['lbfgs','newton-cg','liblinear','sag','saga'],\n",
    "    'max_iter': [200]\n",
    "}\n",
    "\n",
    "valid_combinations = {\n",
    "    'liblinear': ['l1', 'l2'],\n",
    "    'lbfgs': ['l2', None],\n",
    "    'newton-cg': ['l2', None],\n",
    "    'sag': ['l2', None],\n",
    "    'saga': ['l1', 'l2', 'elasticnet', None],\n",
    "}"
   ]
  },
  {
   "cell_type": "code",
   "execution_count": 40,
   "id": "daba8ed0",
   "metadata": {},
   "outputs": [
    {
     "name": "stdout",
     "output_type": "stream",
     "text": [
      "Evaluated C=0.01, penalty=l2, solver=lbfgs -> val_auc=0.8366\n",
      "Evaluated C=0.1, penalty=l2, solver=lbfgs -> val_auc=0.8335\n",
      "Evaluated C=1, penalty=l2, solver=lbfgs -> val_auc=0.8330\n",
      "Evaluated C=10, penalty=l2, solver=lbfgs -> val_auc=0.8329\n",
      "Evaluated C=0.01, penalty=None, solver=lbfgs -> val_auc=0.8329\n",
      "Evaluated C=0.1, penalty=None, solver=lbfgs -> val_auc=0.8329\n",
      "Evaluated C=1, penalty=None, solver=lbfgs -> val_auc=0.8329\n",
      "Evaluated C=10, penalty=None, solver=lbfgs -> val_auc=0.8329\n",
      "Evaluated C=0.01, penalty=l2, solver=newton-cg -> val_auc=0.8367\n"
     ]
    },
    {
     "name": "stderr",
     "output_type": "stream",
     "text": [
      "/usr/local/lib/python3.12/site-packages/sklearn/linear_model/_logistic.py:1207: UserWarning: Setting penalty=None will ignore the C and l1_ratio parameters\n",
      "  warnings.warn(\n",
      "/usr/local/lib/python3.12/site-packages/sklearn/linear_model/_logistic.py:1207: UserWarning: Setting penalty=None will ignore the C and l1_ratio parameters\n",
      "  warnings.warn(\n",
      "/usr/local/lib/python3.12/site-packages/sklearn/linear_model/_logistic.py:1207: UserWarning: Setting penalty=None will ignore the C and l1_ratio parameters\n",
      "  warnings.warn(\n"
     ]
    },
    {
     "name": "stdout",
     "output_type": "stream",
     "text": [
      "Evaluated C=0.1, penalty=l2, solver=newton-cg -> val_auc=0.8334\n",
      "Evaluated C=1, penalty=l2, solver=newton-cg -> val_auc=0.8329\n",
      "Evaluated C=10, penalty=l2, solver=newton-cg -> val_auc=0.8329\n",
      "Evaluated C=0.01, penalty=None, solver=newton-cg -> val_auc=0.8329\n",
      "Evaluated C=0.1, penalty=None, solver=newton-cg -> val_auc=0.8329\n",
      "Evaluated C=1, penalty=None, solver=newton-cg -> val_auc=0.8329\n"
     ]
    },
    {
     "name": "stderr",
     "output_type": "stream",
     "text": [
      "/usr/local/lib/python3.12/site-packages/sklearn/linear_model/_logistic.py:1207: UserWarning: Setting penalty=None will ignore the C and l1_ratio parameters\n",
      "  warnings.warn(\n",
      "/usr/local/lib/python3.12/site-packages/sklearn/linear_model/_logistic.py:1207: UserWarning: Setting penalty=None will ignore the C and l1_ratio parameters\n",
      "  warnings.warn(\n",
      "/usr/local/lib/python3.12/site-packages/sklearn/linear_model/_logistic.py:1207: UserWarning: Setting penalty=None will ignore the C and l1_ratio parameters\n",
      "  warnings.warn(\n"
     ]
    },
    {
     "name": "stdout",
     "output_type": "stream",
     "text": [
      "Evaluated C=10, penalty=None, solver=newton-cg -> val_auc=0.8329\n",
      "Evaluated C=0.01, penalty=l1, solver=liblinear -> val_auc=0.8265\n",
      "Evaluated C=0.1, penalty=l1, solver=liblinear -> val_auc=0.8355\n",
      "Evaluated C=1, penalty=l1, solver=liblinear -> val_auc=0.8332\n",
      "Evaluated C=10, penalty=l1, solver=liblinear -> val_auc=0.8329\n",
      "Evaluated C=0.01, penalty=l2, solver=liblinear -> val_auc=0.8368\n",
      "Evaluated C=0.1, penalty=l2, solver=liblinear -> val_auc=0.8335\n",
      "Evaluated C=1, penalty=l2, solver=liblinear -> val_auc=0.8329\n",
      "Evaluated C=10, penalty=l2, solver=liblinear -> val_auc=0.8329\n",
      "Evaluated C=0.01, penalty=l2, solver=sag -> val_auc=0.8367\n",
      "Evaluated C=0.1, penalty=l2, solver=sag -> val_auc=0.8334\n",
      "Evaluated C=1, penalty=l2, solver=sag -> val_auc=0.8329\n",
      "Evaluated C=10, penalty=l2, solver=sag -> val_auc=0.8329\n"
     ]
    },
    {
     "name": "stderr",
     "output_type": "stream",
     "text": [
      "/usr/local/lib/python3.12/site-packages/sklearn/linear_model/_logistic.py:1207: UserWarning: Setting penalty=None will ignore the C and l1_ratio parameters\n",
      "  warnings.warn(\n"
     ]
    },
    {
     "name": "stdout",
     "output_type": "stream",
     "text": [
      "Evaluated C=0.01, penalty=None, solver=sag -> val_auc=0.8328\n",
      "Evaluated C=0.1, penalty=None, solver=sag -> val_auc=0.8328\n"
     ]
    },
    {
     "name": "stderr",
     "output_type": "stream",
     "text": [
      "/usr/local/lib/python3.12/site-packages/sklearn/linear_model/_logistic.py:1207: UserWarning: Setting penalty=None will ignore the C and l1_ratio parameters\n",
      "  warnings.warn(\n"
     ]
    },
    {
     "name": "stdout",
     "output_type": "stream",
     "text": [
      "Evaluated C=1, penalty=None, solver=sag -> val_auc=0.8328\n"
     ]
    },
    {
     "name": "stderr",
     "output_type": "stream",
     "text": [
      "/usr/local/lib/python3.12/site-packages/sklearn/linear_model/_logistic.py:1207: UserWarning: Setting penalty=None will ignore the C and l1_ratio parameters\n",
      "  warnings.warn(\n"
     ]
    },
    {
     "name": "stdout",
     "output_type": "stream",
     "text": [
      "Evaluated C=10, penalty=None, solver=sag -> val_auc=0.8328\n",
      "Evaluated C=0.01, penalty=l1, solver=saga -> val_auc=0.8264\n",
      "Evaluated C=0.1, penalty=l1, solver=saga -> val_auc=0.8356\n",
      "Evaluated C=1, penalty=l1, solver=saga -> val_auc=0.8331\n"
     ]
    },
    {
     "name": "stderr",
     "output_type": "stream",
     "text": [
      "/usr/local/lib/python3.12/site-packages/sklearn/linear_model/_sag.py:348: ConvergenceWarning: The max_iter was reached which means the coef_ did not converge\n",
      "  warnings.warn(\n"
     ]
    },
    {
     "name": "stdout",
     "output_type": "stream",
     "text": [
      "Evaluated C=10, penalty=l1, solver=saga -> val_auc=0.8329\n",
      "Evaluated C=0.01, penalty=l2, solver=saga -> val_auc=0.8367\n",
      "Evaluated C=0.1, penalty=l2, solver=saga -> val_auc=0.8334\n",
      "Evaluated C=1, penalty=l2, solver=saga -> val_auc=0.8329\n",
      "Evaluated C=10, penalty=l2, solver=saga -> val_auc=0.8329\n"
     ]
    },
    {
     "name": "stderr",
     "output_type": "stream",
     "text": [
      "/usr/local/lib/python3.12/site-packages/sklearn/linear_model/_logistic.py:1207: UserWarning: Setting penalty=None will ignore the C and l1_ratio parameters\n",
      "  warnings.warn(\n"
     ]
    },
    {
     "name": "stdout",
     "output_type": "stream",
     "text": [
      "Evaluated C=0.01, penalty=None, solver=saga -> val_auc=0.8328\n"
     ]
    },
    {
     "name": "stderr",
     "output_type": "stream",
     "text": [
      "/usr/local/lib/python3.12/site-packages/sklearn/linear_model/_logistic.py:1207: UserWarning: Setting penalty=None will ignore the C and l1_ratio parameters\n",
      "  warnings.warn(\n"
     ]
    },
    {
     "name": "stdout",
     "output_type": "stream",
     "text": [
      "Evaluated C=0.1, penalty=None, solver=saga -> val_auc=0.8328\n",
      "Evaluated C=1, penalty=None, solver=saga -> val_auc=0.8329\n"
     ]
    },
    {
     "name": "stderr",
     "output_type": "stream",
     "text": [
      "/usr/local/lib/python3.12/site-packages/sklearn/linear_model/_logistic.py:1207: UserWarning: Setting penalty=None will ignore the C and l1_ratio parameters\n",
      "  warnings.warn(\n"
     ]
    },
    {
     "name": "stdout",
     "output_type": "stream",
     "text": [
      "Evaluated C=10, penalty=None, solver=saga -> val_auc=0.8328\n"
     ]
    }
   ],
   "source": [
    "best_score = -np.inf\n",
    "clf = None\n",
    "best_params = {}\n",
    "\n",
    "for solver, penalty, C, max_iter in itertools.product(param_grid['solver'], param_grid['penalty'], param_grid['C'], param_grid['max_iter']):\n",
    "    # if penalty not in valid_combinations.get(solver, []):\n",
    "    #     continue  # skip invalid combo\n",
    "    try:\n",
    "        model = LogisticRegression(C=C, penalty=penalty, solver=solver, max_iter=max_iter)\n",
    "        model.fit(X_train_arr, y_train_arr)\n",
    "        val_preds = model.predict_proba(X_val_arr)[:, 1]\n",
    "        score = roc_auc_score(y_val_arr, val_preds)\n",
    "        \n",
    "        print(f\"Evaluated C={C}, penalty={penalty}, solver={solver} -> val_auc={score:.4f}\")\n",
    "\n",
    "        if score > best_score:\n",
    "            best_score = score\n",
    "            clf = model\n",
    "            best_params = {'C': C, 'penalty': penalty, 'solver': solver}\n",
    "    except Exception as e:\n",
    "        # print(f\"Skipped C={C}, penalty={penalty}, solver={solver}: {e}\")\n",
    "        continue\n",
    "\n",
    "# Save best model\n",
    "with open(\"model.pkl\", \"wb\") as f:\n",
    "    pickle.dump(clf, f)"
   ]
  },
  {
   "cell_type": "markdown",
   "id": "bbe4afe2",
   "metadata": {},
   "source": [
    "# Evaluate CreditKarma Scorer"
   ]
  },
  {
   "cell_type": "code",
   "execution_count": 15,
   "id": "1c340811",
   "metadata": {},
   "outputs": [],
   "source": [
    "# Load model\n",
    "with open(\"model.pkl\", \"rb\") as f:\n",
    "    clf = pickle.load(f)"
   ]
  },
  {
   "cell_type": "code",
   "execution_count": 16,
   "id": "48e60ecb",
   "metadata": {},
   "outputs": [
    {
     "name": "stdout",
     "output_type": "stream",
     "text": [
      "Train AUC: 0.8503\n",
      "Val AUC: 0.8368\n",
      "Test AUC: 0.8417\n",
      "OOT_1 AUC: 0.8873\n",
      "OOT_2 AUC: 0.8759\n"
     ]
    }
   ],
   "source": [
    "# Predict and evaluate\n",
    "y_pred_proba_train = clf.predict_proba(X_train_arr)[:, 1]\n",
    "train_auc = roc_auc_score(y_train_arr, y_pred_proba_train)\n",
    "\n",
    "y_pred_proba_val = clf.predict_proba(X_val_arr)[:, 1]\n",
    "val_auc = roc_auc_score(y_val_arr, y_pred_proba_val)\n",
    "\n",
    "y_pred_proba_test = clf.predict_proba(X_test_arr)[:, 1]\n",
    "test_auc = roc_auc_score(y_test_arr, y_pred_proba_test)\n",
    "\n",
    "print(f\"Train AUC: {train_auc:.4f}\")\n",
    "print(f\"Val AUC: {val_auc:.4f}\")\n",
    "print(f\"Test AUC: {test_auc:.4f}\")\n",
    "\n",
    "y_pred_proba_oots = []\n",
    "oot_aucs = []\n",
    "\n",
    "for i, (X_oot_arr, y_oot_arr) in enumerate(oot_arrs_preprocessed):\n",
    "    y_pred_proba_oot = clf.predict_proba(X_oot_arr)[:, 1]\n",
    "    oot_auc = roc_auc_score(y_oot_arr, y_pred_proba_oot)\n",
    "    y_pred_proba_oots.append(y_pred_proba_oot)\n",
    "    oot_aucs.append(oot_auc)\n",
    "    print(f\"OOT_{i + 1} AUC: {oot_auc:.4f}\")"
   ]
  },
  {
   "cell_type": "code",
   "execution_count": 17,
   "id": "7369da93",
   "metadata": {},
   "outputs": [
    {
     "data": {
      "image/png": "[encoded data removed]",
      "text/plain": [
       "<Figure size 1000x400 with 1 Axes>"
      ]
     },
     "metadata": {},
     "output_type": "display_data"
    }
   ],
   "source": [
    "# F-B score across thresholds\n",
    "thresholds = np.arange(0.0, 1.0, 0.01)\n",
    "beta = 1.5\n",
    "f1_scores_train = [fbeta_score(y_train_arr, y_pred_proba_train > t, beta=beta) for t in thresholds]\n",
    "f1_scores_val = [fbeta_score(y_val_arr, y_pred_proba_val > t, beta=beta) for t in thresholds]\n",
    "f1_scores_test = [fbeta_score(y_test_arr, y_pred_proba_test > t, beta=beta) for t in thresholds]\n",
    "f1_scores_oots = []\n",
    "\n",
    "for i, y_pred_proba_oot in enumerate(y_pred_proba_oots):\n",
    "    y_oot_arr = oot_arrs_preprocessed[i][1]\n",
    "    f1_scores_oot = [fbeta_score(y_oot_arr, y_pred_proba_oot > t, beta=beta) for t in thresholds]\n",
    "    f1_scores_oots.append(f1_scores_oot)\n",
    "    \n",
    "best_threshold = thresholds[np.argmax(f1_scores_val)]\n",
    "\n",
    "# Plot F1 Score vs. Threshold\n",
    "plt.figure(figsize=(10, 4))\n",
    "plt.plot(thresholds, f1_scores_train, label=f\"Train F-{beta} Score\")\n",
    "plt.plot(thresholds, f1_scores_val, label=f\"Val F-{beta} Score\")\n",
    "plt.plot(thresholds, f1_scores_test, label=f\"Test F-{beta} Score\")\n",
    "for i, f1_scores_oot in enumerate(f1_scores_oots):\n",
    "    plt.plot(thresholds, f1_scores_oot, label=f\"OOT_{i + 1} F-{beta} Score\")\n",
    "plt.axvline(x=best_threshold, color=\"red\", linestyle=\"--\", label=f\"Best Threshold: {best_threshold:.2f}\")\n",
    "plt.title(f\"F-{beta} Score vs. Probability Threshold\")\n",
    "plt.xlabel(\"Threshold\")\n",
    "plt.ylabel(f\"F-{beta} Score\")\n",
    "plt.legend()\n",
    "plt.grid(True)\n",
    "plt.tight_layout()\n",
    "plt.show()"
   ]
  },
  {
   "cell_type": "code",
   "execution_count": 70,
   "id": "8d5dace0",
   "metadata": {},
   "outputs": [
    {
     "data": {
      "image/png": "[encoded data removed]",
      "text/plain": [
       "<Figure size 1800x500 with 3 Axes>"
      ]
     },
     "metadata": {},
     "output_type": "display_data"
    }
   ],
   "source": [
    "# Predictions\n",
    "y_pred_train = (y_pred_proba_train > best_threshold).astype(int)\n",
    "y_pred_val = (y_pred_proba_val > best_threshold).astype(int)\n",
    "y_pred_test = (y_pred_proba_test > best_threshold).astype(int)\n",
    "\n",
    "# Confusion matrices\n",
    "cm_train = confusion_matrix(y_train_arr, y_pred_train)\n",
    "cm_val = confusion_matrix(y_val_arr, y_pred_val)\n",
    "cm_test = confusion_matrix(y_test_arr, y_pred_test)\n",
    "\n",
    "# Plotting\n",
    "fig, axs = plt.subplots(1, 3, figsize=(18, 5))\n",
    "\n",
    "# Train\n",
    "disp_train = ConfusionMatrixDisplay(confusion_matrix=cm_train)\n",
    "disp_train.plot(ax=axs[0], cmap='Blues', colorbar=False)\n",
    "axs[0].set_title(f\"Train (Threshold={best_threshold:.2f})\")\n",
    "axs[0].grid(False)\n",
    "\n",
    "# Val\n",
    "disp_val = ConfusionMatrixDisplay(confusion_matrix=cm_val)\n",
    "disp_val.plot(ax=axs[1], cmap='Blues', colorbar=False)\n",
    "axs[1].set_title(f\"Val (Threshold={best_threshold:.2f})\")\n",
    "axs[1].grid(False)\n",
    "\n",
    "# Test\n",
    "disp_test = ConfusionMatrixDisplay(confusion_matrix=cm_test)\n",
    "disp_test.plot(ax=axs[2], cmap='Blues', colorbar=False)\n",
    "axs[2].set_title(f\"Test (Threshold={best_threshold:.2f})\")\n",
    "axs[2].grid(False)\n",
    "\n",
    "plt.tight_layout()\n",
    "plt.show()"
   ]
  },
  {
   "cell_type": "code",
   "execution_count": 71,
   "id": "34d9489f",
   "metadata": {},
   "outputs": [
    {
     "name": "stdout",
     "output_type": "stream",
     "text": [
      "Best Train F1.5-Score: 0.7068\n",
      "Best Val F1.5-Score: 0.6990\n",
      "Best Test F1.5-Score: 0.6954\n"
     ]
    }
   ],
   "source": [
    "print(f\"Best Train F{beta}-Score: {max(f1_scores_train):.4f}\")\n",
    "print(f\"Best Val F{beta}-Score: {max(f1_scores_val):.4f}\")\n",
    "print(f\"Best Test F{beta}-Score: {max(f1_scores_test):.4f}\")"
   ]
  },
  {
   "cell_type": "markdown",
   "id": "ab671f18",
   "metadata": {},
   "source": [
    "# Training Pipeline with MLFlow"
   ]
  },
  {
   "cell_type": "code",
   "execution_count": 13,
   "id": "502260e2",
   "metadata": {},
   "outputs": [
    {
     "name": "stderr",
     "output_type": "stream",
     "text": [
      "2025/06/21 06:21:07 INFO mlflow.tracking.fluent: Experiment with name '2024-09-01' does not exist. Creating a new experiment.\n"
     ]
    },
    {
     "data": {
      "text/plain": [
       "<Experiment: artifact_location='/app/model_bank/4', creation_time=1750486867076, experiment_id='4', last_update_time=1750486867076, lifecycle_stage='active', name='2024-09-01', tags={}>"
      ]
     },
     "execution_count": 13,
     "metadata": {},
     "output_type": "execute_result"
    }
   ],
   "source": [
    "# Set our tracking server uri for logging\n",
    "mlflow.set_tracking_uri(uri=\"http://mlflow:5001\")\n",
    "\n",
    "# Create a new experiment for that training date\n",
    "mlflow.set_experiment(config[\"model_train_date_str\"])"
   ]
  },
  {
   "cell_type": "markdown",
   "id": "03a409fb",
   "metadata": {},
   "source": [
    "Train & hyperparameter tune model"
   ]
  },
  {
   "cell_type": "code",
   "execution_count": 14,
   "id": "725041bd",
   "metadata": {},
   "outputs": [
    {
     "name": "stderr",
     "output_type": "stream",
     "text": [
      "2025/06/21 06:21:14 WARNING mlflow.utils.git_utils: Failed to import Git (the Git executable is probably not on your PATH), so Git SHA is not available. Error: Failed to initialize: Bad git executable.\n",
      "The git executable must be specified in one of the following ways:\n",
      "    - be included in your $PATH\n",
      "    - be set via $GIT_PYTHON_GIT_EXECUTABLE\n",
      "    - explicitly set via git.refresh(<full-path-to-git-executable>)\n",
      "\n",
      "All git commands will error until this is rectified.\n",
      "\n",
      "This initial message can be silenced or aggravated in the future by setting the\n",
      "$GIT_PYTHON_REFRESH environment variable. Use one of the following values:\n",
      "    - quiet|q|silence|s|silent|none|n|0: for no message or exception\n",
      "    - warn|w|warning|log|l|1: for a warning message (logging level CRITICAL, displayed by default)\n",
      "    - error|e|exception|raise|r|2: for a raised exception\n",
      "\n",
      "Example:\n",
      "    export GIT_PYTHON_REFRESH=quiet\n",
      "\n"
     ]
    },
    {
     "name": "stdout",
     "output_type": "stream",
     "text": [
      "🏃 View run logreg_C=0.0100_penalty=l2_solver=lbfgs_max-iter=200 at: http://mlflow:5001/#/experiments/4/runs/3004bc4a8dfb48f58bb6daceed00df50\n",
      "🧪 View experiment at: http://mlflow:5001/#/experiments/4\n",
      "🏃 View run logreg_C=0.1000_penalty=l2_solver=lbfgs_max-iter=200 at: http://mlflow:5001/#/experiments/4/runs/0a5e78b5f1f643d59c74509acec1a294\n",
      "🧪 View experiment at: http://mlflow:5001/#/experiments/4\n",
      "🏃 View run logreg_C=1.0000_penalty=l2_solver=lbfgs_max-iter=200 at: http://mlflow:5001/#/experiments/4/runs/478cbb08ce404235932a53ae40ed1207\n",
      "🧪 View experiment at: http://mlflow:5001/#/experiments/4\n",
      "🏃 View run logreg_C=10.0000_penalty=l2_solver=lbfgs_max-iter=200 at: http://mlflow:5001/#/experiments/4/runs/0ecc37fa9b3547398e10bc5f6d580b4e\n",
      "🧪 View experiment at: http://mlflow:5001/#/experiments/4\n"
     ]
    },
    {
     "name": "stderr",
     "output_type": "stream",
     "text": [
      "/usr/local/lib/python3.12/site-packages/sklearn/linear_model/_logistic.py:1207: UserWarning: Setting penalty=None will ignore the C and l1_ratio parameters\n",
      "  warnings.warn(\n"
     ]
    },
    {
     "name": "stdout",
     "output_type": "stream",
     "text": [
      "🏃 View run logreg_C=0.0100_penalty=None_solver=lbfgs_max-iter=200 at: http://mlflow:5001/#/experiments/4/runs/a67df27b8fad4f05a8c67f6cc7d031e5\n",
      "🧪 View experiment at: http://mlflow:5001/#/experiments/4\n"
     ]
    },
    {
     "name": "stderr",
     "output_type": "stream",
     "text": [
      "/usr/local/lib/python3.12/site-packages/sklearn/linear_model/_logistic.py:1207: UserWarning: Setting penalty=None will ignore the C and l1_ratio parameters\n",
      "  warnings.warn(\n"
     ]
    },
    {
     "name": "stdout",
     "output_type": "stream",
     "text": [
      "🏃 View run logreg_C=0.1000_penalty=None_solver=lbfgs_max-iter=200 at: http://mlflow:5001/#/experiments/4/runs/980edad852dc4ba1bcfb6fc01df88a07\n",
      "🧪 View experiment at: http://mlflow:5001/#/experiments/4\n",
      "🏃 View run logreg_C=1.0000_penalty=None_solver=lbfgs_max-iter=200 at: http://mlflow:5001/#/experiments/4/runs/891f764416a340448f865be878f3ac78\n",
      "🧪 View experiment at: http://mlflow:5001/#/experiments/4\n"
     ]
    },
    {
     "name": "stderr",
     "output_type": "stream",
     "text": [
      "/usr/local/lib/python3.12/site-packages/sklearn/linear_model/_logistic.py:1207: UserWarning: Setting penalty=None will ignore the C and l1_ratio parameters\n",
      "  warnings.warn(\n"
     ]
    },
    {
     "name": "stdout",
     "output_type": "stream",
     "text": [
      "🏃 View run logreg_C=10.0000_penalty=None_solver=lbfgs_max-iter=200 at: http://mlflow:5001/#/experiments/4/runs/ff41c4968c3f4edfbca0d338be507e34\n",
      "🧪 View experiment at: http://mlflow:5001/#/experiments/4\n",
      "🏃 View run logreg_C=0.0100_penalty=l2_solver=newton-cg_max-iter=200 at: http://mlflow:5001/#/experiments/4/runs/1af3d1a1156a4f84b433e8e2c383e6e3\n",
      "🧪 View experiment at: http://mlflow:5001/#/experiments/4\n",
      "🏃 View run logreg_C=0.1000_penalty=l2_solver=newton-cg_max-iter=200 at: http://mlflow:5001/#/experiments/4/runs/6c4d1c0d8ee54afe9e5bf1a0f287338a\n",
      "🧪 View experiment at: http://mlflow:5001/#/experiments/4\n",
      "🏃 View run logreg_C=1.0000_penalty=l2_solver=newton-cg_max-iter=200 at: http://mlflow:5001/#/experiments/4/runs/18badad4c57f4d1f8018442a5c8c099d\n",
      "🧪 View experiment at: http://mlflow:5001/#/experiments/4\n",
      "🏃 View run logreg_C=10.0000_penalty=l2_solver=newton-cg_max-iter=200 at: http://mlflow:5001/#/experiments/4/runs/ebf4461c1b0a4f7ba947553d14903b3d\n",
      "🧪 View experiment at: http://mlflow:5001/#/experiments/4\n"
     ]
    },
    {
     "name": "stderr",
     "output_type": "stream",
     "text": [
      "/usr/local/lib/python3.12/site-packages/sklearn/linear_model/_logistic.py:1207: UserWarning: Setting penalty=None will ignore the C and l1_ratio parameters\n",
      "  warnings.warn(\n"
     ]
    },
    {
     "name": "stdout",
     "output_type": "stream",
     "text": [
      "🏃 View run logreg_C=0.0100_penalty=None_solver=newton-cg_max-iter=200 at: http://mlflow:5001/#/experiments/4/runs/e4fba3fa402d428c9e85a1e8bafeee3d\n",
      "🧪 View experiment at: http://mlflow:5001/#/experiments/4\n"
     ]
    },
    {
     "name": "stderr",
     "output_type": "stream",
     "text": [
      "/usr/local/lib/python3.12/site-packages/sklearn/linear_model/_logistic.py:1207: UserWarning: Setting penalty=None will ignore the C and l1_ratio parameters\n",
      "  warnings.warn(\n"
     ]
    },
    {
     "name": "stdout",
     "output_type": "stream",
     "text": [
      "🏃 View run logreg_C=0.1000_penalty=None_solver=newton-cg_max-iter=200 at: http://mlflow:5001/#/experiments/4/runs/148c1eed47a9422c95d42d539151f08a\n",
      "🧪 View experiment at: http://mlflow:5001/#/experiments/4\n",
      "🏃 View run logreg_C=1.0000_penalty=None_solver=newton-cg_max-iter=200 at: http://mlflow:5001/#/experiments/4/runs/f524848b18be4d92956d2e72b8575611\n",
      "🧪 View experiment at: http://mlflow:5001/#/experiments/4\n"
     ]
    },
    {
     "name": "stderr",
     "output_type": "stream",
     "text": [
      "/usr/local/lib/python3.12/site-packages/sklearn/linear_model/_logistic.py:1207: UserWarning: Setting penalty=None will ignore the C and l1_ratio parameters\n",
      "  warnings.warn(\n"
     ]
    },
    {
     "name": "stdout",
     "output_type": "stream",
     "text": [
      "🏃 View run logreg_C=10.0000_penalty=None_solver=newton-cg_max-iter=200 at: http://mlflow:5001/#/experiments/4/runs/9fe792df50144f65be8d91e05edc1583\n",
      "🧪 View experiment at: http://mlflow:5001/#/experiments/4\n",
      "🏃 View run logreg_C=0.0100_penalty=l1_solver=liblinear_max-iter=200 at: http://mlflow:5001/#/experiments/4/runs/faf34ea86e2942e5a70099f3c7f8c30f\n",
      "🧪 View experiment at: http://mlflow:5001/#/experiments/4\n",
      "🏃 View run logreg_C=0.1000_penalty=l1_solver=liblinear_max-iter=200 at: http://mlflow:5001/#/experiments/4/runs/a495a9d728f74f2fa681c0998d87f2ac\n",
      "🧪 View experiment at: http://mlflow:5001/#/experiments/4\n",
      "🏃 View run logreg_C=1.0000_penalty=l1_solver=liblinear_max-iter=200 at: http://mlflow:5001/#/experiments/4/runs/647eef574ab34cdd81a7402bcc07e2f3\n",
      "🧪 View experiment at: http://mlflow:5001/#/experiments/4\n",
      "🏃 View run logreg_C=10.0000_penalty=l1_solver=liblinear_max-iter=200 at: http://mlflow:5001/#/experiments/4/runs/57f63e435f10402bba9f1f1f7452d971\n",
      "🧪 View experiment at: http://mlflow:5001/#/experiments/4\n",
      "🏃 View run logreg_C=0.0100_penalty=l2_solver=liblinear_max-iter=200 at: http://mlflow:5001/#/experiments/4/runs/481c87332b0445448df6685a0f38c35b\n",
      "🧪 View experiment at: http://mlflow:5001/#/experiments/4\n",
      "🏃 View run logreg_C=0.1000_penalty=l2_solver=liblinear_max-iter=200 at: http://mlflow:5001/#/experiments/4/runs/122ee6833b814063a87b8ab50855cca0\n",
      "🧪 View experiment at: http://mlflow:5001/#/experiments/4\n",
      "🏃 View run logreg_C=1.0000_penalty=l2_solver=liblinear_max-iter=200 at: http://mlflow:5001/#/experiments/4/runs/f4814a380d2847798c2657fd26cd60f2\n",
      "🧪 View experiment at: http://mlflow:5001/#/experiments/4\n",
      "🏃 View run logreg_C=10.0000_penalty=l2_solver=liblinear_max-iter=200 at: http://mlflow:5001/#/experiments/4/runs/1a0c7fe0e34c4f5ca56fa330daf9c4e0\n",
      "🧪 View experiment at: http://mlflow:5001/#/experiments/4\n",
      "🏃 View run logreg_C=0.0100_penalty=l2_solver=sag_max-iter=200 at: http://mlflow:5001/#/experiments/4/runs/64eb1c28b7a146fcbc3566d7478ab41c\n",
      "🧪 View experiment at: http://mlflow:5001/#/experiments/4\n",
      "🏃 View run logreg_C=0.1000_penalty=l2_solver=sag_max-iter=200 at: http://mlflow:5001/#/experiments/4/runs/d87a10ede7a84f04ae9d4da200deb1f3\n",
      "🧪 View experiment at: http://mlflow:5001/#/experiments/4\n",
      "🏃 View run logreg_C=1.0000_penalty=l2_solver=sag_max-iter=200 at: http://mlflow:5001/#/experiments/4/runs/0f52905575d24af6bc847b02c9c4133f\n",
      "🧪 View experiment at: http://mlflow:5001/#/experiments/4\n",
      "🏃 View run logreg_C=10.0000_penalty=l2_solver=sag_max-iter=200 at: http://mlflow:5001/#/experiments/4/runs/a2660ad17d9e4261804016d147890786\n",
      "🧪 View experiment at: http://mlflow:5001/#/experiments/4\n"
     ]
    },
    {
     "name": "stderr",
     "output_type": "stream",
     "text": [
      "/usr/local/lib/python3.12/site-packages/sklearn/linear_model/_logistic.py:1207: UserWarning: Setting penalty=None will ignore the C and l1_ratio parameters\n",
      "  warnings.warn(\n"
     ]
    },
    {
     "name": "stdout",
     "output_type": "stream",
     "text": [
      "🏃 View run logreg_C=0.0100_penalty=None_solver=sag_max-iter=200 at: http://mlflow:5001/#/experiments/4/runs/56683f248f004fb3a7cfb3e213e7b924\n",
      "🧪 View experiment at: http://mlflow:5001/#/experiments/4\n"
     ]
    },
    {
     "name": "stderr",
     "output_type": "stream",
     "text": [
      "/usr/local/lib/python3.12/site-packages/sklearn/linear_model/_logistic.py:1207: UserWarning: Setting penalty=None will ignore the C and l1_ratio parameters\n",
      "  warnings.warn(\n"
     ]
    },
    {
     "name": "stdout",
     "output_type": "stream",
     "text": [
      "🏃 View run logreg_C=0.1000_penalty=None_solver=sag_max-iter=200 at: http://mlflow:5001/#/experiments/4/runs/a1e1977ae0b54aa4b4f32334475e39a6\n",
      "🧪 View experiment at: http://mlflow:5001/#/experiments/4\n",
      "🏃 View run logreg_C=1.0000_penalty=None_solver=sag_max-iter=200 at: http://mlflow:5001/#/experiments/4/runs/bead5a00ab02413aa24714eb463fd217\n",
      "🧪 View experiment at: http://mlflow:5001/#/experiments/4\n"
     ]
    },
    {
     "name": "stderr",
     "output_type": "stream",
     "text": [
      "/usr/local/lib/python3.12/site-packages/sklearn/linear_model/_logistic.py:1207: UserWarning: Setting penalty=None will ignore the C and l1_ratio parameters\n",
      "  warnings.warn(\n"
     ]
    },
    {
     "name": "stdout",
     "output_type": "stream",
     "text": [
      "🏃 View run logreg_C=10.0000_penalty=None_solver=sag_max-iter=200 at: http://mlflow:5001/#/experiments/4/runs/15a17ec2cfc442d0989643798d5ef524\n",
      "🧪 View experiment at: http://mlflow:5001/#/experiments/4\n",
      "🏃 View run logreg_C=0.0100_penalty=l1_solver=saga_max-iter=200 at: http://mlflow:5001/#/experiments/4/runs/8fdea1d2e6a94ca6828cb758f944b995\n",
      "🧪 View experiment at: http://mlflow:5001/#/experiments/4\n",
      "🏃 View run logreg_C=0.1000_penalty=l1_solver=saga_max-iter=200 at: http://mlflow:5001/#/experiments/4/runs/2d7d522c185141deb3c1d748abb1383d\n",
      "🧪 View experiment at: http://mlflow:5001/#/experiments/4\n",
      "🏃 View run logreg_C=1.0000_penalty=l1_solver=saga_max-iter=200 at: http://mlflow:5001/#/experiments/4/runs/e96321bb44eb4841914fa2d992692f8a\n",
      "🧪 View experiment at: http://mlflow:5001/#/experiments/4\n"
     ]
    },
    {
     "name": "stderr",
     "output_type": "stream",
     "text": [
      "/usr/local/lib/python3.12/site-packages/sklearn/linear_model/_sag.py:348: ConvergenceWarning: The max_iter was reached which means the coef_ did not converge\n",
      "  warnings.warn(\n"
     ]
    },
    {
     "name": "stdout",
     "output_type": "stream",
     "text": [
      "🏃 View run logreg_C=10.0000_penalty=l1_solver=saga_max-iter=200 at: http://mlflow:5001/#/experiments/4/runs/61e1d3b18f0f4631b50f991fbf290c91\n",
      "🧪 View experiment at: http://mlflow:5001/#/experiments/4\n",
      "🏃 View run logreg_C=0.0100_penalty=l2_solver=saga_max-iter=200 at: http://mlflow:5001/#/experiments/4/runs/569a24b49abe4bd2a70f7e24a39a26fc\n",
      "🧪 View experiment at: http://mlflow:5001/#/experiments/4\n",
      "🏃 View run logreg_C=0.1000_penalty=l2_solver=saga_max-iter=200 at: http://mlflow:5001/#/experiments/4/runs/4b36a4137d574e5d8053b3b6fa3c9391\n",
      "🧪 View experiment at: http://mlflow:5001/#/experiments/4\n",
      "🏃 View run logreg_C=1.0000_penalty=l2_solver=saga_max-iter=200 at: http://mlflow:5001/#/experiments/4/runs/99fa2eefbf994b308cfb0229e0e957dd\n",
      "🧪 View experiment at: http://mlflow:5001/#/experiments/4\n",
      "🏃 View run logreg_C=10.0000_penalty=l2_solver=saga_max-iter=200 at: http://mlflow:5001/#/experiments/4/runs/d2811d675aa8417a945c1710c78c6c70\n",
      "🧪 View experiment at: http://mlflow:5001/#/experiments/4\n",
      "Skipped C=0.01, penalty=elasticnet, solver=saga: l1_ratio must be specified when penalty is elasticnet.\n",
      "🏃 View run logreg_C=0.0100_penalty=elasticnet_solver=saga_max-iter=200 at: http://mlflow:5001/#/experiments/4/runs/c8268fb160a8431e943e84e010f6203c\n",
      "🧪 View experiment at: http://mlflow:5001/#/experiments/4\n",
      "Skipped C=0.1, penalty=elasticnet, solver=saga: l1_ratio must be specified when penalty is elasticnet.\n",
      "🏃 View run logreg_C=0.1000_penalty=elasticnet_solver=saga_max-iter=200 at: http://mlflow:5001/#/experiments/4/runs/5730815831394d79817faac9358defdd\n",
      "🧪 View experiment at: http://mlflow:5001/#/experiments/4\n",
      "Skipped C=1, penalty=elasticnet, solver=saga: l1_ratio must be specified when penalty is elasticnet.\n",
      "🏃 View run logreg_C=1.0000_penalty=elasticnet_solver=saga_max-iter=200 at: http://mlflow:5001/#/experiments/4/runs/3014aba677674956abfe65b36c5de86e\n",
      "🧪 View experiment at: http://mlflow:5001/#/experiments/4\n",
      "Skipped C=10, penalty=elasticnet, solver=saga: l1_ratio must be specified when penalty is elasticnet.\n",
      "🏃 View run logreg_C=10.0000_penalty=elasticnet_solver=saga_max-iter=200 at: http://mlflow:5001/#/experiments/4/runs/769d66dc812446859b7fd2043365597d\n",
      "🧪 View experiment at: http://mlflow:5001/#/experiments/4\n"
     ]
    },
    {
     "name": "stderr",
     "output_type": "stream",
     "text": [
      "/usr/local/lib/python3.12/site-packages/sklearn/linear_model/_logistic.py:1207: UserWarning: Setting penalty=None will ignore the C and l1_ratio parameters\n",
      "  warnings.warn(\n"
     ]
    },
    {
     "name": "stdout",
     "output_type": "stream",
     "text": [
      "🏃 View run logreg_C=0.0100_penalty=None_solver=saga_max-iter=200 at: http://mlflow:5001/#/experiments/4/runs/a26ea5755f0441a78bad67d427ad5425\n",
      "🧪 View experiment at: http://mlflow:5001/#/experiments/4\n"
     ]
    },
    {
     "name": "stderr",
     "output_type": "stream",
     "text": [
      "/usr/local/lib/python3.12/site-packages/sklearn/linear_model/_logistic.py:1207: UserWarning: Setting penalty=None will ignore the C and l1_ratio parameters\n",
      "  warnings.warn(\n"
     ]
    },
    {
     "name": "stdout",
     "output_type": "stream",
     "text": [
      "🏃 View run logreg_C=0.1000_penalty=None_solver=saga_max-iter=200 at: http://mlflow:5001/#/experiments/4/runs/9cf4f3bd73fe4df5b3302a61e0444806\n",
      "🧪 View experiment at: http://mlflow:5001/#/experiments/4\n",
      "🏃 View run logreg_C=1.0000_penalty=None_solver=saga_max-iter=200 at: http://mlflow:5001/#/experiments/4/runs/7cac55cd06ec4f04a470fb51c4c58f02\n",
      "🧪 View experiment at: http://mlflow:5001/#/experiments/4\n"
     ]
    },
    {
     "name": "stderr",
     "output_type": "stream",
     "text": [
      "/usr/local/lib/python3.12/site-packages/sklearn/linear_model/_logistic.py:1207: UserWarning: Setting penalty=None will ignore the C and l1_ratio parameters\n",
      "  warnings.warn(\n"
     ]
    },
    {
     "name": "stdout",
     "output_type": "stream",
     "text": [
      "🏃 View run logreg_C=10.0000_penalty=None_solver=saga_max-iter=200 at: http://mlflow:5001/#/experiments/4/runs/cd338692b4684bcb995109f66b44827a\n",
      "🧪 View experiment at: http://mlflow:5001/#/experiments/4\n"
     ]
    }
   ],
   "source": [
    "best_score = -np.inf\n",
    "best_model = None\n",
    "best_params = {}\n",
    "best_signature = None\n",
    "best_input_example = None\n",
    "\n",
    "########################\n",
    "# Model Training\n",
    "########################\n",
    "for solver, penalty, C, max_iter in itertools.product(param_grid['solver'], param_grid['penalty'], param_grid['C'], param_grid['max_iter']):\n",
    "    if penalty not in valid_combinations.get(solver, []):\n",
    "        continue  # skip invalid combo\n",
    "\n",
    "    # Start an MLflow run\n",
    "    with mlflow.start_run(run_name=f\"logreg_C={C:.4f}_penalty={penalty}_solver={solver}_max-iter={max_iter}\"):\n",
    "        try:\n",
    "            ####################\n",
    "            # Train Model\n",
    "            ####################\n",
    "            model = LogisticRegression(C=C, penalty=penalty, solver=solver, max_iter=max_iter)\n",
    "            model.fit(X_train_arr, y_train_arr)\n",
    "\n",
    "            ####################\n",
    "            # Evaluate Metrics\n",
    "            ####################\n",
    "\n",
    "            # AUC\n",
    "            y_pred_proba_train = model.predict_proba(X_train_arr)[:, 1]\n",
    "            train_auc = roc_auc_score(y_train_arr, y_pred_proba_train)\n",
    "            y_pred_proba_val = model.predict_proba(X_val_arr)[:, 1]\n",
    "            val_auc = roc_auc_score(y_val_arr, y_pred_proba_val)\n",
    "\n",
    "            # F1.5\n",
    "            thresholds = np.arange(0.0, 1.0, 0.01)\n",
    "            beta = 1.5\n",
    "            fb_scores_train = [fbeta_score(y_train_arr, y_pred_proba_train > t, beta=beta) for t in thresholds]\n",
    "            fb_scores_val = [fbeta_score(y_val_arr, y_pred_proba_val > t, beta=beta) for t in thresholds]\n",
    "            best_threshold = thresholds[np.argmax(fb_scores_val)]\n",
    "\n",
    "            train_fb_score = fb_scores_train[np.argmax(fb_scores_val)]\n",
    "            val_fb_score = fb_scores_val[np.argmax(fb_scores_val)]\n",
    "\n",
    "            ####################\n",
    "            # Log to MLFlow\n",
    "            ####################\n",
    "            mlflow.log_param(\"C\", C)\n",
    "            mlflow.log_param(\"penalty\", penalty)\n",
    "            mlflow.log_param(\"solver\", solver)\n",
    "            mlflow.log_param(\"max_iter\", max_iter)\n",
    "\n",
    "            mlflow.log_metric(\"train_auc\", train_auc)\n",
    "            mlflow.log_metric(\"val_auc\", val_auc)\n",
    "\n",
    "            mlflow.log_metric(f\"train_f{beta:.1f}_score\", train_fb_score)\n",
    "            mlflow.log_metric(f\"val_f{beta:.1f}_score\", val_fb_score)\n",
    "\n",
    "            if val_fb_score > best_score:\n",
    "                best_score = val_fb_score\n",
    "                best_model = model\n",
    "                best_params = {'C': C, 'penalty': penalty, 'solver': solver, 'max_iter': max_iter}\n",
    "                best_signature = infer_signature(X_val_arr, model.predict_proba(X_val_arr))\n",
    "                best_input_example = X_val_arr[:5]\n",
    "        except Exception as e:\n",
    "            print(f\"Skipped C={C}, penalty={penalty}, solver={solver}: {e}\")\n",
    "            mlflow.end_run(status=\"FAILED\")\n",
    "            continue"
   ]
  },
  {
   "cell_type": "markdown",
   "id": "d7362d5a",
   "metadata": {},
   "source": [
    "Save best model"
   ]
  },
  {
   "cell_type": "code",
   "execution_count": 15,
   "id": "e8494b31",
   "metadata": {},
   "outputs": [
    {
     "name": "stderr",
     "output_type": "stream",
     "text": [
      "Successfully registered model 'creditkarma-scorer'.\n",
      "2025/06/21 06:22:21 INFO mlflow.store.model_registry.abstract_store: Waiting up to 300 seconds for model version to finish creation. Model name: creditkarma-scorer, version 1\n",
      "Created version '1' of model 'creditkarma-scorer'.\n"
     ]
    },
    {
     "name": "stdout",
     "output_type": "stream",
     "text": [
      "✅ Logged and registered best model: runs:/0fa5557b8316423298e31fe1b7746c79/2024-09-01\n",
      "🏃 View run best_model at: http://mlflow:5001/#/experiments/4/runs/0fa5557b8316423298e31fe1b7746c79\n",
      "🧪 View experiment at: http://mlflow:5001/#/experiments/4\n"
     ]
    }
   ],
   "source": [
    "with mlflow.start_run(run_name=\"best_model\"):\n",
    "    ####################\n",
    "    # Evaluate Metrics\n",
    "    ####################\n",
    "    # AUC\n",
    "    y_pred_proba_train = best_model.predict_proba(X_train_arr)[:, 1]\n",
    "    train_auc = roc_auc_score(y_train_arr, y_pred_proba_train)\n",
    "    y_pred_proba_val = best_model.predict_proba(X_val_arr)[:, 1]\n",
    "    val_auc = roc_auc_score(y_val_arr, y_pred_proba_val)\n",
    "    y_pred_proba_test = best_model.predict_proba(X_test_arr)[:, 1]\n",
    "    test_auc = roc_auc_score(y_test_arr, y_pred_proba_test)\n",
    "\n",
    "    y_pred_proba_oots = []\n",
    "    oot_aucs = []\n",
    "    for i, (X_oot_arr, y_oot_arr) in enumerate(oot_arrs_preprocessed):\n",
    "        y_pred_proba_oot = best_model.predict_proba(X_oot_arr)[:, 1]\n",
    "        oot_auc = roc_auc_score(y_oot_arr, y_pred_proba_oot)\n",
    "        y_pred_proba_oots.append(y_pred_proba_oot)\n",
    "        oot_aucs.append(oot_auc)\n",
    "\n",
    "    # F1.5\n",
    "    thresholds = np.arange(0.0, 1.0, 0.01)\n",
    "    beta = 1.5\n",
    "    fb_scores_train = [fbeta_score(y_train_arr, y_pred_proba_train > t, beta=beta) for t in thresholds]\n",
    "    fb_scores_val = [fbeta_score(y_val_arr, y_pred_proba_val > t, beta=beta) for t in thresholds]\n",
    "    fb_scores_test = [fbeta_score(y_test_arr, y_pred_proba_test > t, beta=beta) for t in thresholds]\n",
    "    fb_scores_oots = []\n",
    "    for i, y_pred_proba_oot in enumerate(y_pred_proba_oots):\n",
    "        y_oot_arr = oot_arrs_preprocessed[i][1]\n",
    "        fb_scores_oot = [fbeta_score(y_oot_arr, y_pred_proba_oot > t, beta=beta) for t in thresholds]\n",
    "        fb_scores_oots.append(fb_scores_oot)\n",
    "\n",
    "    best_threshold = thresholds[np.argmax(fb_scores_val)]\n",
    "\n",
    "    train_fb_score = fb_scores_train[np.argmax(fb_scores_val)]\n",
    "    val_fb_score = fb_scores_val[np.argmax(fb_scores_val)]\n",
    "    test_fb_score = fb_scores_train[np.argmax(fb_scores_test)]\n",
    "    oot_fb_scores = [fb_scores_oot[np.argmax(fb_scores_oot)] for fb_scores_oot in fb_scores_oots]\n",
    "    \n",
    "    ####################\n",
    "    # Log to MLFlow\n",
    "    ####################\n",
    "    \n",
    "    # Params\n",
    "    mlflow.log_params(config)\n",
    "    mlflow.log_params(best_params)\n",
    "    mlflow.log_param(\"best_fb_threshold\", best_threshold)\n",
    "\n",
    "    # AUC\n",
    "    mlflow.log_metric(\"train_auc\", train_auc)\n",
    "    mlflow.log_metric(\"val_auc\", val_auc)\n",
    "    mlflow.log_metric(\"test_auc\", test_auc)\n",
    "    for i, auc in enumerate(oot_fb_scores):\n",
    "        mlflow.log_metric(f\"oot{i + 1}_auc\", auc)\n",
    "\n",
    "    # F-Beta\n",
    "    mlflow.log_metric(f\"train_f{beta:.1f}_score\", train_fb_score)\n",
    "    mlflow.log_metric(f\"val_f{beta:.1f}_score\", val_fb_score)\n",
    "    mlflow.log_metric(f\"test_f{beta:.1f}_score\", test_fb_score)\n",
    "    for i, fb_score in enumerate(oot_fb_scores):\n",
    "        mlflow.log_metric(f\"oot{i + 1}_f{beta:.1f}_score\", fb_score)\n",
    "\n",
    "    full_pipeline = make_pipeline(\n",
    "        preprocessing_pipeline,\n",
    "        best_model\n",
    "    )\n",
    "\n",
    "    model_info = mlflow.sklearn.log_model(\n",
    "        sk_model=full_pipeline,\n",
    "        artifact_path=f\"{config['model_train_date_str']}\",\n",
    "        input_example=best_input_example,\n",
    "        signature=best_signature,\n",
    "        registered_model_name=\"creditkarma-scorer\"\n",
    "    )\n",
    "\n",
    "    client = MlflowClient()\n",
    "\n",
    "    client.set_model_version_tag(\n",
    "        name=\"creditkarma-scorer\",\n",
    "        version=model_info.registered_model_version,\n",
    "        key=\"train_date\",\n",
    "        value=config[\"model_train_date_str\"]\n",
    "    )\n",
    "\n",
    "    print(f\"✅ Logged and registered best model: {model_info.model_uri}\")"
   ]
  },
  {
   "cell_type": "markdown",
   "id": "99b65edf",
   "metadata": {},
   "source": [
    "Pick best model for production"
   ]
  },
  {
   "cell_type": "code",
   "execution_count": null,
   "id": "732de77f",
   "metadata": {},
   "outputs": [
    {
     "name": "stdout",
     "output_type": "stream",
     "text": [
      "✅ Deployed version 2 with composite score 0.7090\n"
     ]
    }
   ],
   "source": [
    "# metrics_to_compare = [\"test_f1.5_score\", \"oot_f1.5_score\"]\n",
    "\n",
    "# def scoring_fn(metrics):\n",
    "#     \"\"\"\n",
    "#     Weighted average of performance and stability metrics\n",
    "#     \"\"\"\n",
    "#     try:\n",
    "#         return (\n",
    "#             0.6 * metrics[\"test_f1.5_score\"] +\n",
    "#             0.4 * metrics[\"oot_f1.5_score\"]\n",
    "#         )\n",
    "#     except KeyError:\n",
    "#         return float(\"-inf\")  # skip models missing metrics\n",
    "\n",
    "# best_version = None\n",
    "# best_score = float(\"-inf\")\n",
    "\n",
    "# for v in client.search_model_versions(f\"name='creditkarma-scorer'\"):\n",
    "#     run_id = v.run_id\n",
    "#     run_metrics = client.get_run(run_id).data.metrics\n",
    "\n",
    "#     # Make sure all required metrics are present\n",
    "#     if all(m in run_metrics for m in metrics_to_compare):\n",
    "#         score = scoring_fn(run_metrics)\n",
    "#         if score > best_score:\n",
    "#             best_score = score\n",
    "#             best_version = v\n",
    "\n",
    "# if best_version:\n",
    "#     client.set_registered_model_alias(\"creditkarma-scorer\", \"champion\", best_version.version)\n",
    "#     print(f\"✅ Deployed version {best_version.version} with composite score {best_score:.4f}\")\n",
    "# else:\n",
    "#     print(\"❌ No suitable model version found.\")"
   ]
  },
  {
   "cell_type": "markdown",
   "id": "8dff55f5",
   "metadata": {},
   "source": [
    "# Test Utils Script"
   ]
  },
  {
   "cell_type": "code",
   "execution_count": null,
   "id": "4a574915",
   "metadata": {},
   "outputs": [
    {
     "name": "stderr",
     "output_type": "stream",
     "text": [
      "Setting default log level to \"WARN\".\n",
      "To adjust logging level use sc.setLogLevel(newLevel). For SparkR, use setLogLevel(newLevel).\n",
      "25/06/19 08:18:02 WARN NativeCodeLoader: Unable to load native-hadoop library for your platform... using builtin-java classes where applicable\n",
      "25/06/19 08:18:18 WARN SparkStringUtils: Truncated the string representation of a plan since it was too large. This behavior can be adjusted by setting 'spark.sql.debug.maxToStringFields'.\n",
      "                                                                                \r"
     ]
    },
    {
     "name": "stdout",
     "output_type": "stream",
     "text": [
      "Data preprocessing complete!\n",
      "Connected to MLFlow!\n"
     ]
    },
    {
     "name": "stderr",
     "output_type": "stream",
     "text": [
      "2025/06/19 08:18:27 WARNING mlflow.utils.git_utils: Failed to import Git (the Git executable is probably not on your PATH), so Git SHA is not available. Error: Failed to initialize: Bad git executable.\n",
      "The git executable must be specified in one of the following ways:\n",
      "    - be included in your $PATH\n",
      "    - be set via $GIT_PYTHON_GIT_EXECUTABLE\n",
      "    - explicitly set via git.refresh(<full-path-to-git-executable>)\n",
      "\n",
      "All git commands will error until this is rectified.\n",
      "\n",
      "This initial message can be silenced or aggravated in the future by setting the\n",
      "$GIT_PYTHON_REFRESH environment variable. Use one of the following values:\n",
      "    - quiet|q|silence|s|silent|none|n|0: for no message or exception\n",
      "    - warn|w|warning|log|l|1: for a warning message (logging level CRITICAL, displayed by default)\n",
      "    - error|e|exception|raise|r|2: for a raised exception\n",
      "\n",
      "Example:\n",
      "    export GIT_PYTHON_REFRESH=quiet\n",
      "\n"
     ]
    },
    {
     "name": "stdout",
     "output_type": "stream",
     "text": [
      "Skipped {'n_estimators': 50, 'max_depth': None, 'min_samples_split': 2, 'min_samples_leaf': 1, 'max_features': 'auto'}: The 'max_features' parameter of RandomForestClassifier must be an int in the range [1, inf), a float in the range (0.0, 1.0], a str among {'log2', 'sqrt'} or None. Got 'auto' instead.\n",
      "🏃 View run rf_n_estimators=50_max_depth=None_min_samples_split=2_min_samples_leaf=1_max_features=auto at: http://mlflow:5001/#/experiments/1/runs/bb80f662b089407a8d558684ca20ee67\n",
      "🧪 View experiment at: http://mlflow:5001/#/experiments/1\n",
      "🏃 View run rf_n_estimators=50_max_depth=None_min_samples_split=2_min_samples_leaf=1_max_features=sqrt at: http://mlflow:5001/#/experiments/1/runs/c3f3cc80375f403c85c51908a9de6742\n",
      "🧪 View experiment at: http://mlflow:5001/#/experiments/1\n",
      "🏃 View run rf_n_estimators=50_max_depth=None_min_samples_split=2_min_samples_leaf=1_max_features=log2 at: http://mlflow:5001/#/experiments/1/runs/8186a63f5d804de98e1813ff4da97457\n",
      "🧪 View experiment at: http://mlflow:5001/#/experiments/1\n",
      "Skipped {'n_estimators': 50, 'max_depth': None, 'min_samples_split': 2, 'min_samples_leaf': 2, 'max_features': 'auto'}: The 'max_features' parameter of RandomForestClassifier must be an int in the range [1, inf), a float in the range (0.0, 1.0], a str among {'log2', 'sqrt'} or None. Got 'auto' instead.\n",
      "🏃 View run rf_n_estimators=50_max_depth=None_min_samples_split=2_min_samples_leaf=2_max_features=auto at: http://mlflow:5001/#/experiments/1/runs/f70d73803cee457195c3274cbd4a2b86\n",
      "🧪 View experiment at: http://mlflow:5001/#/experiments/1\n",
      "🏃 View run rf_n_estimators=50_max_depth=None_min_samples_split=2_min_samples_leaf=2_max_features=sqrt at: http://mlflow:5001/#/experiments/1/runs/6fff7567522e47bc9b2dc101bd438427\n",
      "🧪 View experiment at: http://mlflow:5001/#/experiments/1\n",
      "🏃 View run rf_n_estimators=50_max_depth=None_min_samples_split=2_min_samples_leaf=2_max_features=log2 at: http://mlflow:5001/#/experiments/1/runs/cf9d9f34f7d34190b058c8e123b29080\n",
      "🧪 View experiment at: http://mlflow:5001/#/experiments/1\n",
      "Skipped {'n_estimators': 50, 'max_depth': None, 'min_samples_split': 5, 'min_samples_leaf': 1, 'max_features': 'auto'}: The 'max_features' parameter of RandomForestClassifier must be an int in the range [1, inf), a float in the range (0.0, 1.0], a str among {'log2', 'sqrt'} or None. Got 'auto' instead.\n",
      "🏃 View run rf_n_estimators=50_max_depth=None_min_samples_split=5_min_samples_leaf=1_max_features=auto at: http://mlflow:5001/#/experiments/1/runs/3e55e39659794bb0b52308189b6bc74d\n",
      "🧪 View experiment at: http://mlflow:5001/#/experiments/1\n",
      "🏃 View run rf_n_estimators=50_max_depth=None_min_samples_split=5_min_samples_leaf=1_max_features=sqrt at: http://mlflow:5001/#/experiments/1/runs/0efebc2785654e7d9c75687c537f64a4\n",
      "🧪 View experiment at: http://mlflow:5001/#/experiments/1\n",
      "🏃 View run rf_n_estimators=50_max_depth=None_min_samples_split=5_min_samples_leaf=1_max_features=log2 at: http://mlflow:5001/#/experiments/1/runs/09a2369e0ec1452382e5aeb599392d89\n",
      "🧪 View experiment at: http://mlflow:5001/#/experiments/1\n",
      "Skipped {'n_estimators': 50, 'max_depth': None, 'min_samples_split': 5, 'min_samples_leaf': 2, 'max_features': 'auto'}: The 'max_features' parameter of RandomForestClassifier must be an int in the range [1, inf), a float in the range (0.0, 1.0], a str among {'log2', 'sqrt'} or None. Got 'auto' instead.\n",
      "🏃 View run rf_n_estimators=50_max_depth=None_min_samples_split=5_min_samples_leaf=2_max_features=auto at: http://mlflow:5001/#/experiments/1/runs/ad9edd80d6b84844a1f54ae5de77b58c\n",
      "🧪 View experiment at: http://mlflow:5001/#/experiments/1\n",
      "🏃 View run rf_n_estimators=50_max_depth=None_min_samples_split=5_min_samples_leaf=2_max_features=sqrt at: http://mlflow:5001/#/experiments/1/runs/a63478f755c84674934c7a4c4bb5eef6\n",
      "🧪 View experiment at: http://mlflow:5001/#/experiments/1\n",
      "🏃 View run rf_n_estimators=50_max_depth=None_min_samples_split=5_min_samples_leaf=2_max_features=log2 at: http://mlflow:5001/#/experiments/1/runs/4555aefefdeb42799ac271d2c069774e\n",
      "🧪 View experiment at: http://mlflow:5001/#/experiments/1\n",
      "Skipped {'n_estimators': 50, 'max_depth': 5, 'min_samples_split': 2, 'min_samples_leaf': 1, 'max_features': 'auto'}: The 'max_features' parameter of RandomForestClassifier must be an int in the range [1, inf), a float in the range (0.0, 1.0], a str among {'log2', 'sqrt'} or None. Got 'auto' instead.\n",
      "🏃 View run rf_n_estimators=50_max_depth=5_min_samples_split=2_min_samples_leaf=1_max_features=auto at: http://mlflow:5001/#/experiments/1/runs/8ec2a86df8984fc28720258173cf28c8\n",
      "🧪 View experiment at: http://mlflow:5001/#/experiments/1\n",
      "🏃 View run rf_n_estimators=50_max_depth=5_min_samples_split=2_min_samples_leaf=1_max_features=sqrt at: http://mlflow:5001/#/experiments/1/runs/1cdaebbcb9ab46eb8c6f0223f014c8d3\n",
      "🧪 View experiment at: http://mlflow:5001/#/experiments/1\n",
      "🏃 View run rf_n_estimators=50_max_depth=5_min_samples_split=2_min_samples_leaf=1_max_features=log2 at: http://mlflow:5001/#/experiments/1/runs/0b654c99035548a8b098b123ecb9c834\n",
      "🧪 View experiment at: http://mlflow:5001/#/experiments/1\n",
      "Skipped {'n_estimators': 50, 'max_depth': 5, 'min_samples_split': 2, 'min_samples_leaf': 2, 'max_features': 'auto'}: The 'max_features' parameter of RandomForestClassifier must be an int in the range [1, inf), a float in the range (0.0, 1.0], a str among {'log2', 'sqrt'} or None. Got 'auto' instead.\n",
      "🏃 View run rf_n_estimators=50_max_depth=5_min_samples_split=2_min_samples_leaf=2_max_features=auto at: http://mlflow:5001/#/experiments/1/runs/5819052000454463aec0b986233cab16\n",
      "🧪 View experiment at: http://mlflow:5001/#/experiments/1\n",
      "🏃 View run rf_n_estimators=50_max_depth=5_min_samples_split=2_min_samples_leaf=2_max_features=sqrt at: http://mlflow:5001/#/experiments/1/runs/d6fda53c6dfd45288a56ae226bf50dac\n",
      "🧪 View experiment at: http://mlflow:5001/#/experiments/1\n",
      "🏃 View run rf_n_estimators=50_max_depth=5_min_samples_split=2_min_samples_leaf=2_max_features=log2 at: http://mlflow:5001/#/experiments/1/runs/41f58a7339f84dcfa30a2e341be35213\n",
      "🧪 View experiment at: http://mlflow:5001/#/experiments/1\n",
      "Skipped {'n_estimators': 50, 'max_depth': 5, 'min_samples_split': 5, 'min_samples_leaf': 1, 'max_features': 'auto'}: The 'max_features' parameter of RandomForestClassifier must be an int in the range [1, inf), a float in the range (0.0, 1.0], a str among {'log2', 'sqrt'} or None. Got 'auto' instead.\n",
      "🏃 View run rf_n_estimators=50_max_depth=5_min_samples_split=5_min_samples_leaf=1_max_features=auto at: http://mlflow:5001/#/experiments/1/runs/426616db8f804995a094337baffdc5fb\n",
      "🧪 View experiment at: http://mlflow:5001/#/experiments/1\n",
      "🏃 View run rf_n_estimators=50_max_depth=5_min_samples_split=5_min_samples_leaf=1_max_features=sqrt at: http://mlflow:5001/#/experiments/1/runs/4e09d7bc48904428be3ff565f4f69d1f\n",
      "🧪 View experiment at: http://mlflow:5001/#/experiments/1\n",
      "🏃 View run rf_n_estimators=50_max_depth=5_min_samples_split=5_min_samples_leaf=1_max_features=log2 at: http://mlflow:5001/#/experiments/1/runs/b9e3cdc3622044aa9556ae7e4a7396b8\n",
      "🧪 View experiment at: http://mlflow:5001/#/experiments/1\n",
      "Skipped {'n_estimators': 50, 'max_depth': 5, 'min_samples_split': 5, 'min_samples_leaf': 2, 'max_features': 'auto'}: The 'max_features' parameter of RandomForestClassifier must be an int in the range [1, inf), a float in the range (0.0, 1.0], a str among {'log2', 'sqrt'} or None. Got 'auto' instead.\n",
      "🏃 View run rf_n_estimators=50_max_depth=5_min_samples_split=5_min_samples_leaf=2_max_features=auto at: http://mlflow:5001/#/experiments/1/runs/3d72d54d5905483185ffc1f9c118c0ef\n",
      "🧪 View experiment at: http://mlflow:5001/#/experiments/1\n",
      "🏃 View run rf_n_estimators=50_max_depth=5_min_samples_split=5_min_samples_leaf=2_max_features=sqrt at: http://mlflow:5001/#/experiments/1/runs/63a7647027e74134abed66b0eb3fd47c\n",
      "🧪 View experiment at: http://mlflow:5001/#/experiments/1\n",
      "🏃 View run rf_n_estimators=50_max_depth=5_min_samples_split=5_min_samples_leaf=2_max_features=log2 at: http://mlflow:5001/#/experiments/1/runs/fd11ef6be6ef4f578000e8523c0a2cf3\n",
      "🧪 View experiment at: http://mlflow:5001/#/experiments/1\n",
      "Skipped {'n_estimators': 50, 'max_depth': 10, 'min_samples_split': 2, 'min_samples_leaf': 1, 'max_features': 'auto'}: The 'max_features' parameter of RandomForestClassifier must be an int in the range [1, inf), a float in the range (0.0, 1.0], a str among {'log2', 'sqrt'} or None. Got 'auto' instead.\n",
      "🏃 View run rf_n_estimators=50_max_depth=10_min_samples_split=2_min_samples_leaf=1_max_features=auto at: http://mlflow:5001/#/experiments/1/runs/d2ecc8daa52f49099715109096818de2\n",
      "🧪 View experiment at: http://mlflow:5001/#/experiments/1\n",
      "🏃 View run rf_n_estimators=50_max_depth=10_min_samples_split=2_min_samples_leaf=1_max_features=sqrt at: http://mlflow:5001/#/experiments/1/runs/4ce0107030c5444aa715e2d2f6d2f909\n",
      "🧪 View experiment at: http://mlflow:5001/#/experiments/1\n",
      "🏃 View run rf_n_estimators=50_max_depth=10_min_samples_split=2_min_samples_leaf=1_max_features=log2 at: http://mlflow:5001/#/experiments/1/runs/8a9393575725499eaac3b67b702f85ef\n",
      "🧪 View experiment at: http://mlflow:5001/#/experiments/1\n",
      "Skipped {'n_estimators': 50, 'max_depth': 10, 'min_samples_split': 2, 'min_samples_leaf': 2, 'max_features': 'auto'}: The 'max_features' parameter of RandomForestClassifier must be an int in the range [1, inf), a float in the range (0.0, 1.0], a str among {'log2', 'sqrt'} or None. Got 'auto' instead.\n",
      "🏃 View run rf_n_estimators=50_max_depth=10_min_samples_split=2_min_samples_leaf=2_max_features=auto at: http://mlflow:5001/#/experiments/1/runs/e61839535f354e1284594ab5e0e6cbec\n",
      "🧪 View experiment at: http://mlflow:5001/#/experiments/1\n",
      "🏃 View run rf_n_estimators=50_max_depth=10_min_samples_split=2_min_samples_leaf=2_max_features=sqrt at: http://mlflow:5001/#/experiments/1/runs/e963aff270cd4d489b01ae80ecd43cc0\n",
      "🧪 View experiment at: http://mlflow:5001/#/experiments/1\n",
      "🏃 View run rf_n_estimators=50_max_depth=10_min_samples_split=2_min_samples_leaf=2_max_features=log2 at: http://mlflow:5001/#/experiments/1/runs/be71a8c33bd144dc9a6058d34ffe5820\n",
      "🧪 View experiment at: http://mlflow:5001/#/experiments/1\n",
      "Skipped {'n_estimators': 50, 'max_depth': 10, 'min_samples_split': 5, 'min_samples_leaf': 1, 'max_features': 'auto'}: The 'max_features' parameter of RandomForestClassifier must be an int in the range [1, inf), a float in the range (0.0, 1.0], a str among {'log2', 'sqrt'} or None. Got 'auto' instead.\n",
      "🏃 View run rf_n_estimators=50_max_depth=10_min_samples_split=5_min_samples_leaf=1_max_features=auto at: http://mlflow:5001/#/experiments/1/runs/a5df9ef5b9b142a788e12cd7af58d1d8\n",
      "🧪 View experiment at: http://mlflow:5001/#/experiments/1\n",
      "🏃 View run rf_n_estimators=50_max_depth=10_min_samples_split=5_min_samples_leaf=1_max_features=sqrt at: http://mlflow:5001/#/experiments/1/runs/e277ca8181324050ab8226cb3777c937\n",
      "🧪 View experiment at: http://mlflow:5001/#/experiments/1\n",
      "🏃 View run rf_n_estimators=50_max_depth=10_min_samples_split=5_min_samples_leaf=1_max_features=log2 at: http://mlflow:5001/#/experiments/1/runs/336d26ba047346d7854dd140f0b9ed70\n",
      "🧪 View experiment at: http://mlflow:5001/#/experiments/1\n",
      "Skipped {'n_estimators': 50, 'max_depth': 10, 'min_samples_split': 5, 'min_samples_leaf': 2, 'max_features': 'auto'}: The 'max_features' parameter of RandomForestClassifier must be an int in the range [1, inf), a float in the range (0.0, 1.0], a str among {'log2', 'sqrt'} or None. Got 'auto' instead.\n",
      "🏃 View run rf_n_estimators=50_max_depth=10_min_samples_split=5_min_samples_leaf=2_max_features=auto at: http://mlflow:5001/#/experiments/1/runs/f77503e28ac543cf93c7dcb9afd79692\n",
      "🧪 View experiment at: http://mlflow:5001/#/experiments/1\n",
      "🏃 View run rf_n_estimators=50_max_depth=10_min_samples_split=5_min_samples_leaf=2_max_features=sqrt at: http://mlflow:5001/#/experiments/1/runs/2c2a8fb2790e4a8594bd3b676ae25cc0\n",
      "🧪 View experiment at: http://mlflow:5001/#/experiments/1\n",
      "🏃 View run rf_n_estimators=50_max_depth=10_min_samples_split=5_min_samples_leaf=2_max_features=log2 at: http://mlflow:5001/#/experiments/1/runs/a7036cf13d7247949c03111c59822bc8\n",
      "🧪 View experiment at: http://mlflow:5001/#/experiments/1\n",
      "Skipped {'n_estimators': 50, 'max_depth': 20, 'min_samples_split': 2, 'min_samples_leaf': 1, 'max_features': 'auto'}: The 'max_features' parameter of RandomForestClassifier must be an int in the range [1, inf), a float in the range (0.0, 1.0], a str among {'log2', 'sqrt'} or None. Got 'auto' instead.\n",
      "🏃 View run rf_n_estimators=50_max_depth=20_min_samples_split=2_min_samples_leaf=1_max_features=auto at: http://mlflow:5001/#/experiments/1/runs/b2a2517e88994ed08b8a1c747926a549\n",
      "🧪 View experiment at: http://mlflow:5001/#/experiments/1\n",
      "🏃 View run rf_n_estimators=50_max_depth=20_min_samples_split=2_min_samples_leaf=1_max_features=sqrt at: http://mlflow:5001/#/experiments/1/runs/863bc37732164b408f9b2a8e881fffef\n",
      "🧪 View experiment at: http://mlflow:5001/#/experiments/1\n",
      "🏃 View run rf_n_estimators=50_max_depth=20_min_samples_split=2_min_samples_leaf=1_max_features=log2 at: http://mlflow:5001/#/experiments/1/runs/2d3c540d954044c2afe507d148896eea\n",
      "🧪 View experiment at: http://mlflow:5001/#/experiments/1\n",
      "Skipped {'n_estimators': 50, 'max_depth': 20, 'min_samples_split': 2, 'min_samples_leaf': 2, 'max_features': 'auto'}: The 'max_features' parameter of RandomForestClassifier must be an int in the range [1, inf), a float in the range (0.0, 1.0], a str among {'log2', 'sqrt'} or None. Got 'auto' instead.\n",
      "🏃 View run rf_n_estimators=50_max_depth=20_min_samples_split=2_min_samples_leaf=2_max_features=auto at: http://mlflow:5001/#/experiments/1/runs/387af1e887ed4ecc840ce1b9535d4eb0\n",
      "🧪 View experiment at: http://mlflow:5001/#/experiments/1\n",
      "🏃 View run rf_n_estimators=50_max_depth=20_min_samples_split=2_min_samples_leaf=2_max_features=sqrt at: http://mlflow:5001/#/experiments/1/runs/6d681652173c46e287ec99e4e4e6561b\n",
      "🧪 View experiment at: http://mlflow:5001/#/experiments/1\n",
      "🏃 View run rf_n_estimators=50_max_depth=20_min_samples_split=2_min_samples_leaf=2_max_features=log2 at: http://mlflow:5001/#/experiments/1/runs/460996ff9d1645f58faa1e481699f0ab\n",
      "🧪 View experiment at: http://mlflow:5001/#/experiments/1\n",
      "Skipped {'n_estimators': 50, 'max_depth': 20, 'min_samples_split': 5, 'min_samples_leaf': 1, 'max_features': 'auto'}: The 'max_features' parameter of RandomForestClassifier must be an int in the range [1, inf), a float in the range (0.0, 1.0], a str among {'log2', 'sqrt'} or None. Got 'auto' instead.\n",
      "🏃 View run rf_n_estimators=50_max_depth=20_min_samples_split=5_min_samples_leaf=1_max_features=auto at: http://mlflow:5001/#/experiments/1/runs/d65741b2b6654519ae61303f7b270669\n",
      "🧪 View experiment at: http://mlflow:5001/#/experiments/1\n",
      "🏃 View run rf_n_estimators=50_max_depth=20_min_samples_split=5_min_samples_leaf=1_max_features=sqrt at: http://mlflow:5001/#/experiments/1/runs/c115a001dcfc4285bcbe76f690fb74f5\n",
      "🧪 View experiment at: http://mlflow:5001/#/experiments/1\n",
      "🏃 View run rf_n_estimators=50_max_depth=20_min_samples_split=5_min_samples_leaf=1_max_features=log2 at: http://mlflow:5001/#/experiments/1/runs/d4d92d3b0bce4695baaf138739ce91f4\n",
      "🧪 View experiment at: http://mlflow:5001/#/experiments/1\n",
      "Skipped {'n_estimators': 50, 'max_depth': 20, 'min_samples_split': 5, 'min_samples_leaf': 2, 'max_features': 'auto'}: The 'max_features' parameter of RandomForestClassifier must be an int in the range [1, inf), a float in the range (0.0, 1.0], a str among {'log2', 'sqrt'} or None. Got 'auto' instead.\n",
      "🏃 View run rf_n_estimators=50_max_depth=20_min_samples_split=5_min_samples_leaf=2_max_features=auto at: http://mlflow:5001/#/experiments/1/runs/53fce6e9ca1b4b0394e9a7d8863dfe55\n",
      "🧪 View experiment at: http://mlflow:5001/#/experiments/1\n",
      "🏃 View run rf_n_estimators=50_max_depth=20_min_samples_split=5_min_samples_leaf=2_max_features=sqrt at: http://mlflow:5001/#/experiments/1/runs/848a07330a304e3990f709af835e2071\n",
      "🧪 View experiment at: http://mlflow:5001/#/experiments/1\n",
      "🏃 View run rf_n_estimators=50_max_depth=20_min_samples_split=5_min_samples_leaf=2_max_features=log2 at: http://mlflow:5001/#/experiments/1/runs/f97e1626fca64a9b9863f3af6905f275\n",
      "🧪 View experiment at: http://mlflow:5001/#/experiments/1\n",
      "Skipped {'n_estimators': 100, 'max_depth': None, 'min_samples_split': 2, 'min_samples_leaf': 1, 'max_features': 'auto'}: The 'max_features' parameter of RandomForestClassifier must be an int in the range [1, inf), a float in the range (0.0, 1.0], a str among {'log2', 'sqrt'} or None. Got 'auto' instead.\n",
      "🏃 View run rf_n_estimators=100_max_depth=None_min_samples_split=2_min_samples_leaf=1_max_features=auto at: http://mlflow:5001/#/experiments/1/runs/d9e47f1cd1c445ecb3efdd72328f5c9d\n",
      "🧪 View experiment at: http://mlflow:5001/#/experiments/1\n",
      "🏃 View run rf_n_estimators=100_max_depth=None_min_samples_split=2_min_samples_leaf=1_max_features=sqrt at: http://mlflow:5001/#/experiments/1/runs/103314b2ccf044d6bfa23e1f735a2d07\n",
      "🧪 View experiment at: http://mlflow:5001/#/experiments/1\n",
      "🏃 View run rf_n_estimators=100_max_depth=None_min_samples_split=2_min_samples_leaf=1_max_features=log2 at: http://mlflow:5001/#/experiments/1/runs/47a5d1cf8d024c11930c381cb4efd8bd\n",
      "🧪 View experiment at: http://mlflow:5001/#/experiments/1\n",
      "Skipped {'n_estimators': 100, 'max_depth': None, 'min_samples_split': 2, 'min_samples_leaf': 2, 'max_features': 'auto'}: The 'max_features' parameter of RandomForestClassifier must be an int in the range [1, inf), a float in the range (0.0, 1.0], a str among {'log2', 'sqrt'} or None. Got 'auto' instead.\n",
      "🏃 View run rf_n_estimators=100_max_depth=None_min_samples_split=2_min_samples_leaf=2_max_features=auto at: http://mlflow:5001/#/experiments/1/runs/8137e225ae0a48d8ac0d2ccdd61b2e6e\n",
      "🧪 View experiment at: http://mlflow:5001/#/experiments/1\n",
      "🏃 View run rf_n_estimators=100_max_depth=None_min_samples_split=2_min_samples_leaf=2_max_features=sqrt at: http://mlflow:5001/#/experiments/1/runs/86ddfcb1b8354d58a9f0f35a150f4dac\n",
      "🧪 View experiment at: http://mlflow:5001/#/experiments/1\n",
      "🏃 View run rf_n_estimators=100_max_depth=None_min_samples_split=2_min_samples_leaf=2_max_features=log2 at: http://mlflow:5001/#/experiments/1/runs/9274b64a8c6a46078b3c5bdf1951ac51\n",
      "🧪 View experiment at: http://mlflow:5001/#/experiments/1\n",
      "Skipped {'n_estimators': 100, 'max_depth': None, 'min_samples_split': 5, 'min_samples_leaf': 1, 'max_features': 'auto'}: The 'max_features' parameter of RandomForestClassifier must be an int in the range [1, inf), a float in the range (0.0, 1.0], a str among {'log2', 'sqrt'} or None. Got 'auto' instead.\n",
      "🏃 View run rf_n_estimators=100_max_depth=None_min_samples_split=5_min_samples_leaf=1_max_features=auto at: http://mlflow:5001/#/experiments/1/runs/281d038c4ade4f4b818d266192e7fc36\n",
      "🧪 View experiment at: http://mlflow:5001/#/experiments/1\n",
      "🏃 View run rf_n_estimators=100_max_depth=None_min_samples_split=5_min_samples_leaf=1_max_features=sqrt at: http://mlflow:5001/#/experiments/1/runs/c63d2004a819404ab8127bac72d5c602\n",
      "🧪 View experiment at: http://mlflow:5001/#/experiments/1\n",
      "🏃 View run rf_n_estimators=100_max_depth=None_min_samples_split=5_min_samples_leaf=1_max_features=log2 at: http://mlflow:5001/#/experiments/1/runs/4f1a86fc01e748f7b13d2c51dbac36ca\n",
      "🧪 View experiment at: http://mlflow:5001/#/experiments/1\n",
      "Skipped {'n_estimators': 100, 'max_depth': None, 'min_samples_split': 5, 'min_samples_leaf': 2, 'max_features': 'auto'}: The 'max_features' parameter of RandomForestClassifier must be an int in the range [1, inf), a float in the range (0.0, 1.0], a str among {'log2', 'sqrt'} or None. Got 'auto' instead.\n",
      "🏃 View run rf_n_estimators=100_max_depth=None_min_samples_split=5_min_samples_leaf=2_max_features=auto at: http://mlflow:5001/#/experiments/1/runs/a39798138cf4424eba10e497bf89a0be\n",
      "🧪 View experiment at: http://mlflow:5001/#/experiments/1\n",
      "🏃 View run rf_n_estimators=100_max_depth=None_min_samples_split=5_min_samples_leaf=2_max_features=sqrt at: http://mlflow:5001/#/experiments/1/runs/c1a4962985574dc899f5a7835bf7b7d4\n",
      "🧪 View experiment at: http://mlflow:5001/#/experiments/1\n",
      "🏃 View run rf_n_estimators=100_max_depth=None_min_samples_split=5_min_samples_leaf=2_max_features=log2 at: http://mlflow:5001/#/experiments/1/runs/dfaec77e22a24a3fbda301508824c1f5\n",
      "🧪 View experiment at: http://mlflow:5001/#/experiments/1\n",
      "Skipped {'n_estimators': 100, 'max_depth': 5, 'min_samples_split': 2, 'min_samples_leaf': 1, 'max_features': 'auto'}: The 'max_features' parameter of RandomForestClassifier must be an int in the range [1, inf), a float in the range (0.0, 1.0], a str among {'log2', 'sqrt'} or None. Got 'auto' instead.\n",
      "🏃 View run rf_n_estimators=100_max_depth=5_min_samples_split=2_min_samples_leaf=1_max_features=auto at: http://mlflow:5001/#/experiments/1/runs/6492b821378c41008fad8425a4e02f23\n",
      "🧪 View experiment at: http://mlflow:5001/#/experiments/1\n",
      "🏃 View run rf_n_estimators=100_max_depth=5_min_samples_split=2_min_samples_leaf=1_max_features=sqrt at: http://mlflow:5001/#/experiments/1/runs/f2f1b49cbd4041058d5d2f421f95a4ba\n",
      "🧪 View experiment at: http://mlflow:5001/#/experiments/1\n",
      "🏃 View run rf_n_estimators=100_max_depth=5_min_samples_split=2_min_samples_leaf=1_max_features=log2 at: http://mlflow:5001/#/experiments/1/runs/4ecd659d26a74e8ea2739c9e477579b9\n",
      "🧪 View experiment at: http://mlflow:5001/#/experiments/1\n",
      "Skipped {'n_estimators': 100, 'max_depth': 5, 'min_samples_split': 2, 'min_samples_leaf': 2, 'max_features': 'auto'}: The 'max_features' parameter of RandomForestClassifier must be an int in the range [1, inf), a float in the range (0.0, 1.0], a str among {'log2', 'sqrt'} or None. Got 'auto' instead.\n",
      "🏃 View run rf_n_estimators=100_max_depth=5_min_samples_split=2_min_samples_leaf=2_max_features=auto at: http://mlflow:5001/#/experiments/1/runs/ef63679079754f9bb83c1c99a3671f67\n",
      "🧪 View experiment at: http://mlflow:5001/#/experiments/1\n",
      "🏃 View run rf_n_estimators=100_max_depth=5_min_samples_split=2_min_samples_leaf=2_max_features=sqrt at: http://mlflow:5001/#/experiments/1/runs/72664c13986c4e8cadce77a7f16a579b\n",
      "🧪 View experiment at: http://mlflow:5001/#/experiments/1\n",
      "🏃 View run rf_n_estimators=100_max_depth=5_min_samples_split=2_min_samples_leaf=2_max_features=log2 at: http://mlflow:5001/#/experiments/1/runs/207939f0696241c0967c714d9c00e53e\n",
      "🧪 View experiment at: http://mlflow:5001/#/experiments/1\n",
      "Skipped {'n_estimators': 100, 'max_depth': 5, 'min_samples_split': 5, 'min_samples_leaf': 1, 'max_features': 'auto'}: The 'max_features' parameter of RandomForestClassifier must be an int in the range [1, inf), a float in the range (0.0, 1.0], a str among {'log2', 'sqrt'} or None. Got 'auto' instead.\n",
      "🏃 View run rf_n_estimators=100_max_depth=5_min_samples_split=5_min_samples_leaf=1_max_features=auto at: http://mlflow:5001/#/experiments/1/runs/345e347740de4f218f000d0c020c9ae1\n",
      "🧪 View experiment at: http://mlflow:5001/#/experiments/1\n",
      "🏃 View run rf_n_estimators=100_max_depth=5_min_samples_split=5_min_samples_leaf=1_max_features=sqrt at: http://mlflow:5001/#/experiments/1/runs/b7b054fbaec34f58a2e8cfac08a4bd61\n",
      "🧪 View experiment at: http://mlflow:5001/#/experiments/1\n",
      "🏃 View run rf_n_estimators=100_max_depth=5_min_samples_split=5_min_samples_leaf=1_max_features=log2 at: http://mlflow:5001/#/experiments/1/runs/e4034236d38a4d00996b976410287cbc\n",
      "🧪 View experiment at: http://mlflow:5001/#/experiments/1\n",
      "Skipped {'n_estimators': 100, 'max_depth': 5, 'min_samples_split': 5, 'min_samples_leaf': 2, 'max_features': 'auto'}: The 'max_features' parameter of RandomForestClassifier must be an int in the range [1, inf), a float in the range (0.0, 1.0], a str among {'log2', 'sqrt'} or None. Got 'auto' instead.\n",
      "🏃 View run rf_n_estimators=100_max_depth=5_min_samples_split=5_min_samples_leaf=2_max_features=auto at: http://mlflow:5001/#/experiments/1/runs/7759d23dac754767a0164f23b6f02df2\n",
      "🧪 View experiment at: http://mlflow:5001/#/experiments/1\n",
      "🏃 View run rf_n_estimators=100_max_depth=5_min_samples_split=5_min_samples_leaf=2_max_features=sqrt at: http://mlflow:5001/#/experiments/1/runs/de0f4edc67a34fb8b58668cb332d717a\n",
      "🧪 View experiment at: http://mlflow:5001/#/experiments/1\n",
      "🏃 View run rf_n_estimators=100_max_depth=5_min_samples_split=5_min_samples_leaf=2_max_features=log2 at: http://mlflow:5001/#/experiments/1/runs/1c96bdbba6f94c46a9870b5e41b9152b\n",
      "🧪 View experiment at: http://mlflow:5001/#/experiments/1\n",
      "Skipped {'n_estimators': 100, 'max_depth': 10, 'min_samples_split': 2, 'min_samples_leaf': 1, 'max_features': 'auto'}: The 'max_features' parameter of RandomForestClassifier must be an int in the range [1, inf), a float in the range (0.0, 1.0], a str among {'log2', 'sqrt'} or None. Got 'auto' instead.\n",
      "🏃 View run rf_n_estimators=100_max_depth=10_min_samples_split=2_min_samples_leaf=1_max_features=auto at: http://mlflow:5001/#/experiments/1/runs/aff1273b2cc24189be4c4386ed3b41f3\n",
      "🧪 View experiment at: http://mlflow:5001/#/experiments/1\n",
      "🏃 View run rf_n_estimators=100_max_depth=10_min_samples_split=2_min_samples_leaf=1_max_features=sqrt at: http://mlflow:5001/#/experiments/1/runs/ff563f2e2bf44e689f0dcdcf1e9a81af\n",
      "🧪 View experiment at: http://mlflow:5001/#/experiments/1\n",
      "🏃 View run rf_n_estimators=100_max_depth=10_min_samples_split=2_min_samples_leaf=1_max_features=log2 at: http://mlflow:5001/#/experiments/1/runs/4886093214614afd8094fd90f4ca41fb\n",
      "🧪 View experiment at: http://mlflow:5001/#/experiments/1\n",
      "Skipped {'n_estimators': 100, 'max_depth': 10, 'min_samples_split': 2, 'min_samples_leaf': 2, 'max_features': 'auto'}: The 'max_features' parameter of RandomForestClassifier must be an int in the range [1, inf), a float in the range (0.0, 1.0], a str among {'log2', 'sqrt'} or None. Got 'auto' instead.\n",
      "🏃 View run rf_n_estimators=100_max_depth=10_min_samples_split=2_min_samples_leaf=2_max_features=auto at: http://mlflow:5001/#/experiments/1/runs/17cc6fefa9824748936483edc1d01cc4\n",
      "🧪 View experiment at: http://mlflow:5001/#/experiments/1\n",
      "🏃 View run rf_n_estimators=100_max_depth=10_min_samples_split=2_min_samples_leaf=2_max_features=sqrt at: http://mlflow:5001/#/experiments/1/runs/78c0526197834346950d25ba02b7680a\n",
      "🧪 View experiment at: http://mlflow:5001/#/experiments/1\n",
      "🏃 View run rf_n_estimators=100_max_depth=10_min_samples_split=2_min_samples_leaf=2_max_features=log2 at: http://mlflow:5001/#/experiments/1/runs/7f38e8e84ab84ec9b81f4ba05382ebfb\n",
      "🧪 View experiment at: http://mlflow:5001/#/experiments/1\n",
      "Skipped {'n_estimators': 100, 'max_depth': 10, 'min_samples_split': 5, 'min_samples_leaf': 1, 'max_features': 'auto'}: The 'max_features' parameter of RandomForestClassifier must be an int in the range [1, inf), a float in the range (0.0, 1.0], a str among {'log2', 'sqrt'} or None. Got 'auto' instead.\n",
      "🏃 View run rf_n_estimators=100_max_depth=10_min_samples_split=5_min_samples_leaf=1_max_features=auto at: http://mlflow:5001/#/experiments/1/runs/d042a85b2fb149f183660cd98c0c7f88\n",
      "🧪 View experiment at: http://mlflow:5001/#/experiments/1\n",
      "🏃 View run rf_n_estimators=100_max_depth=10_min_samples_split=5_min_samples_leaf=1_max_features=sqrt at: http://mlflow:5001/#/experiments/1/runs/3b290e1cf52748839c09e03182975120\n",
      "🧪 View experiment at: http://mlflow:5001/#/experiments/1\n",
      "🏃 View run rf_n_estimators=100_max_depth=10_min_samples_split=5_min_samples_leaf=1_max_features=log2 at: http://mlflow:5001/#/experiments/1/runs/53b3d9feffd7498ebaa022e0d2536e01\n",
      "🧪 View experiment at: http://mlflow:5001/#/experiments/1\n",
      "Skipped {'n_estimators': 100, 'max_depth': 10, 'min_samples_split': 5, 'min_samples_leaf': 2, 'max_features': 'auto'}: The 'max_features' parameter of RandomForestClassifier must be an int in the range [1, inf), a float in the range (0.0, 1.0], a str among {'log2', 'sqrt'} or None. Got 'auto' instead.\n",
      "🏃 View run rf_n_estimators=100_max_depth=10_min_samples_split=5_min_samples_leaf=2_max_features=auto at: http://mlflow:5001/#/experiments/1/runs/17728747d95443ebad0b9cbae3423b4c\n",
      "🧪 View experiment at: http://mlflow:5001/#/experiments/1\n",
      "🏃 View run rf_n_estimators=100_max_depth=10_min_samples_split=5_min_samples_leaf=2_max_features=sqrt at: http://mlflow:5001/#/experiments/1/runs/512eefad41424f6cb5715a8964320b4b\n",
      "🧪 View experiment at: http://mlflow:5001/#/experiments/1\n",
      "🏃 View run rf_n_estimators=100_max_depth=10_min_samples_split=5_min_samples_leaf=2_max_features=log2 at: http://mlflow:5001/#/experiments/1/runs/143ce23f582e4af2985d37bc86e4d913\n",
      "🧪 View experiment at: http://mlflow:5001/#/experiments/1\n",
      "Skipped {'n_estimators': 100, 'max_depth': 20, 'min_samples_split': 2, 'min_samples_leaf': 1, 'max_features': 'auto'}: The 'max_features' parameter of RandomForestClassifier must be an int in the range [1, inf), a float in the range (0.0, 1.0], a str among {'log2', 'sqrt'} or None. Got 'auto' instead.\n",
      "🏃 View run rf_n_estimators=100_max_depth=20_min_samples_split=2_min_samples_leaf=1_max_features=auto at: http://mlflow:5001/#/experiments/1/runs/6f177764870d469b92cf1c7665fe6f32\n",
      "🧪 View experiment at: http://mlflow:5001/#/experiments/1\n",
      "🏃 View run rf_n_estimators=100_max_depth=20_min_samples_split=2_min_samples_leaf=1_max_features=sqrt at: http://mlflow:5001/#/experiments/1/runs/1590698a980941e791d0e6640e0da178\n",
      "🧪 View experiment at: http://mlflow:5001/#/experiments/1\n",
      "🏃 View run rf_n_estimators=100_max_depth=20_min_samples_split=2_min_samples_leaf=1_max_features=log2 at: http://mlflow:5001/#/experiments/1/runs/2b68b5c9460047adbc4e356a8f944a9b\n",
      "🧪 View experiment at: http://mlflow:5001/#/experiments/1\n",
      "Skipped {'n_estimators': 100, 'max_depth': 20, 'min_samples_split': 2, 'min_samples_leaf': 2, 'max_features': 'auto'}: The 'max_features' parameter of RandomForestClassifier must be an int in the range [1, inf), a float in the range (0.0, 1.0], a str among {'log2', 'sqrt'} or None. Got 'auto' instead.\n",
      "🏃 View run rf_n_estimators=100_max_depth=20_min_samples_split=2_min_samples_leaf=2_max_features=auto at: http://mlflow:5001/#/experiments/1/runs/493363b970534cb99ebddbe359758b1c\n",
      "🧪 View experiment at: http://mlflow:5001/#/experiments/1\n",
      "🏃 View run rf_n_estimators=100_max_depth=20_min_samples_split=2_min_samples_leaf=2_max_features=sqrt at: http://mlflow:5001/#/experiments/1/runs/6328ba67f3934d60ad2ce56787e3407f\n",
      "🧪 View experiment at: http://mlflow:5001/#/experiments/1\n",
      "🏃 View run rf_n_estimators=100_max_depth=20_min_samples_split=2_min_samples_leaf=2_max_features=log2 at: http://mlflow:5001/#/experiments/1/runs/d92ba5e5fd094d22b371b822237d6cbf\n",
      "🧪 View experiment at: http://mlflow:5001/#/experiments/1\n",
      "Skipped {'n_estimators': 100, 'max_depth': 20, 'min_samples_split': 5, 'min_samples_leaf': 1, 'max_features': 'auto'}: The 'max_features' parameter of RandomForestClassifier must be an int in the range [1, inf), a float in the range (0.0, 1.0], a str among {'log2', 'sqrt'} or None. Got 'auto' instead.\n",
      "🏃 View run rf_n_estimators=100_max_depth=20_min_samples_split=5_min_samples_leaf=1_max_features=auto at: http://mlflow:5001/#/experiments/1/runs/4d6ea484a2de42baaa97b43a29d35b6c\n",
      "🧪 View experiment at: http://mlflow:5001/#/experiments/1\n",
      "🏃 View run rf_n_estimators=100_max_depth=20_min_samples_split=5_min_samples_leaf=1_max_features=sqrt at: http://mlflow:5001/#/experiments/1/runs/09f3e3f2132f4154aa7ad111103969ce\n",
      "🧪 View experiment at: http://mlflow:5001/#/experiments/1\n",
      "🏃 View run rf_n_estimators=100_max_depth=20_min_samples_split=5_min_samples_leaf=1_max_features=log2 at: http://mlflow:5001/#/experiments/1/runs/d74f32e39fa241cbb247fab9680fbe45\n",
      "🧪 View experiment at: http://mlflow:5001/#/experiments/1\n",
      "Skipped {'n_estimators': 100, 'max_depth': 20, 'min_samples_split': 5, 'min_samples_leaf': 2, 'max_features': 'auto'}: The 'max_features' parameter of RandomForestClassifier must be an int in the range [1, inf), a float in the range (0.0, 1.0], a str among {'log2', 'sqrt'} or None. Got 'auto' instead.\n",
      "🏃 View run rf_n_estimators=100_max_depth=20_min_samples_split=5_min_samples_leaf=2_max_features=auto at: http://mlflow:5001/#/experiments/1/runs/6d120bb9afdc45a28a2035dbcbb2e65a\n",
      "🧪 View experiment at: http://mlflow:5001/#/experiments/1\n",
      "🏃 View run rf_n_estimators=100_max_depth=20_min_samples_split=5_min_samples_leaf=2_max_features=sqrt at: http://mlflow:5001/#/experiments/1/runs/f3c942bb2f234742828980ba442fa263\n",
      "🧪 View experiment at: http://mlflow:5001/#/experiments/1\n",
      "🏃 View run rf_n_estimators=100_max_depth=20_min_samples_split=5_min_samples_leaf=2_max_features=log2 at: http://mlflow:5001/#/experiments/1/runs/47f5cf58f1c947f8b51a62bb8184ce00\n",
      "🧪 View experiment at: http://mlflow:5001/#/experiments/1\n",
      "Skipped {'n_estimators': 200, 'max_depth': None, 'min_samples_split': 2, 'min_samples_leaf': 1, 'max_features': 'auto'}: The 'max_features' parameter of RandomForestClassifier must be an int in the range [1, inf), a float in the range (0.0, 1.0], a str among {'log2', 'sqrt'} or None. Got 'auto' instead.\n",
      "🏃 View run rf_n_estimators=200_max_depth=None_min_samples_split=2_min_samples_leaf=1_max_features=auto at: http://mlflow:5001/#/experiments/1/runs/f101a89ca88044c0828a03d3b4714d6e\n",
      "🧪 View experiment at: http://mlflow:5001/#/experiments/1\n",
      "🏃 View run rf_n_estimators=200_max_depth=None_min_samples_split=2_min_samples_leaf=1_max_features=sqrt at: http://mlflow:5001/#/experiments/1/runs/d457d9551f9a424fb0e5c83853f3c75d\n",
      "🧪 View experiment at: http://mlflow:5001/#/experiments/1\n",
      "🏃 View run rf_n_estimators=200_max_depth=None_min_samples_split=2_min_samples_leaf=1_max_features=log2 at: http://mlflow:5001/#/experiments/1/runs/a0f67251fd104441832f5fb1144fa795\n",
      "🧪 View experiment at: http://mlflow:5001/#/experiments/1\n",
      "Skipped {'n_estimators': 200, 'max_depth': None, 'min_samples_split': 2, 'min_samples_leaf': 2, 'max_features': 'auto'}: The 'max_features' parameter of RandomForestClassifier must be an int in the range [1, inf), a float in the range (0.0, 1.0], a str among {'log2', 'sqrt'} or None. Got 'auto' instead.\n",
      "🏃 View run rf_n_estimators=200_max_depth=None_min_samples_split=2_min_samples_leaf=2_max_features=auto at: http://mlflow:5001/#/experiments/1/runs/dc3f9989f00540fba95483c56a0d9b39\n",
      "🧪 View experiment at: http://mlflow:5001/#/experiments/1\n",
      "🏃 View run rf_n_estimators=200_max_depth=None_min_samples_split=2_min_samples_leaf=2_max_features=sqrt at: http://mlflow:5001/#/experiments/1/runs/6420db9d6933411284ad48afcf9e190a\n",
      "🧪 View experiment at: http://mlflow:5001/#/experiments/1\n",
      "🏃 View run rf_n_estimators=200_max_depth=None_min_samples_split=2_min_samples_leaf=2_max_features=log2 at: http://mlflow:5001/#/experiments/1/runs/94b2c595b0c148ae86dd359c74235e63\n",
      "🧪 View experiment at: http://mlflow:5001/#/experiments/1\n",
      "Skipped {'n_estimators': 200, 'max_depth': None, 'min_samples_split': 5, 'min_samples_leaf': 1, 'max_features': 'auto'}: The 'max_features' parameter of RandomForestClassifier must be an int in the range [1, inf), a float in the range (0.0, 1.0], a str among {'log2', 'sqrt'} or None. Got 'auto' instead.\n",
      "🏃 View run rf_n_estimators=200_max_depth=None_min_samples_split=5_min_samples_leaf=1_max_features=auto at: http://mlflow:5001/#/experiments/1/runs/ee045e9c97604c35a1d259e37c36f9d0\n",
      "🧪 View experiment at: http://mlflow:5001/#/experiments/1\n",
      "🏃 View run rf_n_estimators=200_max_depth=None_min_samples_split=5_min_samples_leaf=1_max_features=sqrt at: http://mlflow:5001/#/experiments/1/runs/b1947108d47d450dbb314e6a4186b97d\n",
      "🧪 View experiment at: http://mlflow:5001/#/experiments/1\n",
      "🏃 View run rf_n_estimators=200_max_depth=None_min_samples_split=5_min_samples_leaf=1_max_features=log2 at: http://mlflow:5001/#/experiments/1/runs/3afb0b8925ae45539df0ccc76af44371\n",
      "🧪 View experiment at: http://mlflow:5001/#/experiments/1\n",
      "Skipped {'n_estimators': 200, 'max_depth': None, 'min_samples_split': 5, 'min_samples_leaf': 2, 'max_features': 'auto'}: The 'max_features' parameter of RandomForestClassifier must be an int in the range [1, inf), a float in the range (0.0, 1.0], a str among {'log2', 'sqrt'} or None. Got 'auto' instead.\n",
      "🏃 View run rf_n_estimators=200_max_depth=None_min_samples_split=5_min_samples_leaf=2_max_features=auto at: http://mlflow:5001/#/experiments/1/runs/5dd9426bd5904757a38d7023afb2407c\n",
      "🧪 View experiment at: http://mlflow:5001/#/experiments/1\n",
      "🏃 View run rf_n_estimators=200_max_depth=None_min_samples_split=5_min_samples_leaf=2_max_features=sqrt at: http://mlflow:5001/#/experiments/1/runs/d1e2424b807d41b8a9c14c0f353ee6dc\n",
      "🧪 View experiment at: http://mlflow:5001/#/experiments/1\n",
      "🏃 View run rf_n_estimators=200_max_depth=None_min_samples_split=5_min_samples_leaf=2_max_features=log2 at: http://mlflow:5001/#/experiments/1/runs/fb5ff6f9888340ceb2644e72567dc6a3\n",
      "🧪 View experiment at: http://mlflow:5001/#/experiments/1\n",
      "Skipped {'n_estimators': 200, 'max_depth': 5, 'min_samples_split': 2, 'min_samples_leaf': 1, 'max_features': 'auto'}: The 'max_features' parameter of RandomForestClassifier must be an int in the range [1, inf), a float in the range (0.0, 1.0], a str among {'log2', 'sqrt'} or None. Got 'auto' instead.\n",
      "🏃 View run rf_n_estimators=200_max_depth=5_min_samples_split=2_min_samples_leaf=1_max_features=auto at: http://mlflow:5001/#/experiments/1/runs/a572d9536f9647c8ae3897d82ea18ef4\n",
      "🧪 View experiment at: http://mlflow:5001/#/experiments/1\n",
      "🏃 View run rf_n_estimators=200_max_depth=5_min_samples_split=2_min_samples_leaf=1_max_features=sqrt at: http://mlflow:5001/#/experiments/1/runs/9960520a286f4b228dc34e3181e331de\n",
      "🧪 View experiment at: http://mlflow:5001/#/experiments/1\n",
      "🏃 View run rf_n_estimators=200_max_depth=5_min_samples_split=2_min_samples_leaf=1_max_features=log2 at: http://mlflow:5001/#/experiments/1/runs/745b1085925442428f183c17f39d902c\n",
      "🧪 View experiment at: http://mlflow:5001/#/experiments/1\n",
      "Skipped {'n_estimators': 200, 'max_depth': 5, 'min_samples_split': 2, 'min_samples_leaf': 2, 'max_features': 'auto'}: The 'max_features' parameter of RandomForestClassifier must be an int in the range [1, inf), a float in the range (0.0, 1.0], a str among {'log2', 'sqrt'} or None. Got 'auto' instead.\n",
      "🏃 View run rf_n_estimators=200_max_depth=5_min_samples_split=2_min_samples_leaf=2_max_features=auto at: http://mlflow:5001/#/experiments/1/runs/1ad136b4353a4f53bef44d81065cff4c\n",
      "🧪 View experiment at: http://mlflow:5001/#/experiments/1\n",
      "🏃 View run rf_n_estimators=200_max_depth=5_min_samples_split=2_min_samples_leaf=2_max_features=sqrt at: http://mlflow:5001/#/experiments/1/runs/6ec85527be844c54ae11fa9231aeb858\n",
      "🧪 View experiment at: http://mlflow:5001/#/experiments/1\n",
      "🏃 View run rf_n_estimators=200_max_depth=5_min_samples_split=2_min_samples_leaf=2_max_features=log2 at: http://mlflow:5001/#/experiments/1/runs/17073733ba1b4b298960fa9282bd542f\n",
      "🧪 View experiment at: http://mlflow:5001/#/experiments/1\n",
      "Skipped {'n_estimators': 200, 'max_depth': 5, 'min_samples_split': 5, 'min_samples_leaf': 1, 'max_features': 'auto'}: The 'max_features' parameter of RandomForestClassifier must be an int in the range [1, inf), a float in the range (0.0, 1.0], a str among {'log2', 'sqrt'} or None. Got 'auto' instead.\n",
      "🏃 View run rf_n_estimators=200_max_depth=5_min_samples_split=5_min_samples_leaf=1_max_features=auto at: http://mlflow:5001/#/experiments/1/runs/a881d88371e34a2aabba224f4953cfac\n",
      "🧪 View experiment at: http://mlflow:5001/#/experiments/1\n",
      "🏃 View run rf_n_estimators=200_max_depth=5_min_samples_split=5_min_samples_leaf=1_max_features=sqrt at: http://mlflow:5001/#/experiments/1/runs/9032b82e082c4461adce44c9638ec9fa\n",
      "🧪 View experiment at: http://mlflow:5001/#/experiments/1\n",
      "🏃 View run rf_n_estimators=200_max_depth=5_min_samples_split=5_min_samples_leaf=1_max_features=log2 at: http://mlflow:5001/#/experiments/1/runs/98effc1e2c0d46eeb13cb33af95fb0d3\n",
      "🧪 View experiment at: http://mlflow:5001/#/experiments/1\n",
      "Skipped {'n_estimators': 200, 'max_depth': 5, 'min_samples_split': 5, 'min_samples_leaf': 2, 'max_features': 'auto'}: The 'max_features' parameter of RandomForestClassifier must be an int in the range [1, inf), a float in the range (0.0, 1.0], a str among {'log2', 'sqrt'} or None. Got 'auto' instead.\n",
      "🏃 View run rf_n_estimators=200_max_depth=5_min_samples_split=5_min_samples_leaf=2_max_features=auto at: http://mlflow:5001/#/experiments/1/runs/a7d28fc2110f4f59b8c11e76d0a46d93\n",
      "🧪 View experiment at: http://mlflow:5001/#/experiments/1\n",
      "🏃 View run rf_n_estimators=200_max_depth=5_min_samples_split=5_min_samples_leaf=2_max_features=sqrt at: http://mlflow:5001/#/experiments/1/runs/2e09d60c86c946d583783253c82d3ec1\n",
      "🧪 View experiment at: http://mlflow:5001/#/experiments/1\n",
      "🏃 View run rf_n_estimators=200_max_depth=5_min_samples_split=5_min_samples_leaf=2_max_features=log2 at: http://mlflow:5001/#/experiments/1/runs/ef7b953798474cdb8e87746242c5aecb\n",
      "🧪 View experiment at: http://mlflow:5001/#/experiments/1\n",
      "Skipped {'n_estimators': 200, 'max_depth': 10, 'min_samples_split': 2, 'min_samples_leaf': 1, 'max_features': 'auto'}: The 'max_features' parameter of RandomForestClassifier must be an int in the range [1, inf), a float in the range (0.0, 1.0], a str among {'log2', 'sqrt'} or None. Got 'auto' instead.\n",
      "🏃 View run rf_n_estimators=200_max_depth=10_min_samples_split=2_min_samples_leaf=1_max_features=auto at: http://mlflow:5001/#/experiments/1/runs/706e66afd3a7489cbb7c4229663635c6\n",
      "🧪 View experiment at: http://mlflow:5001/#/experiments/1\n",
      "🏃 View run rf_n_estimators=200_max_depth=10_min_samples_split=2_min_samples_leaf=1_max_features=sqrt at: http://mlflow:5001/#/experiments/1/runs/c1c2c8a2234b43f58855c2c448a72726\n",
      "🧪 View experiment at: http://mlflow:5001/#/experiments/1\n",
      "🏃 View run rf_n_estimators=200_max_depth=10_min_samples_split=2_min_samples_leaf=1_max_features=log2 at: http://mlflow:5001/#/experiments/1/runs/b5673a4a0e8245adab8716d4a757bb04\n",
      "🧪 View experiment at: http://mlflow:5001/#/experiments/1\n",
      "Skipped {'n_estimators': 200, 'max_depth': 10, 'min_samples_split': 2, 'min_samples_leaf': 2, 'max_features': 'auto'}: The 'max_features' parameter of RandomForestClassifier must be an int in the range [1, inf), a float in the range (0.0, 1.0], a str among {'log2', 'sqrt'} or None. Got 'auto' instead.\n",
      "🏃 View run rf_n_estimators=200_max_depth=10_min_samples_split=2_min_samples_leaf=2_max_features=auto at: http://mlflow:5001/#/experiments/1/runs/6dd51d17d77d45659084db2a967d59a5\n",
      "🧪 View experiment at: http://mlflow:5001/#/experiments/1\n",
      "🏃 View run rf_n_estimators=200_max_depth=10_min_samples_split=2_min_samples_leaf=2_max_features=sqrt at: http://mlflow:5001/#/experiments/1/runs/008ad7491db64a6c8402568fd56c8cd1\n",
      "🧪 View experiment at: http://mlflow:5001/#/experiments/1\n",
      "🏃 View run rf_n_estimators=200_max_depth=10_min_samples_split=2_min_samples_leaf=2_max_features=log2 at: http://mlflow:5001/#/experiments/1/runs/74459a96dc584d529cd7faed52f7f9ac\n",
      "🧪 View experiment at: http://mlflow:5001/#/experiments/1\n",
      "Skipped {'n_estimators': 200, 'max_depth': 10, 'min_samples_split': 5, 'min_samples_leaf': 1, 'max_features': 'auto'}: The 'max_features' parameter of RandomForestClassifier must be an int in the range [1, inf), a float in the range (0.0, 1.0], a str among {'log2', 'sqrt'} or None. Got 'auto' instead.\n",
      "🏃 View run rf_n_estimators=200_max_depth=10_min_samples_split=5_min_samples_leaf=1_max_features=auto at: http://mlflow:5001/#/experiments/1/runs/1eb335b715c641d49fbd59671082647f\n",
      "🧪 View experiment at: http://mlflow:5001/#/experiments/1\n",
      "🏃 View run rf_n_estimators=200_max_depth=10_min_samples_split=5_min_samples_leaf=1_max_features=sqrt at: http://mlflow:5001/#/experiments/1/runs/0057ea095c9647edba398fc0b5fbee18\n",
      "🧪 View experiment at: http://mlflow:5001/#/experiments/1\n",
      "🏃 View run rf_n_estimators=200_max_depth=10_min_samples_split=5_min_samples_leaf=1_max_features=log2 at: http://mlflow:5001/#/experiments/1/runs/0ece9ec8ef864c0693b17332fb009a27\n",
      "🧪 View experiment at: http://mlflow:5001/#/experiments/1\n",
      "Skipped {'n_estimators': 200, 'max_depth': 10, 'min_samples_split': 5, 'min_samples_leaf': 2, 'max_features': 'auto'}: The 'max_features' parameter of RandomForestClassifier must be an int in the range [1, inf), a float in the range (0.0, 1.0], a str among {'log2', 'sqrt'} or None. Got 'auto' instead.\n",
      "🏃 View run rf_n_estimators=200_max_depth=10_min_samples_split=5_min_samples_leaf=2_max_features=auto at: http://mlflow:5001/#/experiments/1/runs/f1d52ad36ffd4b66add66bb701d6c814\n",
      "🧪 View experiment at: http://mlflow:5001/#/experiments/1\n",
      "🏃 View run rf_n_estimators=200_max_depth=10_min_samples_split=5_min_samples_leaf=2_max_features=sqrt at: http://mlflow:5001/#/experiments/1/runs/7a6f3af465cc4a69ae8760280de99305\n",
      "🧪 View experiment at: http://mlflow:5001/#/experiments/1\n",
      "🏃 View run rf_n_estimators=200_max_depth=10_min_samples_split=5_min_samples_leaf=2_max_features=log2 at: http://mlflow:5001/#/experiments/1/runs/9a82536c396449b4bf1ed135baf685e7\n",
      "🧪 View experiment at: http://mlflow:5001/#/experiments/1\n",
      "Skipped {'n_estimators': 200, 'max_depth': 20, 'min_samples_split': 2, 'min_samples_leaf': 1, 'max_features': 'auto'}: The 'max_features' parameter of RandomForestClassifier must be an int in the range [1, inf), a float in the range (0.0, 1.0], a str among {'log2', 'sqrt'} or None. Got 'auto' instead.\n",
      "🏃 View run rf_n_estimators=200_max_depth=20_min_samples_split=2_min_samples_leaf=1_max_features=auto at: http://mlflow:5001/#/experiments/1/runs/e201b3f8e13d4985ba1477fb1a15cd24\n",
      "🧪 View experiment at: http://mlflow:5001/#/experiments/1\n",
      "🏃 View run rf_n_estimators=200_max_depth=20_min_samples_split=2_min_samples_leaf=1_max_features=sqrt at: http://mlflow:5001/#/experiments/1/runs/0e723dd004244b56b0246645edffbc42\n",
      "🧪 View experiment at: http://mlflow:5001/#/experiments/1\n",
      "🏃 View run rf_n_estimators=200_max_depth=20_min_samples_split=2_min_samples_leaf=1_max_features=log2 at: http://mlflow:5001/#/experiments/1/runs/41b18c84c6ec4ff1be6a1cc0cd2020aa\n",
      "🧪 View experiment at: http://mlflow:5001/#/experiments/1\n",
      "Skipped {'n_estimators': 200, 'max_depth': 20, 'min_samples_split': 2, 'min_samples_leaf': 2, 'max_features': 'auto'}: The 'max_features' parameter of RandomForestClassifier must be an int in the range [1, inf), a float in the range (0.0, 1.0], a str among {'log2', 'sqrt'} or None. Got 'auto' instead.\n",
      "🏃 View run rf_n_estimators=200_max_depth=20_min_samples_split=2_min_samples_leaf=2_max_features=auto at: http://mlflow:5001/#/experiments/1/runs/dc2598708d1e4344abe43df9ea08deb5\n",
      "🧪 View experiment at: http://mlflow:5001/#/experiments/1\n",
      "🏃 View run rf_n_estimators=200_max_depth=20_min_samples_split=2_min_samples_leaf=2_max_features=sqrt at: http://mlflow:5001/#/experiments/1/runs/4204e0e979bc4e289c8c12882785372b\n",
      "🧪 View experiment at: http://mlflow:5001/#/experiments/1\n",
      "🏃 View run rf_n_estimators=200_max_depth=20_min_samples_split=2_min_samples_leaf=2_max_features=log2 at: http://mlflow:5001/#/experiments/1/runs/2908948ec81548c78d6d0c3ec2a37caa\n",
      "🧪 View experiment at: http://mlflow:5001/#/experiments/1\n",
      "Skipped {'n_estimators': 200, 'max_depth': 20, 'min_samples_split': 5, 'min_samples_leaf': 1, 'max_features': 'auto'}: The 'max_features' parameter of RandomForestClassifier must be an int in the range [1, inf), a float in the range (0.0, 1.0], a str among {'log2', 'sqrt'} or None. Got 'auto' instead.\n",
      "🏃 View run rf_n_estimators=200_max_depth=20_min_samples_split=5_min_samples_leaf=1_max_features=auto at: http://mlflow:5001/#/experiments/1/runs/8ce15b4170904465a8d4fcfba05ea9d0\n",
      "🧪 View experiment at: http://mlflow:5001/#/experiments/1\n",
      "🏃 View run rf_n_estimators=200_max_depth=20_min_samples_split=5_min_samples_leaf=1_max_features=sqrt at: http://mlflow:5001/#/experiments/1/runs/81cf5c6f9ed741acac504113333dd2b9\n",
      "🧪 View experiment at: http://mlflow:5001/#/experiments/1\n",
      "🏃 View run rf_n_estimators=200_max_depth=20_min_samples_split=5_min_samples_leaf=1_max_features=log2 at: http://mlflow:5001/#/experiments/1/runs/120ca50a27454cb896350d48bea63584\n",
      "🧪 View experiment at: http://mlflow:5001/#/experiments/1\n",
      "Skipped {'n_estimators': 200, 'max_depth': 20, 'min_samples_split': 5, 'min_samples_leaf': 2, 'max_features': 'auto'}: The 'max_features' parameter of RandomForestClassifier must be an int in the range [1, inf), a float in the range (0.0, 1.0], a str among {'log2', 'sqrt'} or None. Got 'auto' instead.\n",
      "🏃 View run rf_n_estimators=200_max_depth=20_min_samples_split=5_min_samples_leaf=2_max_features=auto at: http://mlflow:5001/#/experiments/1/runs/347ae799379f4d41a2513977336229fd\n",
      "🧪 View experiment at: http://mlflow:5001/#/experiments/1\n",
      "🏃 View run rf_n_estimators=200_max_depth=20_min_samples_split=5_min_samples_leaf=2_max_features=sqrt at: http://mlflow:5001/#/experiments/1/runs/e2fac16cea0245aa943a7abe5277ee6b\n",
      "🧪 View experiment at: http://mlflow:5001/#/experiments/1\n",
      "🏃 View run rf_n_estimators=200_max_depth=20_min_samples_split=5_min_samples_leaf=2_max_features=log2 at: http://mlflow:5001/#/experiments/1/runs/be640ec94743435d99022eab0dd74932\n",
      "🧪 View experiment at: http://mlflow:5001/#/experiments/1\n"
     ]
    },
    {
     "name": "stderr",
     "output_type": "stream",
     "text": [
      "Registered model 'creditkarma-scorer' already exists. Creating a new version of this model...\n",
      "2025/06/19 08:24:19 INFO mlflow.store.model_registry.abstract_store: Waiting up to 300 seconds for model version to finish creation. Model name: creditkarma-scorer, version 3\n",
      "Created version '3' of model 'creditkarma-scorer'.\n"
     ]
    },
    {
     "name": "stdout",
     "output_type": "stream",
     "text": [
      "✅ Logged and registered best model: runs:/19f5ab0b416b4682a8ea3065fd5d9d64/2024-09-01\n",
      "🏃 View run rf_best_model at: http://mlflow:5001/#/experiments/1/runs/19f5ab0b416b4682a8ea3065fd5d9d64\n",
      "🧪 View experiment at: http://mlflow:5001/#/experiments/1\n"
     ]
    }
   ],
   "source": [
    "from utils.model_training import model_training_logreg_main\n",
    "\n",
    "model_training_logreg_main(config)"
   ]
  }
 ],
 "metadata": {
  "kernelspec": {
   "display_name": "Python 3 (ipykernel)",
   "language": "python",
   "name": "python3"
  }
 },
 "nbformat": 4,
 "nbformat_minor": 5
}
